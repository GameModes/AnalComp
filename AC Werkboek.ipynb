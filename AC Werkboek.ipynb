{
 "cells": [
  {
   "cell_type": "markdown",
   "metadata": {
    "deletable": false,
    "editable": false
   },
   "source": [
    "# Werkboek Analytical Computing\n",
    "\n",
    "De inleveropdracht bestaat uit vier onderdelen, die allemaal in deze Jupyter Notebook zitten. Per week lever je een deel in, waarop je vervolgens feedback krijgt. Je kan deze feedback gebruiken om je werk te verbeteren, aan het einde van het blok wordt deze Notebook als portfolio beoordeeld voor je uiteindelijke cijfer.\n",
    "\n",
    "Iedere weekopdracht is verdeeld in een aantal deelopdrachten, dit kunnen zowel code-opdrachten (programmeer iets) als oefen-opdrachten (werk iets met de hand uit) zijn. Voor de oefen-opdrachten is een invul-cell beschikbaar die geel gemarkeerd is. Bij de code-opdrachten zal in de meeste gevallen aan het einde een test staan waarmee je kan zien of je code doet wat het moet doen. Iedere weekopdracht wordt afgesloten met een checkpoint, waar alle testen nog een keer herhaald worden. Als dit allemaal goed gaat kun je je werk op Canvas inleveren door een link naar je repository bij de juiste weekopdracht in te leveren. Ondanks de de naam \"oefen-opdracht\" zijn alle opdrachten summatief, en tellen alle opdrachten dus mee voor het eindcijfer.\n",
    "\n",
    "Voor je begint: voer het eerste code-blok uit voor alle imports. In dit blok moet je ook je studentnummer invullen.\n",
    "\n",
    "## Gebruik\n",
    "In Jupyter kan je code per cel uitvoeren. Deze cel is een tekstcel, als je deze uitvoert gebeurt er in principe niets. Je kunt wel dubbelklikken op de cell om de tekst aan te kunnen passen (dit zul je moeten doen bij de opdrachten waarbij je geen code maar tekst/formules moet schrijven). Als je de cel vervolgens uitvoert komt deze er weer als opgemaakte tekst uit te zien.\n",
    "\n",
    "Als je een code-cell uitvoert krijg je de uitvoer eronder te zien. Soms kan het zijn dat code niet uit wil voeren, zelfs code die al gegeven is. De meest gebruikelijke oorzaak is dat je een eerder code blok niet hebt uitgevoerd, waardoor Python functies of variabelen niet kan vinden. Loop de Notebook altijd van boven naar beneden door en voer in principe alles uit. Als je Jupyter afsluit en later verder gaat zal de uitvoer nog zichtbaar zijn, maar het effect van de code is niet bewaard gebleven. Je zal dan dus alle codeblokken tot waar je gebleven was opnieuw uit moeten voeren, van boven naar beneden. Gebruik de Run-knop in de toolbar of shift+enter om een blok uit te voeren.\n",
    "\n",
    "## Good Practice (AKA voorkomen dat je werk het ineens niet meer doet)\n",
    "Uitgevoerde code in een andere cel blijft in het geheugen, dus als je deze code verwijdert zie je niet meteen of je hele Notebook nog werkt. Let er daarom op als je Notebook op wilt schonen, de code soms blijft werken tot een herstart. **Als je docent de code nakijkt, start deze ook zonder alle verwijderde maar wel uitgevoerde code!** Om veilig code te verwijderen, kopieer het naar een ander document, verwijder het uit de Notebook en doe een *Restart en Run All*. Als alles nog werkt was de code niet nodig, zo niet moet je nog even goed kijken wat je weg aan het halen bent! Hanteer de volgende workflow:\n",
    "- Doe regelmatig een save, en een *Kernel/Restart en Run All*.\n",
    "- Ruim oude code op, en test met een *Kernel/Restart en Run All* dat alles blijft werken.\n",
    "- Als alles hierna nog werkt is het mogelijk tijd voor een Git commit.\n",
    "\n",
    "\n",
    "## FAQ\n",
    "**Q:** Het werkt niet! Jupyter is stom! (en ik heb de sectie \"Gebruik\" niet gelezen)\n",
    "\n",
    "**A:** Lees de sectie gebruik hierboven. \n",
    "\n",
    "**Q:** Functies / variabelen worden niet gevonden, en/of oude tests geven in een keer lange gecompliceerde errors.\n",
    "\n",
    "**A:** Herstart je kernel en voer je code van boven naar beneden uit (*Restart en Run All* kan hierbij helpen). Waarschijnlijk heb je in de tussentijd Jupyter Notebook (of zelfs alleen je Kernel, het ding dat de code uitvoert) herstart, waardoor oude code niet meer geladen is. \n",
    "\n",
    "**Q:** Ik krijg errors dat een functie niet de verwachte parameters heeft, of iets van die strekking.\n",
    "\n",
    "**A:** Mogelijk heb je een geïmporteerde functie overschreven. Herstart de kernel en voer de eerste cel opnieuw uit voor de imports. Mogelijk moet je andere cellen ook opnieuw uitvoeren, als je code functies of variabelen uit de andere cel gebruikt.\n",
    "\n",
    "**Q:** Hoe lever ik mijn werk in?\n",
    "\n",
    "**A:** Zie [de uitleg bij Checkpoint Alfa](#cp-alfa).\n",
    "\n",
    "**Q:** Wanneer moet ik inleveren?\n",
    "\n",
    "**A:** Zie [Canvas](https://canvas.hu.nl/courses/7473/assignments).\n",
    "\n",
    "## Checkpoints\n",
    "- [Alfa](#cp-alfa)\n",
    "- [Bravo](#cp-bravo)\n",
    "- [Charlie](#cp-charlie)\n",
    "- [Delta](#cp-delta)"
   ]
  },
  {
   "cell_type": "code",
   "execution_count": null,
   "metadata": {},
   "outputs": [],
   "source": []
  },
  {
   "cell_type": "code",
   "execution_count": 103,
   "metadata": {},
   "outputs": [
    {
     "data": {
      "text/markdown": [
       "<h2 style=\"color:orange;\">Seed reeds geïnitialiseerd.</h2>"
      ],
      "text/plain": [
       "<IPython.core.display.Markdown object>"
      ]
     },
     "metadata": {},
     "output_type": "display_data"
    }
   ],
   "source": [
    "studentnr = \"vul hier je studentnummer in\"\n",
    "studentnr = 1763930\n",
    "\n",
    "from ac import * # don't try this at home ^_^'\n",
    "_ = RNG(studentnr)"
   ]
  },
  {
   "cell_type": "code",
   "execution_count": null,
   "metadata": {},
   "outputs": [],
   "source": []
  },
  {
   "cell_type": "code",
   "execution_count": null,
   "metadata": {},
   "outputs": [],
   "source": []
  },
  {
   "cell_type": "code",
   "execution_count": null,
   "metadata": {},
   "outputs": [],
   "source": []
  },
  {
   "cell_type": "code",
   "execution_count": null,
   "metadata": {},
   "outputs": [],
   "source": []
  },
  {
   "cell_type": "code",
   "execution_count": null,
   "metadata": {},
   "outputs": [],
   "source": []
  },
  {
   "cell_type": "code",
   "execution_count": null,
   "metadata": {},
   "outputs": [],
   "source": []
  },
  {
   "cell_type": "code",
   "execution_count": null,
   "metadata": {},
   "outputs": [],
   "source": []
  },
  {
   "cell_type": "code",
   "execution_count": null,
   "metadata": {},
   "outputs": [],
   "source": []
  },
  {
   "cell_type": "code",
   "execution_count": null,
   "metadata": {},
   "outputs": [],
   "source": []
  },
  {
   "cell_type": "markdown",
   "metadata": {
    "deletable": false,
    "editable": false
   },
   "source": [
    "# Matrices en Vectoren\n",
    "Deze week gaan we aan de slag met vectoren en matrices. Bekijk hiervoor eerst de video's die op Canvas gelinkt staan. Het eerste deel van deze week bestaat uit het omzetten van de wiskundige structuren in Python code. In tegenstelling tot de meeste video's, waar vectoren meestal uit 2 of 3 elementen bestaan (en matrices vaak $2\\times 2$ of $3 \\times 3$ zijn) kijken wij naar het meer algemene geval, waar de lengte van een vector alles kan zijn. Vectoren met lengte 2 en 3 worden veel gebruikt in graphics en natuurkunde omdat deze mooi overeen komen met 2D en 3D werelden. \n",
    "\n",
    "In AI worden vectoren gebruikt om data op te slaan en te bewerken, waarbij ieder getal overeen komt met een input waarde: als je bijvoorbeeld een huizenprijs wil voorspellen aan de hand van het aantal vierkante meters oppervlakte, het aantal vierkante meters tuin, de afstand tot het station en de afstand tot een supermarkt hebben we 4 input variabelen, dus 4 \"dimensies\". Bij neurale netwerken die met afbeeldingen werken is iedere pixel vaak een inputwaarde, en heb je voor een plaatje van 100 bij 100 dus 10000-dimensionale vectoren nodig.\n",
    "\n",
    "In deze opdrachten werken we niet met 10000-dimensionale vectoren, maar beperken we ons tot maximaal 6 dimensies. Het is belangrijk om er meteen aan te wennen dat vectoren groter kunnen zijn dan we kunnen plotten, maar extreem hoge aantallen dimensies maken het uiteindelijk voor meer rekenwerk en minder overzichtelijk.\n",
    "\n",
    "Aan het einde van deze week hebben we onze eigen functies geschreven voor lineaire algebra, en zullen we deze gebruiken om een simpel getraind neuraal netwerk zonder activatiefunctie door te rekenen."
   ]
  },
  {
   "cell_type": "markdown",
   "metadata": {
    "deletable": false,
    "editable": false
   },
   "source": [
    "## Opdracht 0\n",
    "Bij vectoren is geen sprake van \"negatief\" en \"positief\", zoals dat bij normale getallen wel het geval is. Wel heeft iedere vector een negatiev_e_ (ook wel *additieve inverse* of *omgekeerde*). Deze vector is dus zelf niet negatief te noemen, waar wel negatief ten opzichte van een andere vector; deze vectors zijn elkaars negatieve. Bij normale getallen is de negatieve van $n$ bijvoorbeeld $-n$, en van $-n$ weer $n$. Bij een vector wordt van ieder element (getal) los de negatieve genomen, bijvoorbeeld:\n",
    "\n",
    "$$ \\text{als}\\ v=\n",
    "\\begin{bmatrix}\n",
    "  1\\\\\n",
    "  -3\\\\\n",
    "  7\\\\\n",
    "\\end{bmatrix}\\quad \\text{dan}\\ -v = \n",
    "\\begin{bmatrix}\n",
    "  -1\\\\\n",
    "  3\\\\\n",
    "  -7\\\\\n",
    "\\end{bmatrix}$$\n",
    "\n",
    "De code hieronder genereert zes willekeurige vectoren. Voer de code uit en gebruik het tekstblok eronder om de sommen en negatieven te geven."
   ]
  },
  {
   "cell_type": "code",
   "execution_count": null,
   "metadata": {},
   "outputs": [],
   "source": []
  },
  {
   "cell_type": "code",
   "execution_count": 104,
   "metadata": {
    "deletable": false,
    "editable": false
   },
   "outputs": [
    {
     "data": {
      "text/latex": [
       "$\\displaystyle \\vec u = \n",
       "\\begin{bmatrix}\n",
       "  12\\\\\n",
       "  3\\\\\n",
       "  -15\\\\\n",
       "  -6\\\\\n",
       "  4\\\\\n",
       "\\end{bmatrix}$"
      ],
      "text/plain": [
       "<IPython.core.display.Math object>"
      ]
     },
     "metadata": {},
     "output_type": "display_data"
    },
    {
     "data": {
      "text/markdown": [
       "<details><pre>$\\vec u =  \\begin{bmatrix}   12\\\\   3\\\\   -15\\\\   -6\\\\   4\\\\ \\end{bmatrix}$</pre></details>"
      ],
      "text/plain": [
       "<IPython.core.display.Markdown object>"
      ]
     },
     "metadata": {},
     "output_type": "display_data"
    },
    {
     "data": {
      "text/latex": [
       "$\\displaystyle \\vec v = \n",
       "\\begin{bmatrix}\n",
       "  1\\\\\n",
       "  4\\\\\n",
       "  9\\\\\n",
       "  11\\\\\n",
       "  -13\\\\\n",
       "\\end{bmatrix}$"
      ],
      "text/plain": [
       "<IPython.core.display.Math object>"
      ]
     },
     "metadata": {},
     "output_type": "display_data"
    },
    {
     "data": {
      "text/markdown": [
       "<details><pre>$\\vec v =  \\begin{bmatrix}   1\\\\   4\\\\   9\\\\   11\\\\   -13\\\\ \\end{bmatrix}$</pre></details>"
      ],
      "text/plain": [
       "<IPython.core.display.Markdown object>"
      ]
     },
     "metadata": {},
     "output_type": "display_data"
    },
    {
     "data": {
      "text/latex": [
       "$\\displaystyle \\vec w = \n",
       "\\begin{bmatrix}\n",
       "  -20\\\\\n",
       "  -8\\\\\n",
       "  -18\\\\\n",
       "\\end{bmatrix}$"
      ],
      "text/plain": [
       "<IPython.core.display.Math object>"
      ]
     },
     "metadata": {},
     "output_type": "display_data"
    },
    {
     "data": {
      "text/markdown": [
       "<details><pre>$\\vec w =  \\begin{bmatrix}   -20\\\\   -8\\\\   -18\\\\ \\end{bmatrix}$</pre></details>"
      ],
      "text/plain": [
       "<IPython.core.display.Markdown object>"
      ]
     },
     "metadata": {},
     "output_type": "display_data"
    },
    {
     "data": {
      "text/latex": [
       "$\\displaystyle \\vec x = \n",
       "\\begin{bmatrix}\n",
       "  -10\\\\\n",
       "  8\\\\\n",
       "  2\\\\\n",
       "\\end{bmatrix}$"
      ],
      "text/plain": [
       "<IPython.core.display.Math object>"
      ]
     },
     "metadata": {},
     "output_type": "display_data"
    },
    {
     "data": {
      "text/markdown": [
       "<details><pre>$\\vec x =  \\begin{bmatrix}   -10\\\\   8\\\\   2\\\\ \\end{bmatrix}$</pre></details>"
      ],
      "text/plain": [
       "<IPython.core.display.Markdown object>"
      ]
     },
     "metadata": {},
     "output_type": "display_data"
    },
    {
     "data": {
      "text/latex": [
       "$\\displaystyle \\vec y = \n",
       "\\begin{bmatrix}\n",
       "  -9\\\\\n",
       "  -13\\\\\n",
       "  6\\\\\n",
       "  -19\\\\\n",
       "  -5\\\\\n",
       "\\end{bmatrix}$"
      ],
      "text/plain": [
       "<IPython.core.display.Math object>"
      ]
     },
     "metadata": {},
     "output_type": "display_data"
    },
    {
     "data": {
      "text/markdown": [
       "<details><pre>$\\vec y =  \\begin{bmatrix}   -9\\\\   -13\\\\   6\\\\   -19\\\\   -5\\\\ \\end{bmatrix}$</pre></details>"
      ],
      "text/plain": [
       "<IPython.core.display.Markdown object>"
      ]
     },
     "metadata": {},
     "output_type": "display_data"
    },
    {
     "data": {
      "text/latex": [
       "$\\displaystyle \\vec z = \n",
       "\\begin{bmatrix}\n",
       "  -18\\\\\n",
       "  -3\\\\\n",
       "  -20\\\\\n",
       "  -16\\\\\n",
       "  -6\\\\\n",
       "\\end{bmatrix}$"
      ],
      "text/plain": [
       "<IPython.core.display.Math object>"
      ]
     },
     "metadata": {},
     "output_type": "display_data"
    },
    {
     "data": {
      "text/markdown": [
       "<details><pre>$\\vec z =  \\begin{bmatrix}   -18\\\\   -3\\\\   -20\\\\   -16\\\\   -6\\\\ \\end{bmatrix}$</pre></details>"
      ],
      "text/plain": [
       "<IPython.core.display.Markdown object>"
      ]
     },
     "metadata": {},
     "output_type": "display_data"
    }
   ],
   "source": [
    "RNG().set(0)\n",
    "\n",
    "random_tensor(r\"\\vec u\")\n",
    "random_tensor(r\"\\vec v\")\n",
    "random_tensor(r\"\\vec w\",3)\n",
    "random_tensor(r\"\\vec x\",3)\n",
    "random_tensor(r\"\\vec y\",5)\n",
    "random_tensor(r\"\\vec z\",5)"
   ]
  },
  {
   "cell_type": "code",
   "execution_count": null,
   "metadata": {},
   "outputs": [],
   "source": []
  },
  {
   "cell_type": "markdown",
   "metadata": {},
   "source": [
    "<div style=\"background:#fffff0;\">\n",
    "\n",
    "### Negatieve en Sommen\n",
    "Vul hier de negatieven in van de vectoren hierboven. Gebruik het voorbeeld hierboven voor de juiste LaTeX-notatie.\n",
    "\n",
    "$-\\vec u = \\begin{bmatrix}   -12\\\\   -3\\\\   15\\\\   6\\\\   -4\\\\ \\end{bmatrix}$\n",
    "\n",
    "$-\\vec v = \\begin{bmatrix}   -1\\\\   -4\\\\   -9\\\\   -11\\\\   13\\\\ \\end{bmatrix}$\n",
    "\n",
    "$-\\vec w + \\vec x = \\begin{bmatrix}   20\\\\   8\\\\   18\\\\ \\end{bmatrix} + \\begin{bmatrix}   10\\\\   -8\\\\   -2\\\\ \\end{bmatrix}$\n",
    "\n",
    "$-\\vec y - \\vec z = \\begin{bmatrix}   9\\\\   13\\\\   -6\\\\   19\\\\   5\\\\ \\end{bmatrix} - \\begin{bmatrix}   18\\\\   3\\\\   20\\\\   16\\\\   6\\\\ \\end{bmatrix} = \\begin{bmatrix}   -9\\\\   10\\\\   -26\\\\   3\\\\   -1\\\\ \\end{bmatrix}$\n",
    "    \n",
    "</div>\n"
   ]
  },
  {
   "cell_type": "code",
   "execution_count": null,
   "metadata": {},
   "outputs": [],
   "source": []
  },
  {
   "cell_type": "markdown",
   "metadata": {
    "deletable": false,
    "editable": false
   },
   "source": [
    "## Opdracht 1\n",
    "Maak een functie die twee vectoren bij elkaar optelt. De vectoren zijn Numpy arrays. Het is de bedoeling dat je deze opgave zelf oplost, en dus geen gebruik maakt van de Numpy functionaliteit om twee arrays op te tellen.\n",
    "Gebruik onderstaande functie als basis voor je oplossing; in de cel eronder staan een paar test-cases, waaraan je kunt zien of je oplossing correct is.\n",
    "Als de gebruiker twee vectoren van verschillend formaat meegeeft moet Python een `DimensionError` geven; dit kan met `raise DimensionError(\"Vectors niet hetzelfde formaat\")`."
   ]
  },
  {
   "cell_type": "code",
   "execution_count": 105,
   "metadata": {},
   "outputs": [],
   "source": [
    "def vector_addition(u: np.ndarray, v: np.ndarray) -> np.ndarray: # TODO\n",
    "    if len(v) == len(u):\n",
    "        nieuwevector = []\n",
    "        for indexnumber in range(len(v)):\n",
    "            nieuwevector.append(u[indexnumber] + v[indexnumber])\n",
    "    else: raise DimensionError(\"Vectors niet hetzelfde formaat\")\n",
    "    return nieuwevector\n",
    "    pass\n"
   ]
  },
  {
   "cell_type": "markdown",
   "metadata": {
    "deletable": false,
    "editable": false
   },
   "source": [
    "### Tests\n",
    "| **Test** | **Betekenis** |\n",
    "|---:|:---|\n",
    "| `test_valid_addition` | $\\vec u + \\vec v$ klopt  |\n",
    "| `test_additive_unit` | $\\vec u + \\vec 0 = \\vec u$ ($\\vec 0$ is de vector van de juiste lengte met alleen maar 0 waardes) |\n",
    "| `test_additive_unit2` | $\\vec 0 + \\vec u = \\vec u$ |\n",
    "| `test_test_invalid_addition` | $\\vec v + \\vec w$ geeft een `DimensionError` als de dimensies niet kloppen |\n"
   ]
  },
  {
   "cell_type": "code",
   "execution_count": 106,
   "metadata": {
    "deletable": false,
    "editable": false
   },
   "outputs": [
    {
     "name": "stderr",
     "output_type": "stream",
     "text": [
      "test_additive_unit (ac_tests.test_vector_addition.<locals>.TestVectorAddition) ... ok\n",
      "test_additive_unit_2 (ac_tests.test_vector_addition.<locals>.TestVectorAddition) ... ok\n",
      "test_invalid_addition (ac_tests.test_vector_addition.<locals>.TestVectorAddition) ... ok\n",
      "test_valid_addition (ac_tests.test_vector_addition.<locals>.TestVectorAddition) ... ok\n",
      "\n",
      "----------------------------------------------------------------------\n",
      "Ran 4 tests in 0.004s\n",
      "\n",
      "OK\n"
     ]
    }
   ],
   "source": [
    "test_vector_addition(vector_addition)"
   ]
  },
  {
   "cell_type": "markdown",
   "metadata": {
    "deletable": false,
    "editable": false
   },
   "source": [
    "## Opdracht 2\n",
    "Maak een functie die de negatieve van een vector geeft. Je mag niet geen gebruik maken van de Numpy functionaliteit om `-` op een hele array toe te passen.\n",
    "\n",
    "Ook hier moet je gebruik maken van het gegeven functie-template, en zijn test-functies beschikbaar. Voor alle volgende opdrachten geldt hetzelfde, tenzij anders aangegeven. Ook zal niet bij iedere opdracht expliciet vermeld worden dat je niet de ingebouwede Numpy-functionaliteit mag toepassen, dit wordt vanaf hier als bekend verondersteld."
   ]
  },
  {
   "cell_type": "code",
   "execution_count": 107,
   "metadata": {},
   "outputs": [],
   "source": [
    "def negative_of_vector(v: np.ndarray) -> np.ndarray: # TODO\n",
    "    nieuwevector = []\n",
    "    for indexnumber in range(len(v)):\n",
    "        nieuwevector.append(v[indexnumber]-v[indexnumber]-v[indexnumber])\n",
    "    return nieuwevector\n",
    "    pass"
   ]
  },
  {
   "cell_type": "markdown",
   "metadata": {
    "deletable": false,
    "editable": false
   },
   "source": [
    "### Tests\n",
    "| **Test** | **Betekenis** |\n",
    "|---:|:---|\n",
    "| `test_negative_of_vector` | $-\\vec v$ klopt  |\n",
    "| `test_negative_of_zero` | $- \\vec 0 = \\vec 0$ (de vector van de juiste lengte met alleen maar 0 waardes) |\n",
    "| `test_sum_vector_negative_is_zero` | $\\vec v + (-\\vec v) = \\vec 0$ |\n"
   ]
  },
  {
   "cell_type": "code",
   "execution_count": 108,
   "metadata": {
    "deletable": false,
    "editable": false,
    "scrolled": true
   },
   "outputs": [
    {
     "name": "stderr",
     "output_type": "stream",
     "text": [
      "test_negative_of_vector (ac_tests.test_negative_of_vector.<locals>.TestNegativeOfVector) ... ok\n",
      "test_negative_of_zero (ac_tests.test_negative_of_vector.<locals>.TestNegativeOfVector) ... ok\n",
      "test_sum_vector_negative_is_zero (ac_tests.test_negative_of_vector.<locals>.TestNegativeOfVector) ... ok\n",
      "\n",
      "----------------------------------------------------------------------\n",
      "Ran 3 tests in 0.003s\n",
      "\n",
      "OK\n"
     ]
    }
   ],
   "source": [
    "test_negative_of_vector(negative_of_vector, vector_addition)"
   ]
  },
  {
   "cell_type": "markdown",
   "metadata": {
    "deletable": false,
    "editable": false
   },
   "source": [
    "## Opdracht 3\n",
    "Nu gaan we ons op vermenigvuldiging richten. Dit concept is in de lineaire algebra minder eenduidig dan met normale getallen: er zijn verschillende operaties die \"vermenigvuldiging\" genoemd worden. Voor het vermenigvuldigen van vectoren zijn er drie die ons op dit moment interesseren: \n",
    " - vermenigvuldigen van een vector met een getal, met als resultaat een vector *(scalaire vermenigvuldiging)*\n",
    " - vermenigvuldigen van twee vectoren, met als resultaat een getal *(inwendig product)*\n",
    " - vermenigvuldigen van een vector en een matrix, met als resultaat een vector *(toepassen van een matrix als lineaire transformatie)*\n",
    " \n",
    "Voor deze opdracht gaan we de eerste vorm uitwerken: scalaire vermenigvuldiging, oftewel vermenigvuldiging met een getal *(scalar)*. Hier wordt een vector als het ware \"geschaald\". Denk hiervoor aan vectoren als pijlen in een 2D ruimte: de richting van de pijl verandert *in principe** niet, maar de lengte wordt groter (of kleiner, als de scalar minder dan 0 is). De enige manier waarop een pijl wel van richting verandert is als deze met een negatief getal wordt vermenigvuldigt: de richting keert dan om. De pijl ligt nog wel op dezelfde lijn, maar wijst een andere kant op.\n",
    "\n",
    "Als we teruggaan naar ons plaatje van vectoren als lijsten met getallen dan betekent scalaire vermenigvuldiging dat ieder getal afzonderlijk met de scalar vermenigvuldigd wordt:\n",
    "\n",
    "$$ 2\n",
    "\\begin{bmatrix}\n",
    "  1\\\\\n",
    "  -3\\\\\n",
    "  7\\\\\n",
    "\\end{bmatrix} = \n",
    "\\begin{bmatrix}\n",
    "  2 \\cdot 1 \\\\\n",
    "  2 \\cdot -3 \\\\\n",
    "  2 \\cdot 7 \\\\\n",
    "\\end{bmatrix}= \n",
    "\\begin{bmatrix}\n",
    "  2\\\\\n",
    "  -6\\\\\n",
    "  14\\\\\n",
    "\\end{bmatrix}$$\n",
    "\n",
    "$$ \\left(-\\frac{1}{3}\\right)\n",
    "\\begin{bmatrix}\n",
    "  3\\\\\n",
    "  6\\\\\n",
    "  2\\\\\n",
    "  9\\\\\n",
    "\\end{bmatrix} = \n",
    "\\begin{bmatrix}\n",
    "  -\\frac{1}{3} \\cdot 3 \\\\\n",
    "  -\\frac{1}{3} \\cdot 6 \\\\\n",
    "  -\\frac{1}{3} \\cdot 2 \\\\\n",
    "  -\\frac{1}{3} \\cdot 9 \\\\\n",
    "\\end{bmatrix}= \n",
    "\\begin{bmatrix}\n",
    "  -1\\\\\n",
    "  -2\\\\\n",
    "  -\\frac{2}{3} \\\\\n",
    "  -3\\\\\n",
    "\\end{bmatrix}$$\n",
    "\n",
    "Hieronder staan weer zes willekeurge vectoren, $\\vec u$ t/m $\\vec z$ (als je ze niet ziet, voer dan eerst het code-blok uit). Gegeven deze vectoren, bereken de scalaire vermenigvuldigingen in het tekstblok eronder. De laatste twee zijn een voorbeeld van *lineaire combinaties*, waar we later meer van zullen zien."
   ]
  },
  {
   "cell_type": "code",
   "execution_count": 109,
   "metadata": {
    "deletable": false,
    "editable": false
   },
   "outputs": [
    {
     "data": {
      "text/latex": [
       "$\\displaystyle \\vec u = \n",
       "\\begin{bmatrix}\n",
       "  -19\\\\\n",
       "  -8\\\\\n",
       "\\end{bmatrix}$"
      ],
      "text/plain": [
       "<IPython.core.display.Math object>"
      ]
     },
     "metadata": {},
     "output_type": "display_data"
    },
    {
     "data": {
      "text/markdown": [
       "<details><pre>$\\vec u =  \\begin{bmatrix}   -19\\\\   -8\\\\ \\end{bmatrix}$</pre></details>"
      ],
      "text/plain": [
       "<IPython.core.display.Markdown object>"
      ]
     },
     "metadata": {},
     "output_type": "display_data"
    },
    {
     "data": {
      "text/latex": [
       "$\\displaystyle \\vec v = \n",
       "\\begin{bmatrix}\n",
       "  -7\\\\\n",
       "  12\\\\\n",
       "  17\\\\\n",
       "\\end{bmatrix}$"
      ],
      "text/plain": [
       "<IPython.core.display.Math object>"
      ]
     },
     "metadata": {},
     "output_type": "display_data"
    },
    {
     "data": {
      "text/markdown": [
       "<details><pre>$\\vec v =  \\begin{bmatrix}   -7\\\\   12\\\\   17\\\\ \\end{bmatrix}$</pre></details>"
      ],
      "text/plain": [
       "<IPython.core.display.Markdown object>"
      ]
     },
     "metadata": {},
     "output_type": "display_data"
    },
    {
     "data": {
      "text/latex": [
       "$\\displaystyle \\vec w = \n",
       "\\begin{bmatrix}\n",
       "  14\\\\\n",
       "  11\\\\\n",
       "\\end{bmatrix}$"
      ],
      "text/plain": [
       "<IPython.core.display.Math object>"
      ]
     },
     "metadata": {},
     "output_type": "display_data"
    },
    {
     "data": {
      "text/markdown": [
       "<details><pre>$\\vec w =  \\begin{bmatrix}   14\\\\   11\\\\ \\end{bmatrix}$</pre></details>"
      ],
      "text/plain": [
       "<IPython.core.display.Markdown object>"
      ]
     },
     "metadata": {},
     "output_type": "display_data"
    },
    {
     "data": {
      "text/latex": [
       "$\\displaystyle \\vec x = \n",
       "\\begin{bmatrix}\n",
       "  -18\\\\\n",
       "  7\\\\\n",
       "\\end{bmatrix}$"
      ],
      "text/plain": [
       "<IPython.core.display.Math object>"
      ]
     },
     "metadata": {},
     "output_type": "display_data"
    },
    {
     "data": {
      "text/markdown": [
       "<details><pre>$\\vec x =  \\begin{bmatrix}   -18\\\\   7\\\\ \\end{bmatrix}$</pre></details>"
      ],
      "text/plain": [
       "<IPython.core.display.Markdown object>"
      ]
     },
     "metadata": {},
     "output_type": "display_data"
    },
    {
     "data": {
      "text/latex": [
       "$\\displaystyle \\vec y = \n",
       "\\begin{bmatrix}\n",
       "  -3\\\\\n",
       "  14\\\\\n",
       "  18\\\\\n",
       "  7\\\\\n",
       "\\end{bmatrix}$"
      ],
      "text/plain": [
       "<IPython.core.display.Math object>"
      ]
     },
     "metadata": {},
     "output_type": "display_data"
    },
    {
     "data": {
      "text/markdown": [
       "<details><pre>$\\vec y =  \\begin{bmatrix}   -3\\\\   14\\\\   18\\\\   7\\\\ \\end{bmatrix}$</pre></details>"
      ],
      "text/plain": [
       "<IPython.core.display.Markdown object>"
      ]
     },
     "metadata": {},
     "output_type": "display_data"
    },
    {
     "data": {
      "text/latex": [
       "$\\displaystyle \\vec z = \n",
       "\\begin{bmatrix}\n",
       "  19\\\\\n",
       "  -14\\\\\n",
       "  -14\\\\\n",
       "  14\\\\\n",
       "\\end{bmatrix}$"
      ],
      "text/plain": [
       "<IPython.core.display.Math object>"
      ]
     },
     "metadata": {},
     "output_type": "display_data"
    },
    {
     "data": {
      "text/markdown": [
       "<details><pre>$\\vec z =  \\begin{bmatrix}   19\\\\   -14\\\\   -14\\\\   14\\\\ \\end{bmatrix}$</pre></details>"
      ],
      "text/plain": [
       "<IPython.core.display.Markdown object>"
      ]
     },
     "metadata": {},
     "output_type": "display_data"
    }
   ],
   "source": [
    "RNG().set(1)\n",
    "\n",
    "random_tensor(r\"\\vec u\")\n",
    "random_tensor(r\"\\vec v\")\n",
    "random_tensor(r\"\\vec w\",2)\n",
    "random_tensor(r\"\\vec x\",2)\n",
    "random_tensor(r\"\\vec y\",4)\n",
    "random_tensor(r\"\\vec z\",4)"
   ]
  },
  {
   "cell_type": "markdown",
   "metadata": {},
   "source": [
    "<a id='opdr3'></a>\n",
    "<div style=\"background:#fffff0;\">\n",
    "\n",
    "### Vermenigvuldigen en Lineaire Combinaties\n",
    "\n",
    "$3\\vec{u} = \\begin{bmatrix}   -19 * 3\\\\   -8 *3\\\\ \\end{bmatrix} = \\begin{bmatrix}   -57\\\\   -24\\\\ \\end{bmatrix}$\n",
    "\n",
    "$-5\\vec{v} = \\begin{bmatrix}  -7 * -5\\\\  12 * -5\\\\  17 * -5\\\\ \\end{bmatrix} = \\begin{bmatrix}   --35\\\\   -60\\\\   -85\\\\ \\end{bmatrix}$\n",
    "\n",
    "$\\frac{1}{2} \\vec{v} = \\begin{bmatrix}    -7 * \\frac{1}{2}\\\\  12 * \\frac{1}{2} \\\\  17 * \\frac{1}{2}\\\\ \\end{bmatrix} = \\begin{bmatrix}   -3\\frac{1}{2}\\\\   6\\\\   8\\frac{1}{2}\\\\ \\end{bmatrix}$\n",
    "\n",
    "$3\\vec{w} + 4\\vec{x} = \\begin{bmatrix}   14*3+11*4\\\\   -18*3+7*4\\\\ \\end{bmatrix} =  \\begin{bmatrix}   -30\\\\   61\\\\ \\end{bmatrix}$\n",
    "\n",
    "$8\\vec{y} - \\frac{1}{2}\\vec{z} = \\begin{bmatrix}   -33\\frac{1}{2}\\\\   119\\\\   151\\\\   42\\\\ \\end{bmatrix} = \\begin{bmatrix}   -33\\frac{1}{2}\\\\   119\\\\   151\\\\   42\\\\ \\end{bmatrix}$\n",
    "    \n",
    "</div> "
   ]
  },
  {
   "cell_type": "markdown",
   "metadata": {
    "deletable": false,
    "editable": false
   },
   "source": [
    "## Opdracht 4\n",
    "Maak een functie die de scalaire vermenigvuldiging van een scalar en een vector geeft."
   ]
  },
  {
   "cell_type": "code",
   "execution_count": 110,
   "metadata": {},
   "outputs": [],
   "source": [
    "def scalar_product(s: int, v: np.ndarray) -> np.ndarray: # TODO\n",
    "    nieuwevector = []\n",
    "    for indexnumber in range(len(v)):\n",
    "        nieuwevector.append(v[indexnumber]*s)\n",
    "    return nieuwevector\n",
    "    pass\n"
   ]
  },
  {
   "cell_type": "markdown",
   "metadata": {
    "deletable": false,
    "editable": false
   },
   "source": [
    "### Tests\n",
    "| **Test** | **Betekenis** |\n",
    "|---:|:---|\n",
    "| `test_zero` | $0\\vec v = \\vec 0$ (de vector van de juiste lengte met alleen maar 0 waardes) |\n",
    "| `test_unit` | $1\\vec v = \\vec v$ |\n",
    "| `test_double` | $2\\vec v = \\vec v + \\vec v$ |\n",
    "| `test_distributive_vector` | $a(\\vec u + \\vec v) = a \\vec u + a \\vec v$ |\n",
    "| `test_distributive_field` | $(a+b)\\vec v = a \\vec v + b \\vec v$|\n"
   ]
  },
  {
   "cell_type": "code",
   "execution_count": 111,
   "metadata": {
    "deletable": false,
    "editable": false
   },
   "outputs": [
    {
     "name": "stderr",
     "output_type": "stream",
     "text": [
      "test_distributive_field (ac_tests.test_scalar_product.<locals>.TestScalarProduct) ... ok\n",
      "test_distributive_vector (ac_tests.test_scalar_product.<locals>.TestScalarProduct) ... ok\n",
      "test_double (ac_tests.test_scalar_product.<locals>.TestScalarProduct) ... ok\n",
      "test_unit (ac_tests.test_scalar_product.<locals>.TestScalarProduct) ... ok\n",
      "test_zero (ac_tests.test_scalar_product.<locals>.TestScalarProduct) ... ok\n",
      "\n",
      "----------------------------------------------------------------------\n",
      "Ran 5 tests in 0.005s\n",
      "\n",
      "OK\n"
     ]
    }
   ],
   "source": [
    "test_scalar_product(scalar_product, vector_addition)"
   ]
  },
  {
   "cell_type": "markdown",
   "metadata": {
    "deletable": false,
    "editable": false
   },
   "source": [
    "## Opdracht 5\n",
    "Het tweede product is een product tussen twee vectoren van hetzelfde formaat. Het resultaat van de vermenigvuldiging is een scalar (getal). Twee vectoren hebben alleen een inwendig product als ze zich in dezelfde ruimte bevinden, oftewel ze dezelfde dimensie hebben. Voor het inwendige product bestaan verschillende vormen van notatie, de meest voorkomende zijn $\\langle \\vec u | \\vec v \\rangle$,  $\\langle \\vec u, \\vec v \\rangle$ en $\\vec u \\cdot \\vec v$. In deze notebook gebruiken we de eerste variant.\n",
    "\n",
    "Hieronder staan vijf willekeurge vectoren, $\\vec u$ t/m $\\vec z$. Gegeven deze vectoren, vul de tabel in het tekstblok eronder in met de inwendige producten (of zet een $\\bot$ als de vermenigvuldiging niet kan)."
   ]
  },
  {
   "cell_type": "code",
   "execution_count": 112,
   "metadata": {
    "deletable": false,
    "editable": false,
    "scrolled": false
   },
   "outputs": [
    {
     "data": {
      "text/latex": [
       "$\\displaystyle \\vec u = \n",
       "\\begin{bmatrix}\n",
       "  0\\\\\n",
       "  -14\\\\\n",
       "\\end{bmatrix}$"
      ],
      "text/plain": [
       "<IPython.core.display.Math object>"
      ]
     },
     "metadata": {},
     "output_type": "display_data"
    },
    {
     "data": {
      "text/markdown": [
       "<details><pre>$\\vec u =  \\begin{bmatrix}   0\\\\   -14\\\\ \\end{bmatrix}$</pre></details>"
      ],
      "text/plain": [
       "<IPython.core.display.Markdown object>"
      ]
     },
     "metadata": {},
     "output_type": "display_data"
    },
    {
     "data": {
      "text/latex": [
       "$\\displaystyle \\vec v = \n",
       "\\begin{bmatrix}\n",
       "  13\\\\\n",
       "  5\\\\\n",
       "  0\\\\\n",
       "\\end{bmatrix}$"
      ],
      "text/plain": [
       "<IPython.core.display.Math object>"
      ]
     },
     "metadata": {},
     "output_type": "display_data"
    },
    {
     "data": {
      "text/markdown": [
       "<details><pre>$\\vec v =  \\begin{bmatrix}   13\\\\   5\\\\   0\\\\ \\end{bmatrix}$</pre></details>"
      ],
      "text/plain": [
       "<IPython.core.display.Markdown object>"
      ]
     },
     "metadata": {},
     "output_type": "display_data"
    },
    {
     "data": {
      "text/latex": [
       "$\\displaystyle \\vec w = \n",
       "\\begin{bmatrix}\n",
       "  17\\\\\n",
       "  -16\\\\\n",
       "\\end{bmatrix}$"
      ],
      "text/plain": [
       "<IPython.core.display.Math object>"
      ]
     },
     "metadata": {},
     "output_type": "display_data"
    },
    {
     "data": {
      "text/markdown": [
       "<details><pre>$\\vec w =  \\begin{bmatrix}   17\\\\   -16\\\\ \\end{bmatrix}$</pre></details>"
      ],
      "text/plain": [
       "<IPython.core.display.Markdown object>"
      ]
     },
     "metadata": {},
     "output_type": "display_data"
    },
    {
     "data": {
      "text/latex": [
       "$\\displaystyle \\vec x = \n",
       "\\begin{bmatrix}\n",
       "  2\\\\\n",
       "  7\\\\\n",
       "  -4\\\\\n",
       "  4\\\\\n",
       "\\end{bmatrix}$"
      ],
      "text/plain": [
       "<IPython.core.display.Math object>"
      ]
     },
     "metadata": {},
     "output_type": "display_data"
    },
    {
     "data": {
      "text/markdown": [
       "<details><pre>$\\vec x =  \\begin{bmatrix}   2\\\\   7\\\\   -4\\\\   4\\\\ \\end{bmatrix}$</pre></details>"
      ],
      "text/plain": [
       "<IPython.core.display.Markdown object>"
      ]
     },
     "metadata": {},
     "output_type": "display_data"
    },
    {
     "data": {
      "text/latex": [
       "$\\displaystyle \\vec y = \n",
       "\\begin{bmatrix}\n",
       "  10\\\\\n",
       "  17\\\\\n",
       "  -4\\\\\n",
       "  -2\\\\\n",
       "\\end{bmatrix}$"
      ],
      "text/plain": [
       "<IPython.core.display.Math object>"
      ]
     },
     "metadata": {},
     "output_type": "display_data"
    },
    {
     "data": {
      "text/markdown": [
       "<details><pre>$\\vec y =  \\begin{bmatrix}   10\\\\   17\\\\   -4\\\\   -2\\\\ \\end{bmatrix}$</pre></details>"
      ],
      "text/plain": [
       "<IPython.core.display.Markdown object>"
      ]
     },
     "metadata": {},
     "output_type": "display_data"
    }
   ],
   "source": [
    "RNG().set(2)\n",
    "\n",
    "random_tensor(r\"\\vec u\",2)\n",
    "random_tensor(r\"\\vec v\",3)\n",
    "random_tensor(r\"\\vec w\",2)\n",
    "random_tensor(r\"\\vec x\",4)\n",
    "random_tensor(r\"\\vec y\",4)"
   ]
  },
  {
   "cell_type": "markdown",
   "metadata": {},
   "source": [
    "<div style=\"background:#fffff0;\">\n",
    "    \n",
    "### Inwendige producten\n",
    "\n",
    "$\\begin{array}{|r|c|c|c|c|c|} \\hline\n",
    "& \\vec u & \\vec v & \\vec w & \\vec x & \\vec y \\\\ \\hline\n",
    "\\vec u &196\n",
    "       & ⊥\n",
    "       & 224\n",
    "       & ⊥\n",
    "       & ⊥\n",
    "       \\\\ \\hline\n",
    "\\vec v & ⊥\n",
    "       & 194\n",
    "       & ⊥\n",
    "       & ⊥\n",
    "       & ⊥\n",
    "       \\\\ \\hline\n",
    "\\vec w & 244\n",
    "       & ⊥\n",
    "       & 545\n",
    "       & ⊥\n",
    "       & ⊥\n",
    "       \\\\ \\hline\n",
    "\\vec x & ⊥\n",
    "       & ⊥\n",
    "       & ⊥\n",
    "       & 34\n",
    "       & 147\n",
    "       \\\\ \\hline\n",
    "\\vec y & ⊥\n",
    "       & ⊥\n",
    "       & ⊥\n",
    "       & 147\n",
    "       & 409\n",
    "       \\\\ \\hline\n",
    "\\end{array}$\n",
    "\n",
    "#### Wat valt je op qua symmetrie aan de tabel?\n",
    "Is $\\langle \\vec u | \\vec v\\rangle$ hetzelfde als $\\langle \\vec v | \\vec u \\rangle$?\n",
    "\n",
    "$\"Ja, omdat het keer elkaar is\" $\n",
    "\n",
    "Heeft $\\langle \\vec u | \\vec u \\rangle$ een speciale betekenis? Of de wortel daarvan?\n",
    "\n",
    "$\"Hij vermenigvuldig 1x met zichzelf dus is het een macht van 2 \" $\n",
    "    \n",
    "</div>"
   ]
  },
  {
   "cell_type": "markdown",
   "metadata": {
    "deletable": false,
    "editable": false
   },
   "source": [
    "## Opdracht 6\n",
    "Maak een functie die het inwendig product van een twee vectoren geeft. Net als bij het optellen moet Python een `DimensionError` geven als de vectoren niet hetzelfde formaat hebben."
   ]
  },
  {
   "cell_type": "code",
   "execution_count": 113,
   "metadata": {},
   "outputs": [],
   "source": [
    "def inner_product(u: np.ndarray, v: np.ndarray) -> np.ndarray: # TODO\n",
    "    if len(v) == len(u):\n",
    "        product = 0\n",
    "        nieuwevector = []\n",
    "        for indexnumber in range(len(v)):\n",
    "            nieuwevector.append(u[indexnumber] * v[indexnumber])\n",
    "        for number in nieuwevector:\n",
    "            product += number\n",
    "    else: raise DimensionError(\"Vectors niet hetzelfde formaat\")\n",
    "    return product\n",
    "    pass\n"
   ]
  },
  {
   "cell_type": "markdown",
   "metadata": {
    "deletable": false,
    "editable": false
   },
   "source": [
    "### Tests\n",
    "| **Test** | **Betekenis** |\n",
    "|---:|:---|\n",
    "| `test_valid_product` | $\\langle \\vec u | \\vec v \\rangle $ werkt |\n",
    "| `test_invalid_product` | $\\langle \\vec v | \\vec w \\rangle$ geeft een `DimensionError` als de dimensies niet kloppen |\n",
    "| `test_zero` | $\\langle \\vec v | \\vec 0 \\rangle = 0$ |\n",
    "| `test_positive_definite` | $\\langle \\vec v | \\vec v \\rangle > 0$ zolang $\\vec v$ niet $\\vec 0$ is |\n",
    "| `test_commutative` | $\\langle \\vec u | \\vec v \\rangle = \\langle \\vec v | \\vec u \\rangle$ |\n",
    "| `test_linear1` | $\\langle a\\vec v | \\vec u \\rangle = a \\langle \\vec v | \\vec u \\rangle$ |\n",
    "| `test_linear2` | $\\langle \\vec v | a\\vec u \\rangle = a \\langle \\vec v | \\vec u \\rangle$|\n"
   ]
  },
  {
   "cell_type": "code",
   "execution_count": 114,
   "metadata": {
    "deletable": false,
    "editable": false
   },
   "outputs": [
    {
     "name": "stderr",
     "output_type": "stream",
     "text": [
      "test_commutative (ac_tests.test_inner_product.<locals>.TestInnerProduct) ... ok\n",
      "test_invalid_product (ac_tests.test_inner_product.<locals>.TestInnerProduct) ... ok\n",
      "test_linear1 (ac_tests.test_inner_product.<locals>.TestInnerProduct) ... ok\n",
      "test_linear2 (ac_tests.test_inner_product.<locals>.TestInnerProduct) ... ok\n",
      "test_positive_definite (ac_tests.test_inner_product.<locals>.TestInnerProduct) ... ok\n",
      "test_valid_product (ac_tests.test_inner_product.<locals>.TestInnerProduct) ... ok\n",
      "test_zero (ac_tests.test_inner_product.<locals>.TestInnerProduct) ... ok\n",
      "\n",
      "----------------------------------------------------------------------\n",
      "Ran 7 tests in 0.009s\n",
      "\n",
      "OK\n"
     ]
    }
   ],
   "source": [
    "test_inner_product(inner_product, scalar_product)"
   ]
  },
  {
   "cell_type": "markdown",
   "metadata": {
    "deletable": false,
    "editable": false
   },
   "source": [
    "## Opdracht 7\n",
    "Het laatste product dat we willen bekijken is een product tussen een vector en een matrix. Het resultaat van de vermenigvuldiging is een nieuwe vector. De matrix dient hier als een lineaire transformatie, die de vector transformeert. Als de matrix vierkant is wordt de vector binnen dezelfde ruimte getransformeerd: een $2\\times 2$ matrix kan bijvoorbeeld een draaiing in 2D zijn, die alleen op 2D vectoren toe te passen is. Een matrix kan echter ook rechthoekig zijn, en bijvoorbeeld van 3D naar 2D projecteren, als een schaduw.\n",
    "Om geldig te zijn moet bij een matrix-vector vermenigvuldiging $M \\vec v$ het aantal kolommen in de matrix overeen komen met het aantal getallen in de vector. Het resultaat is een nieuwe vector, met net zoveel getallen als er rijen in de matrix waren. Iedere kolom bepaalt wat er met één getal in de input-vector gebeurt, en elke rij levert één getal in de uitvoervector op. Het getal in de <span style=\"color: #ffaa00\">derde rij</span>, <span style=\"color: #00aaff\">tweede kolom</span> van een matrix bepaalt hoeveel het <span style=\"color: #00aaff\">tweede getal</span> van de input-vector meeweegt voor het <span style=\"color: #ffaa00\">derde getal</span> in de output-vector. Het product kun je op twee manieren achterhalen. De bovenste geeft meer intuitie over wat er gebeurt, en is met de hand makkelijker uit te rekenen. De tweede ziet er op papier wat onoverzichtelijker uit, maar is mogelijk makkelijker te programmeren.\n",
    "\n",
    "$$\\begin{bmatrix}a & b \\\\ c & d\\end{bmatrix}\\begin{bmatrix}e \\\\ f \\end{bmatrix} = e \\begin{bmatrix}a \\\\ c\\end{bmatrix} + f \\begin{bmatrix}b \\\\ d\\end{bmatrix} = \\begin{bmatrix}ae+bf \\\\ ce+df\\end{bmatrix}$$\n",
    "\n",
    "$$\\begin{bmatrix}a & b \\\\ c & d\\end{bmatrix}\\begin{bmatrix}e \\\\ f \\end{bmatrix} = \n",
    "\\begin{bmatrix}\n",
    "\\langle \\begin{bmatrix}a \\\\ b\\end{bmatrix} | \\begin{bmatrix}e \\\\ f\\end{bmatrix} \\rangle \\\\\n",
    "\\langle \\begin{bmatrix}c \\\\ d\\end{bmatrix} | \\begin{bmatrix}e \\\\ f\\end{bmatrix} \\rangle\n",
    "\\end{bmatrix}\n",
    " = \\begin{bmatrix}ae+bf \\\\ ce+df\\end{bmatrix}\n",
    "$$\n",
    "\n",
    "Hieronder staan een aantal vectoren en matrices, bereken de gevraagde vector-matrix vermenigvuldigingen, of zeg $\\bot$ als de vermenigvuldiging niet mogelijk is. **Schrijf bij elke vermenigvuldiging ook de tussenstappen uit, zoals de voorbeelden hierboven — maaar dan met concrete getallen!**"
   ]
  },
  {
   "cell_type": "code",
   "execution_count": 115,
   "metadata": {
    "deletable": false,
    "editable": false
   },
   "outputs": [
    {
     "data": {
      "text/latex": [
       "$\\displaystyle \\vec u = \n",
       "\\begin{bmatrix}\n",
       "  -5\\\\\n",
       "  9\\\\\n",
       "  -15\\\\\n",
       "\\end{bmatrix}$"
      ],
      "text/plain": [
       "<IPython.core.display.Math object>"
      ]
     },
     "metadata": {},
     "output_type": "display_data"
    },
    {
     "data": {
      "text/markdown": [
       "<details><pre>$\\vec u =  \\begin{bmatrix}   -5\\\\   9\\\\   -15\\\\ \\end{bmatrix}$</pre></details>"
      ],
      "text/plain": [
       "<IPython.core.display.Markdown object>"
      ]
     },
     "metadata": {},
     "output_type": "display_data"
    },
    {
     "data": {
      "text/latex": [
       "$\\displaystyle \\vec v = \n",
       "\\begin{bmatrix}\n",
       "  -9\\\\\n",
       "  -17\\\\\n",
       "\\end{bmatrix}$"
      ],
      "text/plain": [
       "<IPython.core.display.Math object>"
      ]
     },
     "metadata": {},
     "output_type": "display_data"
    },
    {
     "data": {
      "text/markdown": [
       "<details><pre>$\\vec v =  \\begin{bmatrix}   -9\\\\   -17\\\\ \\end{bmatrix}$</pre></details>"
      ],
      "text/plain": [
       "<IPython.core.display.Markdown object>"
      ]
     },
     "metadata": {},
     "output_type": "display_data"
    },
    {
     "data": {
      "text/latex": [
       "$\\displaystyle \\mathbf{M} = \n",
       "\\begin{bmatrix}\n",
       "  -13 & 0\\\\\n",
       "  19 & -9\\\\\n",
       "  9 & -10\\\\\n",
       "\\end{bmatrix}$"
      ],
      "text/plain": [
       "<IPython.core.display.Math object>"
      ]
     },
     "metadata": {},
     "output_type": "display_data"
    },
    {
     "data": {
      "text/markdown": [
       "<details><pre>$\\mathbf{M} =  \\begin{bmatrix}   -13 & 0\\\\   19 & -9\\\\   9 & -10\\\\ \\end{bmatrix}$</pre></details>"
      ],
      "text/plain": [
       "<IPython.core.display.Markdown object>"
      ]
     },
     "metadata": {},
     "output_type": "display_data"
    },
    {
     "data": {
      "text/latex": [
       "$\\displaystyle \\mathbf{N} = \n",
       "\\begin{bmatrix}\n",
       "  15 & -5 & -4\\\\\n",
       "  18 & -14 & 19\\\\\n",
       "\\end{bmatrix}$"
      ],
      "text/plain": [
       "<IPython.core.display.Math object>"
      ]
     },
     "metadata": {},
     "output_type": "display_data"
    },
    {
     "data": {
      "text/markdown": [
       "<details><pre>$\\mathbf{N} =  \\begin{bmatrix}   15 & -5 & -4\\\\   18 & -14 & 19\\\\ \\end{bmatrix}$</pre></details>"
      ],
      "text/plain": [
       "<IPython.core.display.Markdown object>"
      ]
     },
     "metadata": {},
     "output_type": "display_data"
    },
    {
     "data": {
      "text/latex": [
       "$\\displaystyle \\mathbf{O} = \n",
       "\\begin{bmatrix}\n",
       "  -14 & 18\\\\\n",
       "  -16 & 18\\\\\n",
       "\\end{bmatrix}$"
      ],
      "text/plain": [
       "<IPython.core.display.Math object>"
      ]
     },
     "metadata": {},
     "output_type": "display_data"
    },
    {
     "data": {
      "text/markdown": [
       "<details><pre>$\\mathbf{O} =  \\begin{bmatrix}   -14 & 18\\\\   -16 & 18\\\\ \\end{bmatrix}$</pre></details>"
      ],
      "text/plain": [
       "<IPython.core.display.Markdown object>"
      ]
     },
     "metadata": {},
     "output_type": "display_data"
    },
    {
     "data": {
      "text/latex": [
       "$\\displaystyle \\vec {p_a} = \n",
       "\\begin{bmatrix}\n",
       "  16\\\\\n",
       "  -19\\\\\n",
       "\\end{bmatrix}$"
      ],
      "text/plain": [
       "<IPython.core.display.Math object>"
      ]
     },
     "metadata": {},
     "output_type": "display_data"
    },
    {
     "data": {
      "text/markdown": [
       "<details><pre>$\\vec {p_a} =  \\begin{bmatrix}   16\\\\   -19\\\\ \\end{bmatrix}$</pre></details>"
      ],
      "text/plain": [
       "<IPython.core.display.Markdown object>"
      ]
     },
     "metadata": {},
     "output_type": "display_data"
    },
    {
     "data": {
      "text/latex": [
       "$\\displaystyle \\vec {p_b} = \n",
       "\\begin{bmatrix}\n",
       "  -8\\\\\n",
       "  5\\\\\n",
       "\\end{bmatrix}$"
      ],
      "text/plain": [
       "<IPython.core.display.Math object>"
      ]
     },
     "metadata": {},
     "output_type": "display_data"
    },
    {
     "data": {
      "text/markdown": [
       "<details><pre>$\\vec {p_b} =  \\begin{bmatrix}   -8\\\\   5\\\\ \\end{bmatrix}$</pre></details>"
      ],
      "text/plain": [
       "<IPython.core.display.Markdown object>"
      ]
     },
     "metadata": {},
     "output_type": "display_data"
    },
    {
     "data": {
      "text/latex": [
       "$\\displaystyle \\vec {q_a} = \n",
       "\\begin{bmatrix}\n",
       "  -7\\\\\n",
       "  12\\\\\n",
       "  17\\\\\n",
       "  14\\\\\n",
       "\\end{bmatrix}$"
      ],
      "text/plain": [
       "<IPython.core.display.Math object>"
      ]
     },
     "metadata": {},
     "output_type": "display_data"
    },
    {
     "data": {
      "text/markdown": [
       "<details><pre>$\\vec {q_a} =  \\begin{bmatrix}   -7\\\\   12\\\\   17\\\\   14\\\\ \\end{bmatrix}$</pre></details>"
      ],
      "text/plain": [
       "<IPython.core.display.Markdown object>"
      ]
     },
     "metadata": {},
     "output_type": "display_data"
    },
    {
     "data": {
      "text/latex": [
       "$\\displaystyle \\vec {q_b} = \n",
       "\\begin{bmatrix}\n",
       "  11\\\\\n",
       "  -18\\\\\n",
       "  7\\\\\n",
       "  -3\\\\\n",
       "\\end{bmatrix}$"
      ],
      "text/plain": [
       "<IPython.core.display.Math object>"
      ]
     },
     "metadata": {},
     "output_type": "display_data"
    },
    {
     "data": {
      "text/markdown": [
       "<details><pre>$\\vec {q_b} =  \\begin{bmatrix}   11\\\\   -18\\\\   7\\\\   -3\\\\ \\end{bmatrix}$</pre></details>"
      ],
      "text/plain": [
       "<IPython.core.display.Markdown object>"
      ]
     },
     "metadata": {},
     "output_type": "display_data"
    }
   ],
   "source": [
    "RNG().set(3)\n",
    "\n",
    "random_tensor(r\"\\vec u\",3)\n",
    "random_tensor(r\"\\vec v\",2)\n",
    "random_tensor(r\"\\mathbf{M}\",(3,2))\n",
    "random_tensor(r\"\\mathbf{N}\",(2,3))\n",
    "random_tensor(r\"\\mathbf{O}\",(2,2))\n",
    "\n",
    "RNG().set(1)\n",
    "\n",
    "random_tensor(r\"\\vec {p_a}\",2)\n",
    "random_tensor(r\"\\vec {p_b}\",2)\n",
    "random_tensor(r\"\\vec {q_a}\",4)\n",
    "random_tensor(r\"\\vec {q_b}\",4)"
   ]
  },
  {
   "cell_type": "markdown",
   "metadata": {},
   "source": [
    "<div style=\"background:#fffff0;\">\n",
    "    \n",
    "### Matrix-vector-producten\n",
    "\n",
    "$\\mathbf{M} \\vec v = -9\\begin{bmatrix}   -13\\\\   9\\\\   19\\\\ \\end{bmatrix} + -17\\begin{bmatrix}   0\\\\   -9\\\\   -10\\\\ \\end{bmatrix} = \\begin{bmatrix}   117\\\\   72\\\\   -1\\\\ \\end{bmatrix}$\n",
    "\n",
    "$\\mathbf{M} \\vec u = ⊥$\n",
    "    \n",
    "$\\mathbf{N} \\vec v = ⊥$\n",
    "    \n",
    "$\\mathbf{N} \\vec u = -9\\begin{bmatrix}   15*-5+18*-5\\\\   -5*9+-14*9\\\\   -15*-4+19*-15\\\\ \\end{bmatrix}= \\begin{bmatrix}   -165\\\\   -171\\\\   -225\\\\ \\end{bmatrix}$\n",
    "      \n",
    "$\\mathbf{O} (\\mathbf{N} \\vec v) = ⊥$\n",
    "\n",
    "    \n",
    "<hr />\n",
    "    \n",
    "De vectoren $\\vec{p_a}$, $\\vec{p_b}$, $\\vec{q_a}$ en $\\vec{q_b}$ zijn hetzelfde als de vectoren $\\vec w$, $\\vec x$, $\\vec y$ en $\\vec z$ bij [opdracht 3](#opdr3). Toen hebben we de volgende twee *lineaire combinaties* uitgerekend:\n",
    "\n",
    "    \n",
    "$3\\vec{w} + 4\\vec{x} = \\begin{bmatrix}   -30\\\\   61\\\\ \\end{bmatrix}$\n",
    "\n",
    "$8\\vec{y} - \\frac{1}{2}\\vec{z} = \\begin{bmatrix}   -33\\frac{1}{2}\\\\   119\\\\   151\\\\   42\\\\ \\end{bmatrix}$\n",
    "\n",
    "Maak nu een matrix $\\mathbf{P}$ met als kolommen $\\vec{p_a}$ en $\\vec{p_b}$, en een matrix $\\mathbf{Q}$ met als kolommen $\\vec{q_a}$ en $\\vec{q_b}$ (telkens in de gegeven volgorde).\n",
    "\n",
    "$\\mathbf{P} =\\begin{bmatrix}  16*-8\\\\   -19*5\\\\ \\end{bmatrix} = \\begin{bmatrix}   -128\\\\   -95\\\\ \\end{bmatrix} $\n",
    "\n",
    "$\\mathbf{Q} = \\begin{bmatrix}  -7*11\\\\   12*-18\\\\  17*7\\\\   -14*-3\\\\ \\end{bmatrix} = \\begin{bmatrix}   -77\\\\   -216\\\\ 119\\\\   42\\\\ \\end{bmatrix} $ $\n",
    "    \n",
    "Gegeven deze twee matrices, reken de volgende vector-matrix vermenigvuldigingen uit. Vul als eerste tussenstap de juiste matrix in, en reken daarna **(ook weer met tussenstappen)** de berekening uit.\n",
    "\n",
    "$\\mathbf{P} \\begin{bmatrix}3 \\\\ 4\\end{bmatrix} = \\dots %TODO $\n",
    "\n",
    "$\\mathbf{Q} \\begin{bmatrix}8 \\\\ -\\frac{1}{2}\\end{bmatrix} = \\dots %TODO $\n",
    "\n",
    "**Vergelijk het antwoord met je antwoord van [opdracht 3](#opdr3). Wat valt je op?**\n",
    "\n",
    "</div>"
   ]
  },
  {
   "cell_type": "markdown",
   "metadata": {
    "deletable": false,
    "editable": false
   },
   "source": [
    "## Opdracht 8\n",
    "Maak een functie die een matrix `M` en een vector `v` vermenigvuldigt. Net als bij het inwendig product moet Python een `DimensionError` geven als de vermenigvuldiging niet mogelijk is."
   ]
  },
  {
   "cell_type": "code",
   "execution_count": 116,
   "metadata": {},
   "outputs": [],
   "source": [
    "def matrix_product(M: np.ndarray, v: np.ndarray) -> np.ndarray: # TODO\n",
    "    if len(M[0]) == len(v):\n",
    "        nieuwevector = []\n",
    "        for mlist in M:\n",
    "            product = 0\n",
    "            for number in mlist:\n",
    "                product += number*int(v[np.where(mlist == number)])\n",
    "            nieuwevector.append(product)\n",
    "    else: raise DimensionError(\"Vectors niet hetzelfde formaat\")\n",
    "    nieuwevector = np.array(nieuwevector)\n",
    "    return nieuwevector\n",
    "    pass"
   ]
  },
  {
   "cell_type": "markdown",
   "metadata": {
    "deletable": false,
    "editable": false
   },
   "source": [
    "### Tests\n",
    "| **Test** | **Betekenis** |\n",
    "|---:|:---|\n",
    "| `test_valid_product` | $\\mathbf{M} \\vec v$ werkt |\n",
    "| `test_invalid_product` | $\\mathbf{M} \\vec w$ geeft een `DimensionError` als de dimensies niet kloppen |\n",
    "| `test_scalar_product` | $(2\\mathbf{M}) \\vec v = 2(\\mathbf{M} \\vec v)$ |\n",
    "| `test_scalar_product2` | $\\mathbf{M} (2\\vec v) = 2(\\mathbf{M} \\vec v)$ |\n"
   ]
  },
  {
   "cell_type": "code",
   "execution_count": 117,
   "metadata": {
    "deletable": false,
    "editable": false
   },
   "outputs": [
    {
     "name": "stderr",
     "output_type": "stream",
     "text": [
      "test_invalid_product (ac_tests.test_vector_matrix_product.<locals>.TestVectorMatrixProduct) ... ok\n",
      "test_scalar_product (ac_tests.test_vector_matrix_product.<locals>.TestVectorMatrixProduct) ... ok\n",
      "test_scalar_product2 (ac_tests.test_vector_matrix_product.<locals>.TestVectorMatrixProduct) ... ok\n",
      "test_valid_product (ac_tests.test_vector_matrix_product.<locals>.TestVectorMatrixProduct) ... ok\n",
      "\n",
      "----------------------------------------------------------------------\n",
      "Ran 4 tests in 0.004s\n",
      "\n",
      "OK\n"
     ]
    }
   ],
   "source": [
    "test_vector_matrix_product(matrix_product)"
   ]
  },
  {
   "cell_type": "markdown",
   "metadata": {
    "deletable": false,
    "editable": false
   },
   "source": [
    "## Opdracht 9\n",
    "Tot slot kunnen we ook twee matrices met elkaar vermenigvuldigen. Hiermee combineren we de twee lineaire transformaties die in de matrices gecodeerd zit. Dit kan handig zijn als je dezelfde combinatie van matrices telkens met andere vectoren wilt vermenigvuldigen, zoals in de eindopdracht van deze week.\n",
    "\n",
    "Om geldig te zijn moet bij een matrix-matrix vermenigvuldiging $\\textbf{MN}$  het aantal kolommen in de matrix $M$ overeen komen met het aantal rijen in de matrix $\\bf N$. Het resultaat is een nieuwe vector, met net zoveel getallen als er rijen in de matrix waren. Iedere kolom in $\\bf M$ bepaalt wat er met één rij in $\\bf N$ gebeurt. Het product kun je wederom op twee manieren achterhalen. De eerste geeft meer intuitie over wat er gebeurt, zeker met betrekking tot de basisvectoren, en is daarnaast op papier. De tweede ziet er op papier juist wat minder helder uit, maar is wel weer makkelijker te programmeren.\n",
    "\n",
    "$$\\begin{bmatrix}a & b \\\\ c & d\\end{bmatrix}\\begin{bmatrix}e & f \\\\ g & h \\end{bmatrix} =\n",
    "\\begin{bmatrix}a & b \\\\ c & d\\end{bmatrix}\\begin{bmatrix}e & f \\\\ g & h \\end{bmatrix} =\n",
    "\\begin{bmatrix}\n",
    "  e \\begin{bmatrix}a \\\\ c\\end{bmatrix} +\n",
    "  g \\begin{bmatrix}b \\\\ d\\end{bmatrix} & \n",
    "  f \\begin{bmatrix}a \\\\ c\\end{bmatrix} +\n",
    "  h \\begin{bmatrix}b \\\\ d\\end{bmatrix}\n",
    "\\end{bmatrix}\n",
    " = \\begin{bmatrix}ae+bg & af+bh \\\\ ce+dg & cf+dh \\end{bmatrix}\n",
    "$$\n",
    "\n",
    "$$\\begin{bmatrix}a & b \\\\ c & d\\end{bmatrix}\\begin{bmatrix}e & f \\\\ g & h \\end{bmatrix} = \n",
    "\\begin{bmatrix}\n",
    "\\langle \\begin{bmatrix}a \\\\ b\\end{bmatrix} | \\begin{bmatrix}e \\\\ g\\end{bmatrix} \\rangle &\n",
    "\\langle \\begin{bmatrix}a \\\\ b\\end{bmatrix} | \\begin{bmatrix}f \\\\ h\\end{bmatrix} \\rangle \\\\\n",
    "\\langle \\begin{bmatrix}c \\\\ d\\end{bmatrix} | \\begin{bmatrix}e \\\\ g\\end{bmatrix} \\rangle &\n",
    "\\langle \\begin{bmatrix}c \\\\ d\\end{bmatrix} | \\begin{bmatrix}f \\\\ h\\end{bmatrix} \\rangle \\\\\n",
    "\\end{bmatrix}\n",
    " = \\begin{bmatrix}ae+bg & af+bh \\\\ ce+dg & cf+dh \\end{bmatrix}\n",
    "$$\n",
    "\n",
    "Je krijgt hieronder wederom een aantal willekeurige matrices; bereken de matrix-producten zoals aangegeven eronder, of zeg $\\bot$ als de vermenigvuldiging niet mogelijk is. **Schrijf bij elke vermenigvuldiging ook de tussenstappen uit, zoals de voorbeelden hierboven — maaar dan met concrete getallen!**"
   ]
  },
  {
   "cell_type": "code",
   "execution_count": 118,
   "metadata": {
    "deletable": false,
    "editable": false
   },
   "outputs": [
    {
     "data": {
      "text/latex": [
       "$\\displaystyle \\vec v = \n",
       "\\begin{bmatrix}\n",
       "  -9\\\\\n",
       "  -17\\\\\n",
       "\\end{bmatrix}$"
      ],
      "text/plain": [
       "<IPython.core.display.Math object>"
      ]
     },
     "metadata": {},
     "output_type": "display_data"
    },
    {
     "data": {
      "text/markdown": [
       "<details><pre>$\\vec v =  \\begin{bmatrix}   -9\\\\   -17\\\\ \\end{bmatrix}$</pre></details>"
      ],
      "text/plain": [
       "<IPython.core.display.Markdown object>"
      ]
     },
     "metadata": {},
     "output_type": "display_data"
    },
    {
     "data": {
      "text/latex": [
       "$\\displaystyle \\mathbf{M} = \n",
       "\\begin{bmatrix}\n",
       "  -13 & 0\\\\\n",
       "  19 & -9\\\\\n",
       "  9 & -10\\\\\n",
       "\\end{bmatrix}$"
      ],
      "text/plain": [
       "<IPython.core.display.Math object>"
      ]
     },
     "metadata": {},
     "output_type": "display_data"
    },
    {
     "data": {
      "text/markdown": [
       "<details><pre>$\\mathbf{M} =  \\begin{bmatrix}   -13 & 0\\\\   19 & -9\\\\   9 & -10\\\\ \\end{bmatrix}$</pre></details>"
      ],
      "text/plain": [
       "<IPython.core.display.Markdown object>"
      ]
     },
     "metadata": {},
     "output_type": "display_data"
    },
    {
     "data": {
      "text/latex": [
       "$\\displaystyle \\mathbf{N} = \n",
       "\\begin{bmatrix}\n",
       "  15 & -5 & -4\\\\\n",
       "  18 & -14 & 19\\\\\n",
       "\\end{bmatrix}$"
      ],
      "text/plain": [
       "<IPython.core.display.Math object>"
      ]
     },
     "metadata": {},
     "output_type": "display_data"
    },
    {
     "data": {
      "text/markdown": [
       "<details><pre>$\\mathbf{N} =  \\begin{bmatrix}   15 & -5 & -4\\\\   18 & -14 & 19\\\\ \\end{bmatrix}$</pre></details>"
      ],
      "text/plain": [
       "<IPython.core.display.Markdown object>"
      ]
     },
     "metadata": {},
     "output_type": "display_data"
    },
    {
     "data": {
      "text/latex": [
       "$\\displaystyle \\mathbf{O} = \n",
       "\\begin{bmatrix}\n",
       "  -14 & 18\\\\\n",
       "  -16 & 18\\\\\n",
       "\\end{bmatrix}$"
      ],
      "text/plain": [
       "<IPython.core.display.Math object>"
      ]
     },
     "metadata": {},
     "output_type": "display_data"
    },
    {
     "data": {
      "text/markdown": [
       "<details><pre>$\\mathbf{O} =  \\begin{bmatrix}   -14 & 18\\\\   -16 & 18\\\\ \\end{bmatrix}$</pre></details>"
      ],
      "text/plain": [
       "<IPython.core.display.Markdown object>"
      ]
     },
     "metadata": {},
     "output_type": "display_data"
    }
   ],
   "source": [
    "RNG().set(3).consume_entropy(0x03, -0x14, 0x14)\n",
    "\n",
    "random_tensor(r\"\\vec v\",2)\n",
    "random_tensor(r\"\\mathbf{M}\",(3,2))\n",
    "random_tensor(r\"\\mathbf{N}\",(2,3))\n",
    "random_tensor(r\"\\mathbf{O}\",(2,2))"
   ]
  },
  {
   "cell_type": "markdown",
   "metadata": {},
   "source": [
    "<div style=\"background:#fffff0;\">\n",
    "\n",
    "### Matrix-producten\n",
    "   \n",
    "$\\mathbf{O} (\\mathbf{N} \\vec v) = ⊥$\n",
    "\n",
    "$\\mathbf{O} \\mathbf{N} =   \\begin{bmatrix}   -4\\begin{bmatrix}   -14\\\\   -16\\\\ \\end{bmatrix} + 19\\begin{bmatrix}   18\\\\   18\\\\ \\end{bmatrix}&   -5\\begin{bmatrix}   -14\\\\   -16\\\\ \\end{bmatrix}+-14\\begin{bmatrix}   18\\\\   18\\\\ \\end{bmatrix}\n",
    "&   15\\begin{bmatrix}   -14\\\\   -16\\\\ \\end{bmatrix} + 18\\begin{bmatrix}   18\\\\   18\\\\ \\end{bmatrix}\\\\ \\end{bmatrix} = \\begin{bmatrix}   -4*-14 + 19*8 & -5*-14+14*18 &  15*-14 + 18*18 \\\\   -4*-16+19*18 & -5*-16+14*18 & 15*-16 + 18*18\n",
    "\\end{bmatrix} = \\begin{bmatrix}   208 & 182 &  114 \\\\   216 & 404 & 84\n",
    "\\end{bmatrix}$\n",
    "\n",
    "$(\\mathbf{O} \\mathbf{N}) \\vec v = ⊥$\n",
    "\n",
    "$ %newline $\n",
    "    \n",
    "$\\mathbf{O} \\mathbf{M} = ⊥$\n",
    "\n",
    "$\\mathbf{O} \\mathbf{O} = \\begin{bmatrix}   18\\begin{bmatrix}   -14\\\\   -16\\\\ \\end{bmatrix} + 18\\begin{bmatrix}   18\\\\   18\\\\ \\end{bmatrix}&   -14\\begin{bmatrix}   -14\\\\   -16\\\\ \\end{bmatrix}+-16\\begin{bmatrix}   18\\\\   18\\\\ \\end{bmatrix} \\end{bmatrix} = \\begin{bmatrix}   18*-14 + 18*18 & -14*-14+-16*18 \\\\   18*-16+18*18 & -14*-16+-16*18\n",
    "\\end{bmatrix} = \\begin{bmatrix}   72 & -92 \\\\   36 & -64 \n",
    "\\end{bmatrix}$\n",
    "\n",
    "$\\mathbf{N} \\mathbf{N} = ⊥$\n",
    "\n",
    "$\\mathbf{N} \\mathbf{M} = ⊥$\n",
    "\n",
    "$\\mathbf{N} \\mathbf{O} = ⊥$\n",
    "\n",
    "$\\mathbf{O} \\mathbf{N} = \\begin{bmatrix}   -4\\begin{bmatrix}   -14\\\\   -16\\\\ \\end{bmatrix} + 19\\begin{bmatrix}   18\\\\   18\\\\ \\end{bmatrix}&   -5\\begin{bmatrix}   -14\\\\   -16\\\\ \\end{bmatrix}+-14\\begin{bmatrix}   18\\\\   18\\\\ \\end{bmatrix}\n",
    "&   15\\begin{bmatrix}   -14\\\\   -16\\\\ \\end{bmatrix} + 18\\begin{bmatrix}   18\\\\   18\\\\ \\end{bmatrix}\\\\ \\end{bmatrix} = \\begin{bmatrix}   -4*-14 + 19*8 & -5*-14+14*18 &  15*-14 + 18*18 \\\\   -4*-16+19*18 & -5*-16+14*18 & 15*-16 + 18*18\n",
    "\\end{bmatrix} = \\begin{bmatrix}   208 & 182 &  114 \\\\   216 & 404 & 84\n",
    "\\end{bmatrix}$\n",
    "\n",
    "$\\mathbf{O} \\mathbf{M} = ⊥$\n",
    "\n",
    "$\\mathbf{O} \\mathbf{O} = \\begin{bmatrix}   18\\begin{bmatrix}   -14\\\\   -16\\\\ \\end{bmatrix} + 18\\begin{bmatrix}   18\\\\   18\\\\ \\end{bmatrix}&   -14\\begin{bmatrix}   -14\\\\   -16\\\\ \\end{bmatrix}+-16\\begin{bmatrix}   18\\\\   18\\\\ \\end{bmatrix} \\end{bmatrix} = \\begin{bmatrix}   18*-14 + 18*18 & -14*-14+-16*18 \\\\   18*-16+18*18 & -14*-16+-16*18\n",
    "\\end{bmatrix} = \\begin{bmatrix}   72 & -92 \\\\   36 & -64 \n",
    "\\end{bmatrix}$\n",
    "\n",
    "</div>"
   ]
  },
  {
   "cell_type": "markdown",
   "metadata": {
    "deletable": false,
    "editable": false
   },
   "source": [
    "## Opdracht 10\n",
    "Ook de matrix-matrix vermenigvuldiging gaan we uitprogrammeren. We herschrijven onze functie `matrix_product` zo, dat deze ook voor twee matrices te gebruiken is. Let erop dat de functie ook nog steeds op een matrix en een vector moet blijven werken; we kunnen de vector dan zien als een matrix met een enkele kolom. Natuurlijk wordt er ook weer een `DimensionError` gegeven als de vermenigvuldiging niet kan.\n",
    "\n",
    "$$\\begin{bmatrix}a & b \\\\ c & d\\end{bmatrix}\\begin{bmatrix}e & f \\\\ g & h \\end{bmatrix} = \n",
    "\\begin{bmatrix}\n",
    "\\langle \\begin{bmatrix}a \\\\ b\\end{bmatrix} | \\begin{bmatrix}e \\\\ g\\end{bmatrix} \\rangle &\n",
    "\\langle \\begin{bmatrix}a \\\\ b\\end{bmatrix} | \\begin{bmatrix}f \\\\ h\\end{bmatrix} \\rangle \\\\\n",
    "\\langle \\begin{bmatrix}c \\\\ d\\end{bmatrix} | \\begin{bmatrix}e \\\\ g\\end{bmatrix} \\rangle &\n",
    "\\langle \\begin{bmatrix}c \\\\ d\\end{bmatrix} | \\begin{bmatrix}f \\\\ h\\end{bmatrix} \\rangle \\\\\n",
    "\\end{bmatrix}\n",
    " = \\begin{bmatrix}ae+bg & af+bh \\\\ ce+dg & cf+dh \\end{bmatrix}\n",
    "$$"
   ]
  },
  {
   "cell_type": "code",
   "execution_count": 119,
   "metadata": {},
   "outputs": [],
   "source": [
    "def matrix_product(M: np.ndarray, N: np.ndarray) -> np.ndarray: # TODO\n",
    "    if len(M[0]) == len(N):\n",
    "        nieuwevector = []\n",
    "        for mlist in range(len(M)):\n",
    "            product = 0\n",
    "            for number in range(len(M[mlist])):\n",
    "                product += M[mlist][number] * N[number]\n",
    "            nieuwevector.append(product)\n",
    "    else: raise DimensionError(\"Vectors niet hetzelfde formaat\")\n",
    "    nieuwevector = np.array(nieuwevector)\n",
    "    return nieuwevector\n",
    "    pass\n",
    "\n",
    "\n",
    "#     if len(M[0]) != len(N):\n",
    "#         raise DimensionError(\"Vermenigvuldigen is niet mogelijk.\")\n",
    "#     else:\n",
    "#         output = []\n",
    "#         for itemsM in range (0, len(M)):\n",
    "#             i = 0\n",
    "#             for itemsN in range(0, len(M[itemsM])):\n",
    "#                 i += M[itemsM][itemsN] * N[itemsN]\n",
    "#             output.append(i)\n",
    "#         return np.array(output)"
   ]
  },
  {
   "cell_type": "markdown",
   "metadata": {
    "deletable": false,
    "editable": false
   },
   "source": [
    "### Tests\n",
    "| **Test** | **Betekenis** |\n",
    "|---:|:---|\n",
    "| `test_vector_product` | $\\mathbf{M} \\vec v$ werkt nog steeds (uitvoer mag een 1-D array zijn of een 2D-array met 1 kolom) |\n",
    "| `test_vector_product` | $\\mathbf{M} \\mathbf{N}$ werkt |\n",
    "| `test_invalid_product` | $\\mathbf{M} \\mathbf{N}$ geeft een `DimensionError` als de dimensies niet kloppen |\n"
   ]
  },
  {
   "cell_type": "code",
   "execution_count": 120,
   "metadata": {
    "deletable": false,
    "editable": false
   },
   "outputs": [
    {
     "name": "stderr",
     "output_type": "stream",
     "text": [
      "test_invalid_product (ac_tests.test_matrix_product.<locals>.TestMatrixProduct) ... ok\n",
      "test_matrix_product (ac_tests.test_matrix_product.<locals>.TestMatrixProduct) ... ok\n",
      "test_vector_product (ac_tests.test_matrix_product.<locals>.TestMatrixProduct) ... ok\n",
      "\n",
      "----------------------------------------------------------------------\n",
      "Ran 3 tests in 0.003s\n",
      "\n",
      "OK\n"
     ]
    }
   ],
   "source": [
    "test_matrix_product(matrix_product)"
   ]
  },
  {
   "cell_type": "markdown",
   "metadata": {
    "deletable": false,
    "editable": false
   },
   "source": [
    "## Opdracht 11\n",
    "Kunstmatige neurale netwerken worden vaak beschreven door middel van matrices. Dit maakt het makkelijk om met een neuraal netwerk te rekenen. Bekijk nogmaals de onderstaande video om dit concept te begrijpen (het kan zijn dat je de Python cel moet uitvoeren om de video te krijgen). Wij gaan de functies die we tot nu toe gedefinieerd hebben nu inzetten om een simpel getraind neuraal network door te rekenen."
   ]
  },
  {
   "cell_type": "code",
   "execution_count": 121,
   "metadata": {
    "deletable": false,
    "editable": false
   },
   "outputs": [
    {
     "data": {
      "image/jpeg": "[encoded data removed]",
      "text/html": [
       "\n",
       "        <iframe\n",
       "            width=\"800\"\n",
       "            height=\"500\"\n",
       "            src=\"https://www.youtube.com/embed/aircAruvnKk\"\n",
       "            frameborder=\"0\"\n",
       "            allowfullscreen\n",
       "        ></iframe>\n",
       "        "
      ],
      "text/plain": [
       "<IPython.lib.display.YouTubeVideo at 0x293f71eda48>"
      ]
     },
     "execution_count": 121,
     "metadata": {},
     "output_type": "execute_result"
    }
   ],
   "source": [
    "YouTubeVideo('aircAruvnKk', width=800, height=500)"
   ]
  },
  {
   "cell_type": "markdown",
   "metadata": {
    "deletable": false,
    "editable": false
   },
   "source": [
    "Let wel, voor deze opdracht laten we de sigmoid functie die in de video genoemd wordt achterwege!\n",
    "\n",
    "Elke overgang van de ene laag naar de andere laag van een neuraal netwerk wordt weergegeven met een matrix, $L_i$  welke de overgang beschrijft van laag $\\text{i}$ naar laag $i+1$ in het netwerk. In het onderstaande voorbeeld hebben we 3 lagen: een input laag, één hidden layer en een output laag.\n",
    "\n",
    "![neural network](neuralnetwork.png)\n",
    "\n",
    "We hebben nu dus 2 overgangen, oftewel matrices $\\mathbf{L_0}$ en $\\mathbf{L_1}$. Stel nu dat de input van het netwerk (de waardes van laag 0) wordt gegeven door de vector $\\vec{x}$, dan kan de output van het netwerk $\\vec{y}$ worden gegeven door:\n",
    "\n",
    "$$\\vec{y} = \\mathbf{L_1} (\\mathbf{L_0} \\vec{x})$$\n",
    "\n",
    "We hebben gezien dat we de haakjes ook anders mogen zetten: door eerst de twee matrices met elkaar te vermenigvuldigen en het resultaat dan op $\\vec x$ toe te passen hoeven we voor iedere nieuwe invoersvector $\\vec{x_1} \\dots \\vec{x_n}$ nog maar één matrixvermenigvuldiging uit te voeren:\n",
    "\n",
    "$$\\vec{y} = (\\mathbf{L_1} \\mathbf{L_0}) \\vec{x}$$\n",
    "\n",
    "## De opdracht\n",
    "\n",
    "Voor de eindopdracht van deze week is het de bedoeling om een functie `read_network(filename: str)` te maken die een netwerk in kan lezen vanuit een JSON-bestand (hiervoor zijn twee voorbeelden beschikbaar: `example.json` en `example-2layer.json`). De functie leest de lagen uit de JSON-file in, en maakt matrices voor de veschillende lagen. Als dit er meer dan 1 is worden de lagen onderling vast vermenigvuldigt, zodat er effectief maar een laag nodig is. Tijdens het trainen van een netwerk (wat voor ons al gedaan is) geven de extra lagen mogelijkheid om beter te trainen, maar nu we een getraind model hebben zitten extra lagen vooral in de weg.\n",
    "\n",
    "Een tweede functie, `run_network(filename: str, input_vector: np.ndarray)` gebruikt `read_network()` en `matrix_multiplication` om de JSON-file niet alleen in te lezen, maar ook toe te passen op de gegeven `input_vector`."
   ]
  },
  {
   "cell_type": "code",
   "execution_count": 122,
   "metadata": {},
   "outputs": [],
   "source": [
    "import json\n",
    "\n",
    "def read_network(filename: str) -> np.ndarray: # TODO\n",
    "    with open(filename) as json_file:\n",
    "        data = json.load(json_file)\n",
    "    print(data)\n",
    "    pass\n",
    "\n",
    "def run_network(filename: str, input_vector: np.ndarray) -> np.ndarray: # TODO\n",
    "    with open(filename) as json_file:\n",
    "        data = json.load(json_file)\n",
    "    print(data)\n",
    "    pass"
   ]
  },
  {
   "cell_type": "markdown",
   "metadata": {
    "deletable": false,
    "editable": false
   },
   "source": [
    "### Tests\n",
    "| **Test** | **Betekenis** |\n",
    "|---:|:---|\n",
    "| `test_read_singlelayer` | Het voorbeeld-netwerk met 1 layer wordt goed ingelezen |\n",
    "| `test_read_duallayer` | Het voorbeeld-netwerk met 2 layers wordt goed ingelezen |\n",
    "| `test_read_singlelayer` | Het voorbeeld-netwerk met 1 layer wordt goed uitgevoerd |\n",
    "| `test_read_duallayer` | Het voorbeeld-netwerk met 2 layers wordt goed uitgevoerd |\n"
   ]
  },
  {
   "cell_type": "code",
   "execution_count": 123,
   "metadata": {
    "deletable": false,
    "editable": false
   },
   "outputs": [
    {
     "name": "stderr",
     "output_type": "stream",
     "text": [
      "test_read_duallayer (ac_tests.test_neural_network.<locals>.TestNeuralNetwork) ... ERROR\n",
      "test_read_singlelayer (ac_tests.test_neural_network.<locals>.TestNeuralNetwork) ... ERROR\n",
      "test_run_duallayer (ac_tests.test_neural_network.<locals>.TestNeuralNetwork) ... ERROR\n",
      "test_run_singlelayer (ac_tests.test_neural_network.<locals>.TestNeuralNetwork) ... "
     ]
    },
    {
     "name": "stdout",
     "output_type": "stream",
     "text": [
      "{'layer1': {'size_in': '5', 'size_out': '4', 'weights': {'1': {'1': '0.5', '2': '0.2', '4': '0.1'}, '2': {'1': '0.2', '2': '-0.5', '3': '0.2', '4': '0.8'}, '3': {'2': '-0.1', '4': '0.3'}, '4': {'2': '0.9', '3': '0.1'}, '5': {'1': '-0.2', '2': '-0.8', '3': '-0.1', '4': '-0.7'}}}, 'layer2': {'size_in': '4', 'size_out': '2', 'weights': {'1': {'1': '0.5', '2': '0.2'}, '2': {'1': '0.2', '2': '-0.5'}, '3': {'1': '-0.1', '2': '0.3'}, '4': {'1': '0.9', '2': '0.1'}}}}\n",
      "{'layer1': {'size_in': '5', 'size_out': '4', 'weights': {'1': {'1': '0.5', '2': '0.2', '4': '0.1'}, '2': {'1': '0.2', '2': '-0.5', '3': '0.2', '4': '0.8'}, '3': {'2': '-0.1', '4': '0.3'}, '4': {'2': '0.9', '3': '0.1'}, '5': {'1': '-0.2', '2': '-0.8', '3': '-0.1', '4': '-0.7'}}}}\n",
      "{'layer1': {'size_in': '5', 'size_out': '4', 'weights': {'1': {'1': '0.5', '2': '0.2', '4': '0.1'}, '2': {'1': '0.2', '2': '-0.5', '3': '0.2', '4': '0.8'}, '3': {'2': '-0.1', '4': '0.3'}, '4': {'2': '0.9', '3': '0.1'}, '5': {'1': '-0.2', '2': '-0.8', '3': '-0.1', '4': '-0.7'}}}, 'layer2': {'size_in': '4', 'size_out': '2', 'weights': {'1': {'1': '0.5', '2': '0.2'}, '2': {'1': '0.2', '2': '-0.5'}, '3': {'1': '-0.1', '2': '0.3'}, '4': {'1': '0.9', '2': '0.1'}}}}\n",
      "{'layer1': {'size_in': '5', 'size_out': '4', 'weights': {'1': {'1': '0.5', '2': '0.2', '4': '0.1'}, '2': {'1': '0.2', '2': '-0.5', '3': '0.2', '4': '0.8'}, '3': {'2': '-0.1', '4': '0.3'}, '4': {'2': '0.9', '3': '0.1'}, '5': {'1': '-0.2', '2': '-0.8', '3': '-0.1', '4': '-0.7'}}}}\n"
     ]
    },
    {
     "name": "stderr",
     "output_type": "stream",
     "text": [
      "ERROR\n",
      "\n",
      "======================================================================\n",
      "ERROR: test_read_duallayer (ac_tests.test_neural_network.<locals>.TestNeuralNetwork)\n",
      "----------------------------------------------------------------------\n",
      "Traceback (most recent call last):\n",
      "  File \"C:\\Users\\ruben\\v1ac\\ac_tests.py\", line 161, in test_read_duallayer\n",
      "    matrix_product(self.layer2, self.layer1))\n",
      "  File \"d:\\users\\ruben\\appdata\\local\\programs\\python\\python37\\lib\\site-packages\\numpy\\testing\\_private\\utils.py\", line 1047, in assert_array_almost_equal\n",
      "    precision=decimal)\n",
      "  File \"d:\\users\\ruben\\appdata\\local\\programs\\python\\python37\\lib\\site-packages\\numpy\\testing\\_private\\utils.py\", line 794, in assert_array_compare\n",
      "    val = comparison(x, y)\n",
      "  File \"d:\\users\\ruben\\appdata\\local\\programs\\python\\python37\\lib\\site-packages\\numpy\\testing\\_private\\utils.py\", line 1038, in compare\n",
      "    z = abs(x - y)\n",
      "TypeError: unsupported operand type(s) for -: 'NoneType' and 'float'\n",
      "\n",
      "======================================================================\n",
      "ERROR: test_read_singlelayer (ac_tests.test_neural_network.<locals>.TestNeuralNetwork)\n",
      "----------------------------------------------------------------------\n",
      "Traceback (most recent call last):\n",
      "  File \"C:\\Users\\ruben\\v1ac\\ac_tests.py\", line 158, in test_read_singlelayer\n",
      "    np.testing.assert_array_almost_equal(read_network(r\"example.json\"), self.layer1)\n",
      "  File \"d:\\users\\ruben\\appdata\\local\\programs\\python\\python37\\lib\\site-packages\\numpy\\testing\\_private\\utils.py\", line 1047, in assert_array_almost_equal\n",
      "    precision=decimal)\n",
      "  File \"d:\\users\\ruben\\appdata\\local\\programs\\python\\python37\\lib\\site-packages\\numpy\\testing\\_private\\utils.py\", line 794, in assert_array_compare\n",
      "    val = comparison(x, y)\n",
      "  File \"d:\\users\\ruben\\appdata\\local\\programs\\python\\python37\\lib\\site-packages\\numpy\\testing\\_private\\utils.py\", line 1038, in compare\n",
      "    z = abs(x - y)\n",
      "TypeError: unsupported operand type(s) for -: 'NoneType' and 'float'\n",
      "\n",
      "======================================================================\n",
      "ERROR: test_run_duallayer (ac_tests.test_neural_network.<locals>.TestNeuralNetwork)\n",
      "----------------------------------------------------------------------\n",
      "Traceback (most recent call last):\n",
      "  File \"C:\\Users\\ruben\\v1ac\\ac_tests.py\", line 166, in test_run_duallayer\n",
      "    np.testing.assert_array_almost_equal(run_network(r\"example-2layer.json\", np.ones(5)).reshape(2),\n",
      "AttributeError: 'NoneType' object has no attribute 'reshape'\n",
      "\n",
      "======================================================================\n",
      "ERROR: test_run_singlelayer (ac_tests.test_neural_network.<locals>.TestNeuralNetwork)\n",
      "----------------------------------------------------------------------\n",
      "Traceback (most recent call last):\n",
      "  File \"C:\\Users\\ruben\\v1ac\\ac_tests.py\", line 163, in test_run_singlelayer\n",
      "    np.testing.assert_array_almost_equal(run_network(r\"example.json\", np.ones(5)).reshape(4),\n",
      "AttributeError: 'NoneType' object has no attribute 'reshape'\n",
      "\n",
      "----------------------------------------------------------------------\n",
      "Ran 4 tests in 0.010s\n",
      "\n",
      "FAILED (errors=4)\n"
     ]
    }
   ],
   "source": [
    "test_neural_network(read_network, run_network, matrix_product)"
   ]
  },
  {
   "cell_type": "markdown",
   "metadata": {
    "deletable": false,
    "editable": false
   },
   "source": [
    "# Checkpoint Alfa <a id='cp-alfa'></a>\n",
    "Als je alles hierboven hebt gemaakt kun je je werk inleveren. Als de testen aangeven dat er nog fouten in zitten, probeer deze dan te verbeteren, maar schroom ook niet om de docent om hulp te vragen als je er niet uitkomt.\n",
    "\n",
    "Om je werk in te leveren moet je er allereerst voor zorgen dat je Notebook is opgeslagen (ctrl-s of het icoontje in de toolbar). Daarna kun je een Git-commit maken en deze naar je eigen GitHub of GitLab pushen. De link naar je repository is uiteindelijk wat je inlevert op Canvas, om de docent een seintje te geven dat er werk te beoordelen is."
   ]
  },
  {
   "cell_type": "markdown",
   "metadata": {
    "deletable": false,
    "editable": false
   },
   "source": [
    "# Stelsels van Vergelijkingen\n",
    "\n",
    "*Aerith is twee keer zo oud als Bronn. Bronn is vijf jaar jonger dan Calia. Aerith en Calia zijn samen één jaar jonger dan vijf keer de leeftijd van Bronn. Hoe oud is iedereen?*\n",
    "\n",
    "Dit type raadsel is met een beetje wiskunde makkelijk op te lossen. Het is een voorbeeld van een stelsel van vergelijkingen, die we in wiskundige termen kunnen opschrijven:\n",
    "\n",
    "$a = 2b$\n",
    "\n",
    "$b+5=c$\n",
    "\n",
    "$a+c = 5b-1$\n",
    "\n",
    "We hebben hier te maken met drie vergelijkingen (zinnen in het raadsel) en drie onbekenden (de leeftijden van de drie personen). Als we de formules zo herschrijven dat alle onbekenden links staan, en alle onbekenden rechts krijgen we de volgende formules (ga dit voor jezelf na):\n",
    "\n",
    "$1a -2b +0c = 0$\n",
    "\n",
    "$0a +1b -1c = -5$\n",
    "\n",
    "$1a -5b +1c = -1$\n",
    "\n",
    "We kunnen hier een speciaal soort matrix van maken: een geaugmenteerde matrix.\n",
    "\n",
    "$$\\left[\\begin{array}{ccc|c}\n",
    "1 & -2 &  0 &  0 \\\\\n",
    "0 &  1 & -1 & -5 \\\\\n",
    "1 & -5 &  1 & -1 \\\\\n",
    "\\end{array}\\right]$$\n",
    "\n",
    "Deze kunnen we oplossen met Gauss-Jordan eliminatie. Eerst trekken we de eerste rij van de derde af:\n",
    "\n",
    "$$\\left[\\begin{array}{ccc|c}\n",
    "1 & -2 &  0 &  0 \\\\\n",
    "0 &  1 & -1 & -5 \\\\\n",
    "0 & -3 &  1 & -1 \\\\\n",
    "\\end{array}\\right]$$\n",
    "\n",
    "Dan tellen we drie keer de tweede rij bij de derde op:\n",
    "\n",
    "$$\\left[\\begin{array}{ccc|c}\n",
    "1 & -2 &  0 &   0 \\\\\n",
    "0 &  1 & -1 &  -5 \\\\\n",
    "0 &  0 & -2 & -16 \\\\\n",
    "\\end{array}\\right]$$\n",
    "\n",
    "Dan delen we de derde rij door min twee:\n",
    "\n",
    "$$\\left[\\begin{array}{ccc|c}\n",
    "1 & -2 &  0 &  0 \\\\\n",
    "0 &  1 & -1 & -5 \\\\\n",
    "0 &  0 &  1 &  8 \\\\\n",
    "\\end{array}\\right]$$\n",
    "\n",
    "We kunnen de derde rij nu bij de tweede optellen:\n",
    "\n",
    "$$\\left[\\begin{array}{ccc|c}\n",
    "1 & -2 & 0 & 0 \\\\\n",
    "0 &  1 & 0 & 3 \\\\\n",
    "0 &  0 & 1 & 8 \\\\\n",
    "\\end{array}\\right]$$\n",
    "\n",
    "Tot slot tellen we twee keer de tweede rij bij de eerste op:\n",
    "\n",
    "$$\\left[\\begin{array}{ccc|c}\n",
    "1 & 0 & 0 & 6 \\\\\n",
    "0 & 1 & 0 & 3 \\\\\n",
    "0 & 0 & 1 & 8 \\\\\n",
    "\\end{array}\\right]$$\n",
    "\n",
    "Terug naar vergelijkingen staat er nu:\n",
    "\n",
    "$a = 6$\n",
    "\n",
    "$b = 3$\n",
    "\n",
    "$c = 8$\n",
    "\n",
    "Dus Aerith is zes, Bronn is drie en Calia is acht. Met de hand is Gauss-Jordan eliminatie een goede manier om een stelsel van vergelijkingen op te lossen."
   ]
  },
  {
   "cell_type": "markdown",
   "metadata": {
    "deletable": false,
    "editable": false
   },
   "source": [
    "## Opdracht 12\n",
    "\n",
    "Het blok hieronder genereert een willekeurige oplosbare augmented matrix voor je. Schrijf deze matrix terug naar een stelsel van vergelijkingen, en voer Gauss-Jordan eliminatie op de matrix uit. Wat zijn de waardes van de drie onbekenden $x_0$, $x_1$ en $x_2$?"
   ]
  },
  {
   "cell_type": "code",
   "execution_count": 124,
   "metadata": {
    "deletable": false,
    "editable": false
   },
   "outputs": [
    {
     "data": {
      "text/latex": [
       "$\\displaystyle (\\mathbf{A} | \\vec b) = \n",
       "\\left[\\begin{array}{ccc|c}\n",
       "  0 & 1 & 1 & 0\\\\\n",
       "  0 & 2 & 0 & -4\\\\\n",
       "  2 & 0 & 1 & -8\\\\\n",
       "\\end{array}\\right]$"
      ],
      "text/plain": [
       "<IPython.core.display.Math object>"
      ]
     },
     "metadata": {},
     "output_type": "display_data"
    },
    {
     "data": {
      "text/markdown": [
       "<details><pre>$(\\mathbf{A} | \\vec b) =  \\left[\\begin{array}{ccc|c}   0 & 1 & 1 & 0\\\\   0 & 2 & 0 & -4\\\\   2 & 0 & 1 & -8\\\\ \\end{array}\\right]$</pre></details>"
      ],
      "text/plain": [
       "<IPython.core.display.Markdown object>"
      ]
     },
     "metadata": {},
     "output_type": "display_data"
    }
   ],
   "source": [
    "RNG().set(4)\n",
    "random_sys_of_eq()"
   ]
  },
  {
   "cell_type": "markdown",
   "metadata": {},
   "source": [
    "<div style=\"background:#fffff0;\">\n",
    "\n",
    "### Stelsel van vergelijkingen\n",
    "\n",
    "$0 x_0 +1 x_1 + 1 x_2 = 0 %TODO $\n",
    "\n",
    "$0 x_0 + 2 x_1 + 0 x_2 = -4 %TODO $\n",
    "\n",
    "$2 x_0 + 0 x_1 + 1 x_2 = -8 %TODO $\n",
    "    \n",
    "### Gauss-Jordan eliminatie\n",
    "    \n",
    "$(\\mathbf{A} | \\vec b) =  \\left[\\begin{array}{ccc|c}   0 & 1 & 1 & 0\\\\   0 & 2 & 0 & -4\\\\   2 & 0 & 1 & -4\\\\ \\end{array}\\right] = \\left[\\begin{array}{ccc|c}   0 & 1 & 1 & 0\\\\   0 & 2 & 0 & -4\\\\   1 & 0 & 0.5 & -4\\\\ \\end{array}\\right] = \\left[\\begin{array}{ccc|c}   0 & 1 & 1 & 0\\\\   0 & 0 & -2 & -4\\\\   1 & 0 & 0.5 & -4\\\\ \\end{array}\\right] = \\left[\\begin{array}{ccc|c}   0 & 1 & 1 & 0\\\\   0 & 0 & 1 & 2\\\\   1 & 0 & 0.5 & -4\\\\ \\end{array}\\right] = \\left[\\begin{array}{ccc|c}   0 & 1 & 0 & -2\\\\   0 & 0 & 1 & 2\\\\   1 & 0 & 0 & -5\\\\ \\end{array}\\right]$\n",
    "\n",
    "    \n",
    "$(\\mathbf{A} | \\vec b) = \\dots %TODO: kopieer de matrix uit de cel hierboven en pas hier Gauss-Jordan eliminatie op toe.$\n",
    "    \n",
    "### Resultaat\n",
    "\n",
    "$x_0 = -5 $\n",
    "    \n",
    "$x_1 = -2 $\n",
    "    \n",
    "$x_2 = 2 $\n",
    "\n",
    "</div>"
   ]
  },
  {
   "cell_type": "markdown",
   "metadata": {
    "deletable": false,
    "editable": false
   },
   "source": [
    "## Augmented Matrices as matrix-vector vergelijkingen\n",
    "De *augmented matrix* staat eigenlijk voor een matrix en een vector, in een vergelijking:\n",
    "\n",
    "$$\\begin{bmatrix}\n",
    "1 & -2 &  0 \\\\\n",
    "0 &  1 & -1 \\\\\n",
    "1 & -5 &  1 \\\\\n",
    "\\end{bmatrix} \n",
    "\\begin{bmatrix}a \\\\ b \\\\ c \\end{bmatrix} =\n",
    "\\begin{bmatrix}0 \\\\ -5 \\\\ -1 \\end{bmatrix}$$\n",
    "\n",
    "Als we de matrix $\\mathbf{A}$ noemen, de vector met de drie onbekenden $\\vec x$ en de vector rechts van de streep $\\vec b$ hebben we $\\mathbf{A}\\vec x = \\vec b$. Dit geeft de indruk dat als we beide kanten door $\\mathbf{A}$ we zien dat de vector die we zoeken, $\\vec x$, gelijk is aan $\\vec b\\ /\\ \\mathbf{A}$. Delen van een vector door een matrix bestaat helaas niet, maar we kunnen wel iets anders doen.\n",
    "\n",
    "### De omgekeerde\n",
    "Als we even teruggaan naar getallen, en vragen om $8$ door $2$ te delen, zonder deling te gebruiken, dan kunnen we dit met een breuk oplossen:\n",
    "\n",
    "$$8/2 = \\frac{1}{2} \\times 8 = 4$$\n",
    "\n",
    "De breuk, *een half*, is hier de *omgekeerde* van twee, en andersom is twee de omgekeerde van *een half*. **Bijna** ieder getal heeft een omgekeerde. Soms is de omgekeerde het getal zelf: de omgekeerde van $1$ is $\\frac{1}{1}$ is gewoon $1$. Het enige normale getal zonder omgekeerde is $0$, want dan zouden we $\\frac{1}{0}$ moeten hebben en delen door $0$ kan helaas niet.\n",
    "\n",
    "Bij matrices kan er ook sprake zijn van een omgekeerde, de *inverse matrix*, maar lang niet elke matrix heeft er een. Het feit dat het raadsel waar we mee begonnen een oplossing heeft betekent dat deze matrix er wel een moet hebben, maar in het algemeen kunnen we er niet vanuit gaan.\n",
    "\n",
    "Als we een matrix als een transformatie zien dan is de inverse matrix de zelfde transformatie, maar dan omgekeerd. Als we de transformatie doen, en dan de omgekeerde, is het alsof er niets gebeurd is. Ook kunnen we eerst de omgekeerde doen, en dan de gewone matrix, ook dan mag er niets veranderen. Een matrix waarvoor de inverse bestaat noemen we \"omkeerbaar\" of in het engels \"invertible\".\n",
    "\n",
    "### Niet omkeerbare matrices\n",
    "Een matrix die van 2D naar 3D gaat is een voorbeeld van een matrix die niet om te keren is: door de transformatie raken we de diepte uit. Je kan van een object wel bepalen hoe de schaduw eruit moet zien, maar uit de schaduw niet het hele 3D-plaatje terughalen. Om een omgekeerde te hebben moet een matrix dus op zijn minst vierkant zijn.\n",
    "\n",
    "Een matrix van 3D naar 2D (een $2\\times 3$-matrix) heeft geen omgekeerde omdat we niet terug van 2D naar 3D kunnen. Een matrix maar van 2D naar 3D kunnen we wel ongedaan maken (een 2D-vlak in 3D blijft 2D, zoals een vel papier dat niet plat op tafel ligt maar in een ruimte zweeft), maar voor een omgekeerde moet gelden dat de volgorde niet uitmaakt: eerst de gewone matrix en dan de omgekeerde, of eerst de omgekeerde en dan de gewone matrix, in beide gevallen moet er niets gebeuren. Voor een 3D-naar-2D matrix bestaat er geen omgekeerde, dus voor een 2D-naar-3D matrix $\\mathbf{M}$ is er geen 3D-naar-2D matrix te vinden die $\\mathbf{M}$ als omgekeerde heeft.\n",
    "\n",
    "### De determinant\n",
    "Een manier om te bepalen of een matrix omkeerbaar is, is naar de determinant te kijken. Een matrix kan bijvoorbeeld niet omkeerbaar zijn omdat deze van 3 naar 2 dimensies projecteert. In 3D geeft de determinant de factor aan waarmee volumes (de inhoud) van vormen in de 3D ruimte geschaald worden. Met een determinant van $8$ wordt alles acht keer zo groot, dus bijvoorbeeld twee keer zo lang, twee keer zo hoog en twee keer zo diep (3Blue1Brown weet dit mooi te visualiseren). Een determinant van $0$ betekent dat alles een inhoud van $0$ krijgt, dat wil zeggen eigenlijk niet meer 3D is, en dat is bijvoorbeeld het geval als de 3D ruimte naar een 2D subruimte geprojecteerd wordt. \n",
    "\n",
    "Een matrix heeft alleen een determinant als deze vierkant is: als we weten dat een matrix van 3D naar 2D gaat, is het namelijk al niet meer zinvol over inhoud te spreken. Een vierkante matrix heeft wel altijd een determinant, al kan deze $0$ zijn. In dat geval wordt er bijvoorbeeld van 3D naar 2D geprojecteerd, heeft de matrix dus geen inverse, en heeft het stelsel van vergelijkingen dat bij de matrix hoort ook geen unieke oplossing.\n",
    "\n",
    "De matrix van het raadsel waar we mee begonnen heeft een determinant die niet $0$ is (dat wisten we al, want het raadsel was op te lossen):\n",
    "\n",
    "$$\n",
    "\\begin{align}\n",
    "\\text{det}(\\mathbf{A}) &= \\left|\\begin{array}{ccc}\n",
    "1 & -2 &  0 \\\\\n",
    "0 &  1 & -1 \\\\\n",
    "1 & -5 &  1 \\\\\n",
    "\\end{array}\\right|\n",
    "\\\\[3mm] & = \n",
    "1 \\left|\\begin{array}{cc}1 & -1 \\\\ -5 & 1\\\\ \\end{array}\\right| -\n",
    "(-2) \\left|\\begin{array}{cc}0 & -1 \\\\ 1 & 1\\\\ \\end{array}\\right| +\n",
    "0 \\left|\\begin{array}{cc}0 & 1 \\\\ 1 & -5 \\\\ \\end{array}\\right|\n",
    "\\\\[3mm] & =\n",
    "1 \\left|\\begin{array}{cc}1 & -1 \\\\ -5 & 1\\\\ \\end{array}\\right| +\n",
    "2 \\left|\\begin{array}{cc}0 & -1 \\\\ 1 & 1\\\\ \\end{array}\\right| \n",
    "\\\\[3mm] & =\n",
    "1 (1\\times1 - (-1)\\times (-5)) + 2 (0\\times1 - (-1)\\times 1)\n",
    "\\\\[3mm] & =\n",
    "1 (1 - 5) + 2 (0 + 1)\n",
    "\\\\[3mm] & =\n",
    "-2\n",
    "\\end{align}\n",
    "$$ \n",
    "\n",
    "Dit lijkt misschien wat veel werk om alleen te bepalen of een matrix omkeerbaar is, maar gelukkig hebben we hiermee ook al een hoop gedaan om de omgekeerde straks te kunnen berekenen."
   ]
  },
  {
   "cell_type": "markdown",
   "metadata": {
    "deletable": false,
    "editable": false
   },
   "source": [
    "## Opdracht 13\n",
    "\n",
    "Bereken voor de onderstaande vierkante matrices de determinant."
   ]
  },
  {
   "cell_type": "code",
   "execution_count": 125,
   "metadata": {
    "deletable": false,
    "editable": false
   },
   "outputs": [
    {
     "data": {
      "text/latex": [
       "$\\displaystyle \\textbf{M} = \n",
       "\\begin{bmatrix}\n",
       "  -8 & -1\\\\\n",
       "  -17 & -10\\\\\n",
       "\\end{bmatrix}$"
      ],
      "text/plain": [
       "<IPython.core.display.Math object>"
      ]
     },
     "metadata": {},
     "output_type": "display_data"
    },
    {
     "data": {
      "text/markdown": [
       "<details><pre>$\\textbf{M} =  \\begin{bmatrix}   -8 & -1\\\\   -17 & -10\\\\ \\end{bmatrix}$</pre></details>"
      ],
      "text/plain": [
       "<IPython.core.display.Markdown object>"
      ]
     },
     "metadata": {},
     "output_type": "display_data"
    },
    {
     "data": {
      "text/latex": [
       "$\\displaystyle \\textbf{N} = \n",
       "\\begin{bmatrix}\n",
       "  -18 & 9\\\\\n",
       "  -12 & 6\\\\\n",
       "\\end{bmatrix}$"
      ],
      "text/plain": [
       "<IPython.core.display.Math object>"
      ]
     },
     "metadata": {},
     "output_type": "display_data"
    },
    {
     "data": {
      "text/markdown": [
       "<details><pre>$\\textbf{N} =  \\begin{bmatrix}   -18 & 9\\\\   -12 & 6\\\\ \\end{bmatrix}$</pre></details>"
      ],
      "text/plain": [
       "<IPython.core.display.Markdown object>"
      ]
     },
     "metadata": {},
     "output_type": "display_data"
    },
    {
     "data": {
      "text/latex": [
       "$\\displaystyle \\textbf{O} = \n",
       "\\begin{bmatrix}\n",
       "  -13 & -16\\\\\n",
       "  15 & -3\\\\\n",
       "\\end{bmatrix}$"
      ],
      "text/plain": [
       "<IPython.core.display.Math object>"
      ]
     },
     "metadata": {},
     "output_type": "display_data"
    },
    {
     "data": {
      "text/markdown": [
       "<details><pre>$\\textbf{O} =  \\begin{bmatrix}   -13 & -16\\\\   15 & -3\\\\ \\end{bmatrix}$</pre></details>"
      ],
      "text/plain": [
       "<IPython.core.display.Markdown object>"
      ]
     },
     "metadata": {},
     "output_type": "display_data"
    },
    {
     "data": {
      "text/latex": [
       "$\\displaystyle \\textbf{P} = \n",
       "\\begin{bmatrix}\n",
       "  0 & 0 & 4\\\\\n",
       "  3 & 1 & 2\\\\\n",
       "  0 & 1 & 3\\\\\n",
       "\\end{bmatrix}$"
      ],
      "text/plain": [
       "<IPython.core.display.Math object>"
      ]
     },
     "metadata": {},
     "output_type": "display_data"
    },
    {
     "data": {
      "text/markdown": [
       "<details><pre>$\\textbf{P} =  \\begin{bmatrix}   0 & 0 & 4\\\\   3 & 1 & 2\\\\   0 & 1 & 3\\\\ \\end{bmatrix}$</pre></details>"
      ],
      "text/plain": [
       "<IPython.core.display.Markdown object>"
      ]
     },
     "metadata": {},
     "output_type": "display_data"
    },
    {
     "data": {
      "text/latex": [
       "$\\displaystyle \\textbf{Q} = \n",
       "\\begin{bmatrix}\n",
       "  4 & 0 & 3\\\\\n",
       "  0 & 0 & 0\\\\\n",
       "  0 & 1 & 1\\\\\n",
       "\\end{bmatrix}$"
      ],
      "text/plain": [
       "<IPython.core.display.Math object>"
      ]
     },
     "metadata": {},
     "output_type": "display_data"
    },
    {
     "data": {
      "text/markdown": [
       "<details><pre>$\\textbf{Q} =  \\begin{bmatrix}   4 & 0 & 3\\\\   0 & 0 & 0\\\\   0 & 1 & 1\\\\ \\end{bmatrix}$</pre></details>"
      ],
      "text/plain": [
       "<IPython.core.display.Markdown object>"
      ]
     },
     "metadata": {},
     "output_type": "display_data"
    }
   ],
   "source": [
    "RNG().set(4)\n",
    "\n",
    "random_tensor(r\"\\textbf{M}\", (2,2), singular=matrix_nd)\n",
    "random_tensor(r\"\\textbf{N}\", (2,2), singular=matrix_gd)\n",
    "random_tensor(r\"\\textbf{O}\", (2,2), singular=matrix_nd)\n",
    "random_tensor(r\"\\textbf{P}\", (3,3), singular=matrix_nd, interval=(0,5))\n",
    "random_tensor(r\"\\textbf{Q}\", (3,3), singular=matrix_gd, interval=(0,5))"
   ]
  },
  {
   "cell_type": "markdown",
   "metadata": {},
   "source": [
    "<div style=\"background:#fffff0;\">\n",
    "\n",
    "### Determinanten <a id='opdr13'></a>\n",
    "\n",
    "$\\text{det}(\\bf M) = -8*-10-1*17 = 63$\n",
    "\n",
    "$\\text{det}(\\bf N) = 18*6-9*-12 = 216 $\n",
    "\n",
    "$\\text{det}(\\bf O) = -13*-3--16*15= 219 $\n",
    "\n",
    "$\\text{det}(\\bf P) = 0(1*3-2*1)-0(3*3-0*2)+4(3*1-1*0)=12\\dots %TODO $\n",
    "\n",
    "$\\text{det}(\\bf Q) = 4(0*1-0*1)-0(0*1-0*0)+3(0*1-0*0)=0 $\n",
    "\n",
    "</div>"
   ]
  },
  {
   "cell_type": "markdown",
   "metadata": {
    "deletable": false,
    "editable": false
   },
   "source": [
    "## Opdracht 14\n",
    "\n",
    "Schrijf twee functies om de determinant van een matrix te berekenen: een voor $2 \\times 2$ en een voor $3 \\times 3$. Gebruik voor de $3 \\times 3$ variant de  de [Rule of Sarrus](https://en.wikipedia.org/wiki/Rule_of_Sarrus). Schrijf tot slot een functie die de juiste versie aanroept. Alle drie de functies moeten een `DimensionError` geven:\n",
    " - als de matrix niet vierkant is;\n",
    " - als de matrix niet exact $2 \\times 2$ is (voor `determinant_2()`);\n",
    " - als de matrix niet exact $3 \\times 3$ is (voor `determinant_3()`) en\n",
    " - als de matrix groter is dan $3 \\times 3$  (voor `determinant()`).\n",
    " \n",
    "**Probeer zelf met een goed antwoord te komen als een $1\\times 1$ matrix wordt meegegeven. Hoeveel groter wordt iets als je het met het gegeven getal vermenigvuldigt?**"
   ]
  },
  {
   "cell_type": "code",
   "execution_count": 126,
   "metadata": {},
   "outputs": [],
   "source": [
    "def determinant_2(M: np.ndarray) -> int: # TODO\n",
    "    if len(M) == 2 and len(M[0]) == 2:\n",
    "        determinant = (M[0][0]*M[1][1])-(M[0][1]*M[1][0])\n",
    "    else: raise DimensionError(\"Vectors niet hetzelfde formaat\")\n",
    "    return determinant\n",
    "    pass\n",
    "\n",
    "def determinant_3(M: np.ndarray) -> int: # TODO\n",
    "    if len(M) == 3 and len(M[0]) == 3:\n",
    "        determinant = (M[0][0]*(M[1][1]*M[2][2]-M[1][2]*M[2][1])) - (M[0][1])*((M[2][2]*M[1][0])-(M[1][2]*M[2][0])) + (M[0][2])*((M[1][0]*M[2][1])-(M[2][0]*M[1][1]))\n",
    "    else: raise DimensionError(\"Vectors niet hetzelfde formaat\")\n",
    "    return determinant\n",
    "    pass\n",
    "\n",
    "def determinant(M: np.ndarray) -> int: # TODO\n",
    "    try:\n",
    "        if len(M) < 4 and len(M[0]) < 4 and len(M[0]) == len(M):\n",
    "            if len(M) == 3 and len(M[0]) == 3:\n",
    "                determinant = (M[0][0]*(M[1][1]*M[2][2]-M[1][2]*M[2][1])) - (M[0][1])*((M[2][2]*M[1][0])-(M[1][2]*M[2][0])) + (M[0][2])*((M[1][0]*M[2][1])-(M[2][0]*M[1][1]))\n",
    "            if len(M) == 2 and len(M[0]) == 2:\n",
    "                determinant = (M[0][0]*M[1][1])-(M[0][1]*M[1][0])\n",
    "        else: \n",
    "            raise DimensionError(\"Vectors niet hetzelfde formaat\")\n",
    "    except TypeError:\n",
    "        determinant = M\n",
    "    return determinant\n",
    "    pass"
   ]
  },
  {
   "cell_type": "markdown",
   "metadata": {
    "deletable": false,
    "editable": false
   },
   "source": [
    "### Tests\n",
    "| **Test** | **Betekenis** |\n",
    "|---:|:---|\n",
    "| `test_determinant2_nonzero` | `determinant_2` werkt op omkeerbare $2 \\times 2$ matrix (determinant is niet 0) |\n",
    "| `test_determinant2_zero` | `determinant_2` werkt op onomkeerbare $2 \\times 2$ matrix (determinant is 0)  |\n",
    "| `test_determinant2_invalid` | `determinant_2` handelt foute invoer goed af |\n",
    "| `test_determinant3_nonzero` | `determinant_3` werkt op omkeerbare $3 \\times 3$ matrix (determinant is niet 0)  |\n",
    "| `test_determinant3_zero` | `determinant_3` werkt op onomkeerbare $3 \\times 3$ matrix (determinant is 0) |\n",
    "| `test_determinant3_invalid` | `determinant_3` handelt foute invoer goed af |\n",
    "| `test_determinant_scalar` | `determinant` werkt correct op $1 \\times 1$ matrix |\n",
    "| `test_determinant_nonzero2` | `determinant` werkt op omkeerbare $2 \\times 2$ matrix (determinant is niet 0)  |\n",
    "| `test_determinant_nonzero3` | `determinant` werkt op omkeerbare $3 \\times 3$ matrix (determinant is niet 0)  |\n",
    "| `test_determinant_zero2` | `determinant` werkt op onomkeerbare $2 \\times 2$ matrix (determinant is 0) |\n",
    "| `test_determinant_zero3` | `determinant` werkt op onomkeerbare $3 \\times 3$ matrix (determinant is 0) |\n",
    "| `test_determinant_too_large` | `determinant` handelt te grote invoer goed af |\n",
    "| `test_determinant_invalid` | `determinant` handelt niet-vierkante invoer goed af |\n"
   ]
  },
  {
   "cell_type": "code",
   "execution_count": 127,
   "metadata": {
    "deletable": false,
    "editable": false,
    "scrolled": true
   },
   "outputs": [
    {
     "name": "stderr",
     "output_type": "stream",
     "text": [
      "test_determinant2_invalid (ac_tests.test_determinant.<locals>.TestDeterminant) ... ok\n",
      "test_determinant2_nonzero (ac_tests.test_determinant.<locals>.TestDeterminant) ... ok\n",
      "test_determinant2_zero (ac_tests.test_determinant.<locals>.TestDeterminant) ... ok\n",
      "test_determinant3_invalid (ac_tests.test_determinant.<locals>.TestDeterminant) ... ok\n",
      "test_determinant3_nonzero (ac_tests.test_determinant.<locals>.TestDeterminant) ... ok\n",
      "test_determinant3_zero (ac_tests.test_determinant.<locals>.TestDeterminant) ... ok\n",
      "test_determinant_invalid (ac_tests.test_determinant.<locals>.TestDeterminant) ... ok\n",
      "test_determinant_nonzero2 (ac_tests.test_determinant.<locals>.TestDeterminant) ... ok\n",
      "test_determinant_nonzero3 (ac_tests.test_determinant.<locals>.TestDeterminant) ... ok\n",
      "test_determinant_scalar (ac_tests.test_determinant.<locals>.TestDeterminant) ... ok\n",
      "test_determinant_too_large (ac_tests.test_determinant.<locals>.TestDeterminant) ... ok\n",
      "test_determinant_zero2 (ac_tests.test_determinant.<locals>.TestDeterminant) ... ok\n",
      "test_determinant_zero3 (ac_tests.test_determinant.<locals>.TestDeterminant) ... ok\n",
      "\n",
      "----------------------------------------------------------------------\n",
      "Ran 13 tests in 0.014s\n",
      "\n",
      "OK\n"
     ]
    }
   ],
   "source": [
    "test_determinant(determinant_2, determinant_3, determinant)"
   ]
  },
  {
   "cell_type": "markdown",
   "metadata": {
    "deletable": false,
    "editable": false
   },
   "source": [
    "## De Identiteitsmatrix\n",
    "\n",
    "Na Gauss-Jordan eliminatie zag \n",
    "\n",
    "$$\\left[\\begin{array}{ccc|c}\n",
    "1 & -2 &  0 &  0 \\\\\n",
    "0 &  1 & -1 & -5 \\\\\n",
    "1 & -5 &  1 & -1 \\\\\n",
    "\\end{array}\\right]$$\n",
    "\n",
    "er zo uit\n",
    "\n",
    "$$\\left[\\begin{array}{ccc|c}\n",
    "1 & 0 & 0 & 6 \\\\\n",
    "0 & 1 & 0 & 3 \\\\\n",
    "0 & 0 & 1 & 8 \\\\\n",
    "\\end{array}\\right]$$\n",
    "\n",
    "Geschreven als vector vergelijking zijn we van\n",
    "\n",
    "$$\\begin{bmatrix}\n",
    "1 & -2 &  0 \\\\\n",
    "0 &  1 & -1 \\\\\n",
    "1 & -5 &  1 \\\\\n",
    "\\end{bmatrix} \n",
    "\\begin{bmatrix}a \\\\ b \\\\ c \\end{bmatrix} =\n",
    "\\begin{bmatrix}0 \\\\ -5 \\\\ -1 \\end{bmatrix}$$\n",
    "\n",
    "naar\n",
    "\n",
    "$$\\begin{bmatrix}\n",
    "1 & 0 & 0 \\\\\n",
    "0 & 1 & 0 \\\\\n",
    "0 & 0 & 1 \\\\\n",
    "\\end{bmatrix} \n",
    "\\begin{bmatrix}a \\\\ b \\\\ c \\end{bmatrix} =\n",
    "\\begin{bmatrix}6 \\\\ 3 \\\\ 8 \\end{bmatrix}$$\n",
    "\n",
    "gegaan.\n",
    "\n",
    "De matrix in deze vergelijking noemen we de identiteitsmatrix $\\mathbf{I}$, of specifiek in dit geval de identiteitsmatrix in drie dimensies $\\mathbf{I_3}$. Een identiteitsmatrix bevat op de diagonaal alleen maar enen, en verder alleen maar nullen. Deze matrix kun je met elke 3D-vector vector vermenigvuldigen, zonder dat de vector verandert. Het is alsof we de vector met $1$ vermenigvuldigen. De transformatie die bij deze matrix hoort is dan ook de transformatie die niets doet.\n",
    "\n",
    "$$\\mathbf{I_3} = \\begin{bmatrix}\n",
    "1 & 0 & 0 \\\\\n",
    "0 & 1 & 0 \\\\\n",
    "0 & 0 & 1 \\\\\n",
    "\\end{bmatrix}$$\n",
    "\n",
    "<span style=\"color: red\">Om de leesbaarheid in alle formules een beetje te bewaren zullen we hier de operator $\\cdot$ gebruiken om twee matrices (of een matrix en een vector) te vermenigvuldigen. Dit is niet echt standaard-notatie, maar voor nu helpt het ons even.</span>\n",
    "\n",
    "We kunnen de identiteitsmatrix ook met een andere matrix $\\mathbf{M}$ vermengivuldigen (ervan uitgaande dat de dimensies kloppen), en ook dan verandert de identiteitsmatrix niets aan $\\mathbf{M}$. Als $\\mathbf{M}$ een $2\\times 3$ matrix is kunnen we bijvoorbeeld stellen:\n",
    "\n",
    "$$\\mathbf{I_2} \\cdot \\mathbf{M} = \\mathbf{M} \\cdot \\mathbf{I_3} = \\mathbf{M}$$\n",
    "\n",
    "Met deze matrix kunnen we ook de inverse duidelijker weergeven. Als we een omkeerbare $3\\times 3$ matrix $\\mathbf{N}$ hebben, dan is de omgekeerde daarvan $\\mathbf{N}^{-1}$, en geldt dat\n",
    "\n",
    "$$\\mathbf{N} \\cdot \\mathbf{N}^{-1} = \\mathbf{N}^{-1} \\cdot \\mathbf{N} = \\mathbf{I_3}$$.\n",
    "\n",
    "## Terug naar het voorbeeld\n",
    "In ons voorbeeld zou het fijn zijn om door een vector te kunnen delen, maar helaas was dat niet mogelijk. We zullen dus met de inverse van de matrix aan de gang moeten gaan, en inmiddels hebben we de notatie ervoor in huis. Hieronder zien we nog een keer de matrices. Onder iedere vector en matrix staat het label dat we eraan gegeven hebben, zodat we verder met symbolen kunnen werken en niet alle matrices iedere keer uit hoeven te tekenen:\n",
    "\n",
    "$$\\underbrace{\\begin{bmatrix}\n",
    "1 & -2 &  0 \\\\\n",
    "0 &  1 & -1 \\\\\n",
    "1 & -5 &  1 \\\\\n",
    "\\end{bmatrix}\\\\[1cm]}_{\\displaystyle\\mathbf{A}}\\ \\ \n",
    "\\underbrace{\\begin{bmatrix}a \\\\ b \\\\ c \\end{bmatrix}\\\\[1cm]}_{\\displaystyle\\vec x} =\n",
    "\\underbrace{\\begin{bmatrix}0 \\\\ -5 \\\\ -1 \\end{bmatrix}\\\\[1cm]}_{\\displaystyle\\vec b} \n",
    "\\qquad\\to\\qquad\n",
    "\\underbrace{\\begin{bmatrix}\n",
    "1 & 0 & 0 \\\\\n",
    "0 & 1 & 0 \\\\\n",
    "0 & 0 & 1 \\\\\n",
    "\\end{bmatrix}\\\\[1cm]}_{\\displaystyle\\mathbf{I_3}}\\ \\\n",
    "\\underbrace{\\begin{bmatrix}a \\\\ b \\\\ c \\end{bmatrix}\\\\[1cm]}_{\\displaystyle\\vec x} =\n",
    "\\underbrace{\\begin{bmatrix}6 \\\\ 3 \\\\ 8 \\end{bmatrix}\\\\[1cm]}_{\\displaystyle\\vec x}$$\n",
    "\n",
    "We beginnen met\n",
    "$$\\mathbf{A} \\cdot \\vec x = \\vec b$$\n",
    "\n",
    "We kunnen kunnen nu aan beide kanten van deze vergelijking de inverse links vermenigvuldigen:\n",
    "\n",
    "$$\\mathbf{A}^{-1} \\cdot \\mathbf{A} \\cdot \\vec x = \\mathbf{A}^{-1} \\cdot \\vec b$$\n",
    "\n",
    "Links vermenigvuldigen we de twee matrices om $\\mathbf{I_3}$ te krijgen:\n",
    "\n",
    "$$\\mathbf{I_3} \\cdot \\vec x = \\mathbf{A}^{-1} \\cdot \\vec b$$\n",
    "\n",
    "De identiteitsmatrix doet niets, dus die mogen we weghalen:\n",
    "\n",
    "$$\\vec x = \\mathbf{A}^{-1} \\cdot \\vec b$$\n",
    "\n",
    "Dus: om $\\vec x$ te vinden hoeven we alleen de inverse van $\\mathbf{A}$ te berekenen, en deze te vermenigvuldigen met $\\vec b$. We weten dat de matrix omkeerbaar is, dus we zijn er bijna!\n",
    "\n",
    "## De inverse berekenen\n",
    "De inverse van een matrix berekenen is met de hand best een klus. Voor een $2 \\times 2$ matrix is het goed te doen, maar voor grotere matrices is het wat meer werk. Daarom doen we alleen de $2 \\times 2$ met de hand. Gegeven een matrix\n",
    "\n",
    "$$\\mathbf{M} = \\begin{bmatrix}a & b \\\\ c & d\\end{bmatrix}$$\n",
    "\n",
    "moeten we 2 dingen hebben:\n",
    " - de determinant en\n",
    " - de geadjugeerde matrix.\n",
    " \n",
    "De eerste hebben we al berekend, de tweede ziet er voor twee dimensies als volgt uit:\n",
    "\n",
    "\n",
    "$$\\text{adj}(\\mathbf{M}) = \\begin{bmatrix}d & -b \\\\ -c & a\\end{bmatrix}$$\n",
    "\n",
    "Deze delen we door de determinant, en dan hebben we ons antwoord. Bij het delen van een matrix door een scalar (getal) delen we elk item gewoon afzonderlijk. Als de determinant nul is zouden we moeten delen door $0$, maar dat kan natuurlijk niet. Deze matrices zijn dus niet omkeerbaar."
   ]
  },
  {
   "cell_type": "markdown",
   "metadata": {
    "deletable": false,
    "editable": false
   },
   "source": [
    "## Opdracht 15\n",
    "Bereken van de onderstaande matrices de inverse (of $\\bot$ als de inverse niet bestaat). De determinant hebben we bij [opdracht 13](#opdr13) al eerder berekend."
   ]
  },
  {
   "cell_type": "code",
   "execution_count": 128,
   "metadata": {
    "deletable": false,
    "editable": false
   },
   "outputs": [
    {
     "data": {
      "text/latex": [
       "$\\displaystyle \\textbf{M} = \n",
       "\\begin{bmatrix}\n",
       "  -8 & -1\\\\\n",
       "  -17 & -10\\\\\n",
       "\\end{bmatrix}$"
      ],
      "text/plain": [
       "<IPython.core.display.Math object>"
      ]
     },
     "metadata": {},
     "output_type": "display_data"
    },
    {
     "data": {
      "text/markdown": [
       "<details><pre>$\\textbf{M} =  \\begin{bmatrix}   -8 & -1\\\\   -17 & -10\\\\ \\end{bmatrix}$</pre></details>"
      ],
      "text/plain": [
       "<IPython.core.display.Markdown object>"
      ]
     },
     "metadata": {},
     "output_type": "display_data"
    },
    {
     "data": {
      "text/latex": [
       "$\\displaystyle \\textbf{N} = \n",
       "\\begin{bmatrix}\n",
       "  -18 & 9\\\\\n",
       "  -12 & 6\\\\\n",
       "\\end{bmatrix}$"
      ],
      "text/plain": [
       "<IPython.core.display.Math object>"
      ]
     },
     "metadata": {},
     "output_type": "display_data"
    },
    {
     "data": {
      "text/markdown": [
       "<details><pre>$\\textbf{N} =  \\begin{bmatrix}   -18 & 9\\\\   -12 & 6\\\\ \\end{bmatrix}$</pre></details>"
      ],
      "text/plain": [
       "<IPython.core.display.Markdown object>"
      ]
     },
     "metadata": {},
     "output_type": "display_data"
    },
    {
     "data": {
      "text/latex": [
       "$\\displaystyle \\textbf{O} = \n",
       "\\begin{bmatrix}\n",
       "  -13 & -16\\\\\n",
       "  15 & -3\\\\\n",
       "\\end{bmatrix}$"
      ],
      "text/plain": [
       "<IPython.core.display.Math object>"
      ]
     },
     "metadata": {},
     "output_type": "display_data"
    },
    {
     "data": {
      "text/markdown": [
       "<details><pre>$\\textbf{O} =  \\begin{bmatrix}   -13 & -16\\\\   15 & -3\\\\ \\end{bmatrix}$</pre></details>"
      ],
      "text/plain": [
       "<IPython.core.display.Markdown object>"
      ]
     },
     "metadata": {},
     "output_type": "display_data"
    }
   ],
   "source": [
    "RNG().set(4)\n",
    "\n",
    "random_tensor(r\"\\textbf{M}\", (2,2), singular=matrix_nd)\n",
    "random_tensor(r\"\\textbf{N}\", (2,2), singular=matrix_gd)\n",
    "random_tensor(r\"\\textbf{O}\", (2,2), singular=matrix_nd)"
   ]
  },
  {
   "cell_type": "markdown",
   "metadata": {},
   "source": [
    "<div style=\"background:#fffff0;\">\n",
    "\n",
    "### Inversen <a id='opdr13'></a>\n",
    "\n",
    "\n",
    "$\\text{adj}(\\textbf{M}) = \\begin{bmatrix}   -10 & 1\\\\   17 & -8\\\\ \\end{bmatrix}$\n",
    "\n",
    "$\\text{det}(\\textbf{M}) = −8∗-10−-1∗−17= 63 $\n",
    "\n",
    "$\\textbf{M}^{-1} = \\begin{bmatrix}   -10/63 & 1/63\\\\   17/63 & -8/63\\\\ \\end{bmatrix} * 1/63 = \\begin{bmatrix}   -10 & 1\\\\   17 & -8\\\\ \\end{bmatrix} $\n",
    "\n",
    "<hr />\n",
    "\n",
    "$\\text{adj}(\\textbf{N}) = \\begin{bmatrix}   6 & -9\\\\   12 & -18\\\\ \\end{bmatrix} $\n",
    "\n",
    "$\\text{det}(\\textbf{N}) = 18*6-9*-12 = 216 $\n",
    "\n",
    "$\\textbf{N}^{-1} = 1 $\n",
    "\n",
    "<hr />\n",
    "\n",
    "$\\text{adj}(\\textbf{O}) = \\begin{bmatrix}   -3 & 16\\\\   -15 & -13\\\\ \\end{bmatrix}$\n",
    "\n",
    "$\\text{det}(\\textbf{O}) = -13*-3--16*15= 219 $\n",
    "\n",
    "$\\textbf{O}^{-1} = 1 $\n",
    "\n",
    "</div>"
   ]
  },
  {
   "cell_type": "markdown",
   "metadata": {
    "deletable": false,
    "editable": false
   },
   "source": [
    "## Opdracht 16 <a id='opdr16'></a>\n",
    "Schrijf een functie de de inverse van een $2\\times 2$ matrix berekent. Gebruik hiervoor de determinant-functie die je eerder gemaakt hebt. De functie geeft een `DimensionError` voor een vierkante matrix die niet $2\\times 2$ is, en een `NonInvertibleError` voor een $2\\times2$ matrix met een determinant van $0$. "
   ]
  },
  {
   "cell_type": "code",
   "execution_count": 129,
   "metadata": {},
   "outputs": [],
   "source": [
    "def inverse_matrix_2(M: np.ndarray) -> np.ndarray: # TODO\n",
    "\n",
    "    if len(M) == 2 and len(M[0]) == 2:\n",
    "        nieuwematrix = []\n",
    "        nieuwevector = M\n",
    "        tempscalar = nieuwevector[0][0]\n",
    "        nieuwevector[0][0] = nieuwevector[1][1]\n",
    "        nieuwevector[1][1] = tempscalar\n",
    "        nieuwevector[0][1] = -(nieuwevector[0][1])\n",
    "        nieuwevector[1][0] = -(nieuwevector[1][0])\n",
    "        determinant = (M[0][0]*M[1][1])-(M[0][1]*M[1][0])\n",
    "        if determinant != 0:\n",
    "            for indexnumber in range(len(nieuwevector)):\n",
    "                nieuwematrix.append(nieuwevector[indexnumber]*1/determinant)\n",
    "        else:\n",
    "            raise NonInvertibleError(\"Vectors niet hetzelfde formaat\")\n",
    "\n",
    "    else:\n",
    "        raise DimensionError(\"Vectors niet hetzelfde formaat\")\n",
    "             \n",
    "        \n",
    "        \n",
    "    return nieuwematrix\n",
    "\n",
    "    pass"
   ]
  },
  {
   "cell_type": "markdown",
   "metadata": {
    "deletable": false,
    "editable": false
   },
   "source": [
    "### Tests\n",
    "| **Test** | **Betekenis** |\n",
    "|---:|:---|\n",
    "| `test_inverse2` | Functie werkt voor een inverteerbare $2\\times 2$ matrix |\n",
    "| `test_inverse2_invalid` | Correcte error voor een matrix met verkeerde dimensies |\n",
    "| `test_inverse2_no_inverse` | Correcte error voor een niet-omkeerbare $2\\times 2$ matrix |\n"
   ]
  },
  {
   "cell_type": "code",
   "execution_count": 130,
   "metadata": {
    "deletable": false,
    "editable": false
   },
   "outputs": [
    {
     "name": "stderr",
     "output_type": "stream",
     "text": [
      "test_inverse2 (ac_tests.test_inverse_2.<locals>.TestInverse2) ... ok\n",
      "test_inverse2_invalid (ac_tests.test_inverse_2.<locals>.TestInverse2) ... ok\n",
      "test_inverse2_no_inverse (ac_tests.test_inverse_2.<locals>.TestInverse2) ... ok\n",
      "\n",
      "----------------------------------------------------------------------\n",
      "Ran 3 tests in 0.003s\n",
      "\n",
      "OK\n"
     ]
    }
   ],
   "source": [
    "test_inverse_2(inverse_matrix_2)"
   ]
  },
  {
   "cell_type": "markdown",
   "metadata": {
    "deletable": false,
    "editable": false
   },
   "source": [
    "## Inverses van grotere matrices\n",
    "De inverse van een grotere matrix is eigenlijk hetzeflde als voor een $2\\times 2$ matrix, alleen met veel meer werk. Dat komt omdat zowel de geadjugeerde matrix (die je voor 2 dimensies zo uit kan schrijven) als de determinant (die voor 2 en 3 dimensies nog wel te overzien zijn) heel snel in complexiteit toenemen. Zodra je de geadjugeerde matrix en de determinant hebt gevonden is het grootste deel van het werk gedaan. \n",
    "\n",
    "Voor het berekenen van de geadjugeerde van een grote matrix hebben we ook weer twee stappen nodig: we moeten de cofactor-matrix vinden, en deze kunnen transposen. De cofactor matrix gaan we niet te diep op in, maar transposen kunnen we wel makkelijk zelf doen.\n",
    "\n",
    "Als we een matrix $\\mathbf{M}$ hebben dan is de getransposeerde matrix $\\mathbf{M}^T$ te vinden door de matrix te spiegelen over de lijn van linksboven naar rechtsonder. Alles wat op deze lijn staat blijft hetzelfde, voor de rest komt een getal dat in kolom $x$, rij $y$ staat na het tranposen uit in kolom $y$, rij $x$:\n",
    "\n",
    "$$\\mathbf{M} = \\begin{bmatrix}a & b & c \\\\ d & e & f \\\\ g & h & i\\end{bmatrix}\\qquad\n",
    "\\mathbf{M}^T = \\begin{bmatrix}a & d & g \\\\ b & e & h \\\\ c & f & i\\end{bmatrix}$$\n",
    "\n",
    "Als we deze functies hebben kunnen we als volgt een matrix $\\mathbf{M}$ inverteren:\n",
    "1. Bepaal de cofactor-matrix van $\\mathbf{M}$;\n",
    "2. transpose deze matrix om de geadjugeerde matrix te krijgen en\n",
    "3. deel elk item door de determinant van de originele $\\mathbf{M}$.\n",
    "\n",
    "\n",
    "## Opdracht 17\n",
    "De code voor het inverteren van matrices groter dan $3\\times 3$ is wat ingewikkelder, en is daarom hieronder gegeven. Daarbij is ook gelijk een nieuwe versie van de determinant toegevoegd, die ook voor meer dimensies werkt.\n",
    "\n",
    "1. Neem de functies `sign()`, `submatrix()`, `determinant()` en `cofactor_matrix()` door en probeer te achterhalen wat de code doet. Documenteer daarna deze functies met behulp van de [docstring](https://www.datacamp.com/community/tutorials/docstrings-python#second-head) en commentaar in de code.\n",
    "2. Schrijf zelf een functie `transpose()` die een matrix om de diagonaal spiegelt, en een functie `inverse_matrix()`. Zorg dat de `inverse_matrix()` functie checkt of een matrix inverteerbaar is, en anders errors oplevert op dezelfde manier als `inverse_matrix_2()` [hierboven](#opdr16)."
   ]
  },
  {
   "cell_type": "code",
   "execution_count": 131,
   "metadata": {},
   "outputs": [],
   "source": [
    "def sign(x: int) -> int:\n",
    "    \"\"\"test\"\"\"\n",
    "    if x % 2 == 0:\n",
    "        return 1\n",
    "    else:\n",
    "        return -1\n",
    "\n",
    "def submatrix(M: np.ndarray, x: int, y: int) -> np.ndarray:\n",
    "    \"\"\"TODO: Documenteer mij!\"\"\"\n",
    "    return np.delete(np.delete(M, x, 0), y, 1)\n",
    "\n",
    "def determinant(M: np.ndarray) -> float:\n",
    "    \"\"\"TODO: Documenteer mij!\"\"\"\n",
    "    if M.shape == () or M.shape == (0, 0) or M.shape == (1, 1):\n",
    "        return M.item()\n",
    "    elif M.shape[0] != M.shape[1]:\n",
    "        raise DimensionError(\"De matrix is niet vierkant\")\n",
    "    else:\n",
    "        det = 0\n",
    "        for y in range(M.shape[1]):\n",
    "            det += sign(y) * M[0][y] * determinant(submatrix(M, 0, y))\n",
    "        return det\n",
    "\n",
    "def cofactor_matrix(M: np.ndarray) -> np.ndarray:\n",
    "    \"\"\"TODO: Documenteer mij!\"\"\"\n",
    "    adj = np.zeros((M.shape[0],M.shape[1]))\n",
    "    for x in range(M.shape[0]):\n",
    "        for y in range(M.shape[1]):\n",
    "            adj[x][y] = sign(abs(x-y)) * determinant(submatrix(M, x, y))\n",
    "    return adj.astype(int)\n",
    "\n",
    "def transpose(M: np.ndarray) -> np.ndarray: # TODO\n",
    "    print(M)\n",
    "    nieuwematrix = []\n",
    "    nieuwematrix.append(M[0][0])\n",
    "    nieuwematrix.append(M[1][0])\n",
    "    nieuwematrix.append(M[2][0])\n",
    "    nieuwematrix.append(M[1][1])\n",
    "    nieuwematrix.append(M[2][1])\n",
    "    nieuwematrix.append(M[3][1])\n",
    "    nieuwematrix.append(M[0][2])\n",
    "    nieuwematrix.append(M[1][2])\n",
    "    nieuwematrix.append(M[2][2])\n",
    "    print(nieuwematrix)\n",
    "    nieuwematrix = np.array(nieuwematrix)\n",
    "    return nieuwematrix\n",
    "    pass\n",
    "\n",
    "def inverse_matrix(M: np.ndarray) -> np.ndarray: # TODO\n",
    "    print(M)\n",
    "    determinantnumber = determinant(M)\n",
    "    if determinantnumber == 0:\n",
    "        raise NonInvertibleError(\"Vectors niet hetzelfde formaat\")\n",
    "\n",
    "    pass"
   ]
  },
  {
   "cell_type": "markdown",
   "metadata": {
    "deletable": false,
    "editable": false
   },
   "source": [
    "### Tests\n",
    "| **Test** | **Betekenis** |\n",
    "|---:|:---|\n",
    "| `test_inverse` | Functie werkt voor een inverteerbare $4\\times 4$ test-matrix |\n",
    "| `test_inverse_invalid` | Correcte error voor een matrix met verkeerde dimensies |\n",
    "| `test_inverse_no_inverse` | Correcte error voor een niet-omkeerbare vierkante matrix |\n"
   ]
  },
  {
   "cell_type": "code",
   "execution_count": 132,
   "metadata": {
    "deletable": false,
    "editable": false
   },
   "outputs": [
    {
     "name": "stderr",
     "output_type": "stream",
     "text": [
      "test_inverse (ac_tests.test_inverse_.<locals>.TestInverse) ... FAIL\n",
      "test_inverse_invalid (ac_tests.test_inverse_.<locals>.TestInverse) ... ok\n",
      "test_inverse_no_inverse (ac_tests.test_inverse_.<locals>.TestInverse) ... "
     ]
    },
    {
     "name": "stdout",
     "output_type": "stream",
     "text": [
      "[[4 6 3 4]\n",
      " [4 7 2 6]\n",
      " [3 3 3 1]\n",
      " [3 7 1 6]]\n",
      "[[1 2]\n",
      " [3 4]\n",
      " [5 6]]\n",
      "[[1 2 3]\n",
      " [4 5 6]\n",
      " [7 8 9]]\n"
     ]
    },
    {
     "name": "stderr",
     "output_type": "stream",
     "text": [
      "ok\n",
      "\n",
      "======================================================================\n",
      "FAIL: test_inverse (ac_tests.test_inverse_.<locals>.TestInverse)\n",
      "----------------------------------------------------------------------\n",
      "Traceback (most recent call last):\n",
      "  File \"C:\\Users\\ruben\\v1ac\\ac_tests.py\", line 237, in test_inverse\n",
      "    np.testing.assert_equal(inverse_matrix(self.M), self.Mi)\n",
      "  File \"d:\\users\\ruben\\appdata\\local\\programs\\python\\python37\\lib\\site-packages\\numpy\\testing\\_private\\utils.py\", line 349, in assert_equal\n",
      "    return assert_array_equal(actual, desired, err_msg, verbose)\n",
      "  File \"d:\\users\\ruben\\appdata\\local\\programs\\python\\python37\\lib\\site-packages\\numpy\\testing\\_private\\utils.py\", line 936, in assert_array_equal\n",
      "    verbose=verbose, header='Arrays are not equal')\n",
      "  File \"d:\\users\\ruben\\appdata\\local\\programs\\python\\python37\\lib\\site-packages\\numpy\\testing\\_private\\utils.py\", line 846, in assert_array_compare\n",
      "    raise AssertionError(msg)\n",
      "AssertionError: \n",
      "Arrays are not equal\n",
      "\n",
      "Mismatched elements: 16 / 16 (100%)\n",
      " x: array(None, dtype=object)\n",
      " y: array([[-11,   3,   8,   3],\n",
      "       [ -2,  -1,   2,   2],\n",
      "       [ 11,  -2,  -8,  -4],\n",
      "       [  6,   0,  -5,  -3]])\n",
      "\n",
      "----------------------------------------------------------------------\n",
      "Ran 3 tests in 0.007s\n",
      "\n",
      "FAILED (failures=1)\n"
     ]
    }
   ],
   "source": [
    "test_inverse_(inverse_matrix)"
   ]
  },
  {
   "cell_type": "markdown",
   "metadata": {
    "deletable": false,
    "editable": false
   },
   "source": [
    "## Onder- en overgedetermineerde systemen\n",
    "Niet ieder systeem heeft een unieke oplossing zoals het raadsel hierboven. Neem bijvoorbeeld de formule $x - y = 0$. Hier zijn oneindig oplossingen voor te verzinnen: $x = y = 1$, of $x = y = 2$, etc. We noemen zo'n stelsel *underdermined*: we hebben niet genoeg informatie om een eenduidige oplossing te vinden. Als we een vergelijking toevoegen kunnen we mogelijk een oplossing vinden. Als we bijvoorbeeld ook weten dat $x = 3$, dan kunnen we concluderen dat $y=3$. \n",
    "\n",
    "### Ondergedetermineerde systemen\n",
    "\n",
    "Het is ook mogelijk een vergelijking toe te voegen zonder dat het ons dichter bij een antwoord brengt. Als we $x - y = 0$ hebben, en we voegen $2x - 2y = 0$ toe, dan hebben we welliswaar net zoveel vergelijkingen als onbekenden, maar geen unieke oplossing. Twee van de vergelijkingen (in dit geval alle twee) zijn veelvouden van elkaar, of een combinatie van andere vergelijkingen die we al hadden.\n",
    "\n",
    "Hebben we bijvoorbeeld\n",
    "\n",
    "$x + y - z = 3$\n",
    "\n",
    "$-y = 5$\n",
    "\n",
    "dan hebben we wederom oneindig oplossingen: $y = -5, x = 8, z = 0$ is een oplossing, maar $y = -5, x = 9, z = 1$ ook. Als we nu $x - z = 8$ toevoegen dan valt het misschien niet meteen op, maar hebben we geen nieuwe informatie gekregen en kunnen we dus nog steeds geen unieke oplossing vinden.\n",
    "\n",
    "### Overgedetermineerde systemen\n",
    "Een underdetermined stelsel (of bijbehorende matrix) kan nog steeds interessant zijn, omdat we een hele familie van oplossingen kunnen vinden. De tegenhanger van underdermined is *overdetermined*: we hebben dan meer vergelijkingen dan onbekenden, die elkaar tegen kunnen spreken. Als we bijvoorbeeld de vergelijkingen $x=1$ en $x=2$ hebben dan is er geen waarde voor $x$ te vinden zodat alle vergelijkingen kloppen. We hebben nul oplossingen.\n",
    "\n",
    "Het hoeft nog steeds niet zo te zijn dat we met meer vergelijkingen dan onbekenden een overdetermined systeem hebben: ook hier kunnen meerdere vergelijkingen hetzelfde vertellen en geen informatie toevoegen. De twee vergelijkingen $x=1$ en $2x=2$ hebben maar een onbekende, maar omdat de ene vergelijking uit de andere af te leiden is hebben we effectief ook maar één vergelijking waar we ons zorgen over hoeven te maken. Hoewel overgedetermineerde systemen zeker interessant kunnen zijn, zullen we voor nu focussen op een ondergedetermineerd systeem.\n",
    "\n",
    "### Onder- en overgedetermineerde matrices\n",
    "Als we de stelsels van vergelijkingen hierboven overschrijven naar matrices, dan zien we dat de vorm van een matrix dus nog niet alles zegt over het aantal oplossingen van het bijbehorende systeem van vergelijkingen. Hieronder zien we de matrix van ons eerste, ondergedetermineerde systeem van drie vergelijkingen met drie onbekenden, met daarbij de bijbehorende Gauss-Jordan eliminatie:\n",
    "\n",
    "$$\\left[\\begin{array}{ccc|c} 1 & 1 & -1 & 3 \\\\ 0 & -1 & 0 & 5 \\\\ 1 & 0 & -1 & 8 \\end{array}\\right]$$\n",
    "\n",
    "<details>\n",
    "Tel rij 2 bij rij 1 op:\n",
    "\n",
    "$$\\left[\\begin{array}{ccc|c} 1 & 0 & -1 & 8 \\\\ 0 & -1 & 0 & 5 \\\\ 1 & 0 & -1 & 8 \\end{array}\\right]$$\n",
    "\n",
    "Tel rij 1 bij rij 3 op:\n",
    "\n",
    "$$\\left[\\begin{array}{ccc|c} 1 & 0 & -1 & 8 \\\\ 0 & -1 & 0 & 5 \\\\ 0 & 0 & 0 & 0 \\end{array}\\right]$$\n",
    "\n",
    "Doe rij 2 keer $-1$:\n",
    "    \n",
    "</details>\n",
    "\n",
    "$$\\left[\\begin{array}{ccc|c} 1 & 0 & -1 & 8 \\\\ 0 & 1 & 0 & -5 \\\\ 0 & 0 & 0 & 0 \\end{array}\\right]$$\n",
    "\n",
    "Het mag dan zo zijn dat onze matrix links van de streep vierkant is, het lukt niet om op een indentiteitsmatrix uit te komen. We kunnen aflezen dat $y$ gelijk moet zijn aan $-5$, en dat $x$ gelijk is aan $z+8$, maar $z$ zelf mag alles zijn. De onderste rij hadden we net zo goed kunnen weglaten. Maar 2 rijen doen er uiteindelijk toe, en we hebben oneindig oplossingen.\n",
    "\n",
    "## Rank en Nullity\n",
    "Een manier om dit al aan de matrix af te kunnen lezen is het bepalen van de *rank* en *nullity*. Voor een matrix $\\textbf{M}$ is de *rank* het aantal dimensies van de ruimte waar vectoren na de transformatie (vermenigvuldiging met de matrix) kunnen \"landen\". We noemen deze ruimte de *column space* $I(\\textbf{M})$, ook wel *range* of *image* genoemd (vandaar de $I$) We kunnen de column space bepalen door elke kolom van de matrix als een aparte vector te zien. Door combinaties van deze vectoren te nemen wordt een ruimte opgespannen, met (een deel van) de vectoren uit de column space als basis. Voor basis geldt dat een vector in de basis niet te maken valt met de andere basis-vectoren; in dat geval is de vector overbodig en wordt deze niet meegeteld, tot we aan de minimale set van vectoren zitten. Het aantal vectoren in de set die overblijft is de rank. Neem de matrix die we als voorbeeld hebben; we kunnen de drie kolommen van de matrix nemen als drie basisvectoren $\\vec{e_0}$, $\\vec{e_1}$ en $\\vec{e_2}$:\n",
    "\n",
    "$$\\vec{e_0} = \\begin{bmatrix}1 \\\\ 0 \\\\ 1 \\end{bmatrix}, \\quad \\vec{e_1} = \\begin{bmatrix}1 \\\\ -1 \\\\ 0 \\end{bmatrix} \\quad\\text{en} \\quad \\vec{e_2} = \\begin{bmatrix}-1 \\\\ 0 \\\\ -1 \\end{bmatrix}$$\n",
    "\n",
    "We zien meteen dat $\\vec{e_0}$ en $\\vec{e_2}$ een veelvoud van elkaar zijn en dus op dezelfde lijn liggen. We kunnen $\\vec{e_2}$ dus negeren: de kolomruimte wordt opgespannen door $\\vec{e_0}$ en $\\vec{e_1}$ en is daarmee 2-dimensionaal. Dit betekent dat de rank van de matrix $2$ is.\n",
    "\n",
    "De kolomruimte vormt een 2D subruimte van onze 3D ruimte. Dat betekent dat op ieder punt in de kolomruimte oneindig veel vectoren uit de originele ruimte terecht komen. Denk aan een schaduw: alle punten op lijn van de lichtbron naar een punt binnen de schaduw worden naar ditzelfde punt geprojecteerd. Alle punten die naar de nul-vector $\\vec 0$ worden geprojecteerd vormen ook een subruimte, in het geval van 3D-naar-2D projectie een 1D-lijn. Dit is waar de \"verloren\" dimensie naartoe is gegaan: de 3D ruimte is opgesplitst in een 2D column space en een 1D ruimte die we de *nulruimte*, *null space* of *kernel* $Ker(\\textbf{M})$ van de matrix noemen. Het aantal dimensies van de nulruimte noemen we de *nullity* van de matrix. In het algemeen moet de som van de rank en de nullity van een matrix gelijk zijn aan het aantal kolommen, dus voor een $m\\times n$ matrix $\\mathbf{M}$ geldt dat:\n",
    "\n",
    "$$\\text{Rank}(\\textbf{M}) + \\text{Nullity}(\\textbf{M}) = n$$\n",
    "\n",
    "We kunnen de nulruimte zelf bepalen door nog een keer de Gauss-Jordan eliminatie uit te voeren, maar nu met alleen nullen in de kolom naast de streep:\n",
    "\n",
    "$$\\left[\\begin{array}{ccc|c} 1 & 1 & -1 & 0 \\\\ 0 & -1 & 0 & 0 \\\\ 1 & 0 & -1 & 0 \\end{array}\\right]$$\n",
    "\n",
    "<details>\n",
    "\n",
    "Tel rij 2 bij rij 1 op:\n",
    "\n",
    "$$\\left[\\begin{array}{ccc|c} 1 & 0 & -1 & 0 \\\\ 0 & -1 & 0 & 0 \\\\ 1 & 0 & -1 & 0 \\end{array}\\right]$$\n",
    "\n",
    "Tel rij 1 bij rij 3 op:\n",
    "\n",
    "$$\\left[\\begin{array}{ccc|c} 1 & 0 & -1 & 0 \\\\ 0 & -1 & 0 & 0 \\\\ 0 & 0 & 0 & 0 \\end{array}\\right]$$\n",
    "\n",
    "Doe rij 2 keer $-1$:\n",
    "\n",
    "</details>\n",
    "    \n",
    "$$\\left[\\begin{array}{ccc|c} 1 & 0 & -1 & 0 \\\\ 0 & 1 & 0 & 0 \\\\ 0 & 0 & 0 & 0 \\end{array}\\right]$$\n",
    "\n",
    "Als we dit omschrijven naar een normale matrix-vergelijking en de gevonden vermenigvuldiging uitvoeren dan krijgen we:\n",
    "\n",
    "$$\\begin{bmatrix} 1 & 0 & -1 \\\\ 0 & 1 & 0 \\\\ 0 & 0 & 0 \\end{bmatrix} \\begin{bmatrix}x \\\\ y \\\\ z\\end{bmatrix} = \\begin{bmatrix}0 \\\\ 0 \\\\ 0\\end{bmatrix} \\quad\\to\\quad \\begin{bmatrix}x-z \\\\ y \\\\ 0\\end{bmatrix} = \\begin{bmatrix}0 \\\\ 0 \\\\ 0\\end{bmatrix}$$\n",
    "\n",
    "Oftewel $x = z$ en $y = 0$, met $z$ als vrije variabele. Met één vrije variabele kunnen we concluderen dat onze nulruimte inderdaad 1-dimensionaal is (een lijn), wat betekent dat we een *nullity* van $1$ gevonden hebben. We kunnen de hele nulruimte met een enkele basisvector $\\vec{e_0}$ uitdrukken, waarbij $x$ en $z$ gelijk zijn en $y$ nul is:\n",
    "\n",
    "$$\\vec{e_0} = \\begin{bmatrix}1 \\\\ 0 \\\\ 1\\end{bmatrix}$$"
   ]
  },
  {
   "cell_type": "markdown",
   "metadata": {
    "deletable": false,
    "editable": false
   },
   "source": [
    "## Opdracht 18\n",
    "Bereken de column space, null space, rank en nullity voor de random gegenereerde matrices:"
   ]
  },
  {
   "cell_type": "code",
   "execution_count": 133,
   "metadata": {
    "deletable": false,
    "editable": false
   },
   "outputs": [
    {
     "data": {
      "text/latex": [
       "$\\displaystyle \\textbf{M} = \n",
       "\\begin{bmatrix}\n",
       "  3 & 4\\\\\n",
       "  1 & 3\\\\\n",
       "\\end{bmatrix}$"
      ],
      "text/plain": [
       "<IPython.core.display.Math object>"
      ]
     },
     "metadata": {},
     "output_type": "display_data"
    },
    {
     "data": {
      "text/markdown": [
       "<details><pre>$\\textbf{M} =  \\begin{bmatrix}   3 & 4\\\\   1 & 3\\\\ \\end{bmatrix}$</pre></details>"
      ],
      "text/plain": [
       "<IPython.core.display.Markdown object>"
      ]
     },
     "metadata": {},
     "output_type": "display_data"
    },
    {
     "data": {
      "text/latex": [
       "$\\displaystyle \\textbf{N} = \n",
       "\\begin{bmatrix}\n",
       "  0 & 2\\\\\n",
       "  0 & 4\\\\\n",
       "\\end{bmatrix}$"
      ],
      "text/plain": [
       "<IPython.core.display.Math object>"
      ]
     },
     "metadata": {},
     "output_type": "display_data"
    },
    {
     "data": {
      "text/markdown": [
       "<details><pre>$\\textbf{N} =  \\begin{bmatrix}   0 & 2\\\\   0 & 4\\\\ \\end{bmatrix}$</pre></details>"
      ],
      "text/plain": [
       "<IPython.core.display.Markdown object>"
      ]
     },
     "metadata": {},
     "output_type": "display_data"
    },
    {
     "data": {
      "text/latex": [
       "$\\displaystyle \\textbf{O} = \n",
       "\\begin{bmatrix}\n",
       "  1 & 1 & 4\\\\\n",
       "  4 & 1 & 1\\\\\n",
       "  2 & 3 & 4\\\\\n",
       "\\end{bmatrix}$"
      ],
      "text/plain": [
       "<IPython.core.display.Math object>"
      ]
     },
     "metadata": {},
     "output_type": "display_data"
    },
    {
     "data": {
      "text/markdown": [
       "<details><pre>$\\textbf{O} =  \\begin{bmatrix}   1 & 1 & 4\\\\   4 & 1 & 1\\\\   2 & 3 & 4\\\\ \\end{bmatrix}$</pre></details>"
      ],
      "text/plain": [
       "<IPython.core.display.Markdown object>"
      ]
     },
     "metadata": {},
     "output_type": "display_data"
    },
    {
     "data": {
      "text/latex": [
       "$\\displaystyle \\textbf{P} = \n",
       "\\begin{bmatrix}\n",
       "  4 & 0 & 4\\\\\n",
       "  1 & 0 & 4\\\\\n",
       "  4 & 0 & 3\\\\\n",
       "\\end{bmatrix}$"
      ],
      "text/plain": [
       "<IPython.core.display.Math object>"
      ]
     },
     "metadata": {},
     "output_type": "display_data"
    },
    {
     "data": {
      "text/markdown": [
       "<details><pre>$\\textbf{P} =  \\begin{bmatrix}   4 & 0 & 4\\\\   1 & 0 & 4\\\\   4 & 0 & 3\\\\ \\end{bmatrix}$</pre></details>"
      ],
      "text/plain": [
       "<IPython.core.display.Markdown object>"
      ]
     },
     "metadata": {},
     "output_type": "display_data"
    },
    {
     "data": {
      "text/latex": [
       "$\\displaystyle \\textbf{Q} = \n",
       "\\begin{bmatrix}\n",
       "  1 & 1 & 0\\\\\n",
       "  3 & 4 & 3\\\\\n",
       "\\end{bmatrix}$"
      ],
      "text/plain": [
       "<IPython.core.display.Math object>"
      ]
     },
     "metadata": {},
     "output_type": "display_data"
    },
    {
     "data": {
      "text/markdown": [
       "<details><pre>$\\textbf{Q} =  \\begin{bmatrix}   1 & 1 & 0\\\\   3 & 4 & 3\\\\ \\end{bmatrix}$</pre></details>"
      ],
      "text/plain": [
       "<IPython.core.display.Markdown object>"
      ]
     },
     "metadata": {},
     "output_type": "display_data"
    },
    {
     "data": {
      "text/latex": [
       "$\\displaystyle \\textbf{R} = \n",
       "\\begin{bmatrix}\n",
       "  0 & 0 & 1\\\\\n",
       "  4 & 4 & 2\\\\\n",
       "\\end{bmatrix}$"
      ],
      "text/plain": [
       "<IPython.core.display.Math object>"
      ]
     },
     "metadata": {},
     "output_type": "display_data"
    },
    {
     "data": {
      "text/markdown": [
       "<details><pre>$\\textbf{R} =  \\begin{bmatrix}   0 & 0 & 1\\\\   4 & 4 & 2\\\\ \\end{bmatrix}$</pre></details>"
      ],
      "text/plain": [
       "<IPython.core.display.Markdown object>"
      ]
     },
     "metadata": {},
     "output_type": "display_data"
    }
   ],
   "source": [
    "RNG().set(6)\n",
    "\n",
    "random_tensor(r\"\\textbf{M}\", (2,2), singular=matrix_nd, interval=(0,5))\n",
    "random_tensor(r\"\\textbf{N}\", (2,2), singular=matrix_gd, interval=(0,5))\n",
    "random_tensor(r\"\\textbf{O}\", (3,3), singular=matrix_nd, interval=(0,5))\n",
    "random_tensor(r\"\\textbf{P}\", (3,3), singular=matrix_gd, interval=(0,5))\n",
    "random_tensor(r\"\\textbf{Q}\", (2,3), singular=matrix_ns, interval=(0,5))\n",
    "random_tensor(r\"\\textbf{R}\", (2,3), singular=matrix_ns, interval=(0,5))"
   ]
  },
  {
   "cell_type": "markdown",
   "metadata": {},
   "source": [
    "<div style=\"background:#fffff0;\">\n",
    "\n",
    "### Inversen <a id='opdr13'></a>\n",
    "    \n",
    "$\\text{I}(\\textbf{M}) = \\begin{bmatrix}   3 & 4\\\\   1 & 3\\\\ \\end{bmatrix} -> \\begin{bmatrix}   1 & 4/3\\\\   1 & 3\\\\ \\end{bmatrix} -> \\begin{bmatrix}   1 & 4/3\\\\   0 & 5/3\\\\ \\end{bmatrix} -> \\begin{bmatrix}   1 & 0\\\\   0 & 1\\\\ \\end{bmatrix} = 2: \\begin{bmatrix}   3 & 4\\\\   1 & 3\\\\ \\end{bmatrix}$\n",
    "\n",
    "$\\text{Rank}(\\textbf{M}) = \\begin{bmatrix}   3\\\\   1\\\\ \\end{bmatrix} en \\begin{bmatrix}   4\\\\   3\\\\ \\end{bmatrix} = 2 ranks $\n",
    "    \n",
    "$\\text{Ker}(\\textbf{M}) =  IR 2x2 = \\begin{bmatrix}   3 & 4\\\\   1 & 3\\\\ \\end{bmatrix} -> \\begin{bmatrix}   0 & -5\\\\   1 & 3\\\\ \\end{bmatrix} = (5y = 0 -> y = 0) en (x+y=0) dus (x+0=0 -> x=0) = x \\begin{bmatrix}   0 \\\\   0\\\\ \\end{bmatrix}$\n",
    "\n",
    "$\\text{Nullity}(\\textbf{M}) = 2 Collums - 2 Ranks = 0 $\n",
    "\n",
    "<hr />\n",
    "    \n",
    "$\\text{I}(\\textbf{N}) = \\begin{bmatrix}   0 & 2\\\\   0 & 4\\\\ \\end{bmatrix} -> \\begin{bmatrix}   0 & 1\\\\   0 & 1\\\\ \\end{bmatrix} = 1: \\begin{bmatrix}   2\\\\   4\\\\ \\end{bmatrix}$\n",
    "\n",
    "$\\text{Rank}(\\textbf{N}) = \\begin{bmatrix}   0\\\\   0\\\\ \\end{bmatrix} en \\begin{bmatrix}   2\\\\   4\\\\ \\end{bmatrix} = 2 ranks $\n",
    "    \n",
    "$\\text{Ker}(\\textbf{N}) = IR 2x2 = \\begin{bmatrix}   0 & 2\\\\   0 & 4\\\\ \\end{bmatrix} = (2y = 0 -> y = 0) en (x+y=0) dus (x+0=0 -> x=0) = x \\begin{bmatrix}   0 \\\\   0\\\\ \\end{bmatrix}$\n",
    "\n",
    "$\\text{Nullity}(\\textbf{N}) = \\dots %TODO $\n",
    "\n",
    "<hr />\n",
    "    \n",
    "$\\text{I}(\\textbf{O}) = \\begin{bmatrix}   1 & 1 & 4\\\\   4 & 1 & 1\\\\   2 & 3 & 4\\\\ \\end{bmatrix} -> \\begin{bmatrix}   1 & 1 & 4\\\\   0 & -3 & 15\\\\   2 & 3 & 4\\\\ \\end{bmatrix} -> \\begin{bmatrix}   1 & 1 & 4\\\\   0 & -3 & 15\\\\   0 & 1 & -4\\\\ \\end{bmatrix} -> \\begin{bmatrix}   1 & 1 & 4\\\\   0 & 1 & 5\\\\   0 & 1 & -4\\\\ \\end{bmatrix} -> \\begin{bmatrix}   1 & 1 & 4\\\\   0 & 1 & 5\\\\   0 & 0 & -9\\\\ \\end{bmatrix} -> \\begin{bmatrix}   1 & 1 & 4\\\\   0 & 1 & 5\\\\   0 & 0 & 1\\\\ \\end{bmatrix} -> \\begin{bmatrix}   1 & 1 & 4\\\\   0 & 1 & 0\\\\   0 & 0 & 1\\\\ \\end{bmatrix} -> \\begin{bmatrix}   1 & 0 & 0\\\\   0 & 1 & 0\\\\   0 & 0 & 1\\\\ \\end{bmatrix} -> 3: \\begin{bmatrix}   1 & 1 & 4\\\\   4 & 1 & 1\\\\   2 & 3 & 4\\\\ \\end{bmatrix} $\n",
    "\n",
    "$\\text{Rank}(\\textbf{O}) = \\begin{bmatrix}   1\\\\   4\\\\   2\\\\ \\end{bmatrix} en \\begin{bmatrix}   1\\\\   1\\\\   3\\\\ \\end{bmatrix} en \\begin{bmatrix}   4\\\\   1\\\\   4\\\\ \\end{bmatrix} = 3 ranks$\n",
    "    \n",
    "$\\text{Ker}(\\textbf{O}) = \\begin{bmatrix}   1 & 1 & 4\\\\   4 & 1 & 1\\\\   2 & 3 & 4\\\\ \\end{bmatrix} -> \\begin{bmatrix}   1 & 1 & 4\\\\   4 & 1 & 1\\\\   2 & 3 & 4\\\\ \\end{bmatrix}$\n",
    "\n",
    "$\\text{Nullity}(\\textbf{O}) = 3 Collums - 3 Ranks = 0 $\n",
    "\n",
    "<hr />\n",
    "    \n",
    "$\\text{I}(\\textbf{P}) = \\begin{bmatrix}   4 & 0 & 4\\\\   1 & 0 & 4\\\\   4 & 0 & 3\\\\ \\end{bmatrix} -> \\begin{bmatrix}   1 & 0 & 1\\\\   1 & 0 & 4\\\\   4 & 0 & 3\\\\ \\end{bmatrix} -> \\begin{bmatrix}   1 & 0 & 1\\\\   0 & 0 & 3\\\\   4 & 0 & 3\\\\ \\end{bmatrix} -> \\begin{bmatrix}   1 & 0 & 1\\\\   0 & 0 & 3\\\\   0 & 0 & -1\\\\ \\end{bmatrix} -> \\begin{bmatrix}   1 & 0 & 0\\\\   0 & 0 & 1\\\\   0 & 0 & 0\\\\ \\end{bmatrix} -> 2:\\begin{bmatrix}   4 & 4\\\\   1 & 4\\\\   4 & 3\\\\ \\end{bmatrix}$\n",
    "\n",
    "$\\text{Rank}(\\textbf{P}) = \\begin{bmatrix}   4\\\\   1\\\\   4\\\\ \\end{bmatrix} en \\begin{bmatrix}   0\\\\   0\\\\   0\\\\ \\end{bmatrix} en \\begin{bmatrix}   4\\\\   4\\\\   3\\\\ \\end{bmatrix} = 3 ranks$\n",
    "    \n",
    "$\\text{Ker}(\\textbf{P}) = \\dots %TODO $\n",
    "\n",
    "$\\text{Nullity}(\\textbf{P}) = 3 Collums - 3 Ranks = 0 $\n",
    "\n",
    "<hr />\n",
    "    \n",
    "$\\text{I}(\\textbf{Q}) = \\begin{bmatrix}   1 & 1 & 0\\\\   3 & 4 & 3\\\\ \\end{bmatrix} -> \\begin{bmatrix}   1 & 1 & 0\\\\   0 & 1 & 3\\\\ \\end{bmatrix} -> 2:\\begin{bmatrix}   1 & 1\\\\   3 & 4\\\\ \\end{bmatrix}$ \n",
    "\n",
    "$\\text{Rank}(\\textbf{Q}) = \\begin{bmatrix}   1\\\\   3\\\\ \\end{bmatrix} en \\begin{bmatrix}   1\\\\   4\\\\ \\end{bmatrix} en \\begin{bmatrix}   0\\\\   3\\\\ \\end{bmatrix} = 3 ranks$\n",
    "    \n",
    "$\\text{Ker}(\\textbf{Q}) = \\dots %TODO $\n",
    "\n",
    "$\\text{Nullity}(\\textbf{Q}) = 3 Collums - 3 Ranks = 0 $\n",
    "\n",
    "<hr />\n",
    "    \n",
    "$\\text{I}(\\textbf{R}) = \\begin{bmatrix}   0 & 0 & 1\\\\   4 & 4 & 2\\\\ \\end{bmatrix} -> \\begin{bmatrix}   0 & 0 & 1\\\\   1 & 1 & 1/2\\\\ \\end{bmatrix} -> \\begin{bmatrix}   0 & 0 & 1\\\\   1 & 1 & 0\\\\ \\end{bmatrix} -> 2:\\begin{bmatrix}   0 & 1\\\\   4 & 2\\\\ \\end{bmatrix}$\n",
    "\n",
    "$\\text{Rank}(\\textbf{R}) = \\begin{bmatrix}   0\\\\   4\\\\ \\end{bmatrix} en \\begin{bmatrix}   0\\\\   4\\\\ \\end{bmatrix} en \\begin{bmatrix}   1\\\\   2\\\\ \\end{bmatrix} = 2 ranks$\n",
    "    \n",
    "$\\text{Ker}(\\textbf{R}) = \\dots %TODO $\n",
    "\n",
    "$\\text{Nullity}(\\textbf{R}) = 3 Collums - 2 Ranks = 1 $\n",
    "\n",
    "</div>"
   ]
  },
  {
   "cell_type": "markdown",
   "metadata": {
    "deletable": false,
    "editable": false
   },
   "source": [
    "## Right, Left en Pseudo inversen\n",
    "Voor niet-vierkante matrices of matrices met een determinant die niet 0 is, is het zoals we gezien hebben niet mogelijk een inverse te vinden: een matrix die een andere matrix ongedaan kan maken, maar ook door diezelfde matrix ongedaan kan maken. Gelukkig is het wel altijd mogelijk een matrix te vinden die één van beiden doet:\n",
    "- een matrix $\\mathbf{M}$ die informatie verliest, dus naar minder dimensies gaat, is niet ongedaan te maken, maar er is wel een matrix te vinden die door $\\mathbf{M}$ ongedaan wordt gemaakt en\n",
    "- een matrix $\\mathbf{N}$ die een ruimte in een hoger-dimensionale ruimte plaats is omkeerbaar, maar er is geen unieke matrix te vinden die door $\\mathbf{N}$ ongedaan wordt gemaakt.\n",
    "\n",
    "### Right Inverse\n",
    "Voor een matrix zoals $\\mathbf{M}$ betekent dit dat we een *right inverse* kunnen vinden, een matrix $\\mathbf{M}^r$ zodat $\\mathbf{M} \\cdot \\mathbf{M}^r = \\mathbf{I}$. Hier kunnen we dus \"delen\" zoals we dat met de inverse gedaan hebben, maar alleen als de matrix rechts staat:\n",
    "\n",
    "$$\\begin{align}\n",
    "\\mathbf{Q}\\cdot \\mathbf{M} = \\mathbf{P} & \\to\n",
    "\\mathbf{Q} \\cdot \\mathbf{M} \\cdot \\mathbf{M}^r = \\mathbf{P} \\cdot \\mathbf{M}^r \n",
    "\\\\ & \\to\n",
    "\\mathbf{Q} \\cdot \\mathbf{I} = \\mathbf{P} \\cdot \\mathbf{M}^r\n",
    "\\\\ & \\to\n",
    "\\mathbf{Q} = \\mathbf{P} \\cdot \\mathbf{M}^r\n",
    "\\end{align}$$\n",
    "\n",
    "Als de matrix waardoor we willen \"delen\" links staat in een vermenigvuldiging komen we niet verder...\n",
    "\n",
    "$$\\begin{align}\n",
    "\\mathbf{M}\\cdot \\mathbf{Q} = \\mathbf{P} & \\to\n",
    "\\mathbf{M} \\cdot \\mathbf{Q} \\cdot \\mathbf{M}^r = \\mathbf{P} \\cdot \\mathbf{M}^r\n",
    "\\\\ & \\to \\dots\n",
    "\\end{align}$$\n",
    "    \n",
    "### Left Inverse\n",
    "Voor de matrix $\\mathbf{N}$ hierboven geldt precies het omgekeerde: we kunnen een *left inverse* vinden, een matrix $\\mathbf{N}^l$ zodat $\\mathbf{N}^l \\cdot \\mathbf{N} = \\mathbf{I}$. Ook deze kunnen we voor een deling gebruiken, maar nu alleen als de matrix links staat (wat ook mooi van pas komt bij een matrix-vector vermenigvuldiging):\n",
    "\n",
    "$$\\begin{align}\n",
    "\\mathbf{N} \\cdot \\vec v = \\vec w & \\to\n",
    "\\mathbf{N}^l \\cdot \\mathbf{N} \\cdot \\vec v = \\mathbf{M}^l \\cdot \\vec w \n",
    "\\\\ & \\to\n",
    "\\mathbf{I} \\cdot \\vec v = \\mathbf{N}^l \\cdot \\vec w\n",
    "\\\\ & \\to\n",
    "\\vec v  = \\mathbf{N}^l \\cdot \\vec w \n",
    "\\end{align}$$\n",
    "\n",
    "Als de matrix waardoor we willen \"delen\" rechts staat in een vermenigvuldiging komen we niet verder...\n",
    "\n",
    "$$\\begin{align}\n",
    "\\mathbf{Q}\\cdot \\mathbf{N} =  \\vec w & \\to\n",
    "\\mathbf{N}^l \\cdot \\mathbf{Q} \\cdot \\mathbf{N} = \\mathbf{N}^l \\cdot \\vec w\n",
    "\\\\ & \\to \\dots\n",
    "\\end{align}$$\n",
    "\n",
    "### Pseudo-Inverse\n",
    "Een matrix heeft altijd een left inverse, **of** een right inverse. Als de matrix alletwee heeft, dan moeten beiden inversen dezelfde matrix zijn en is dit een honest-to-goodness echt inverse $\\mathbf{M}^{-1}$. Dit geldt alleen voor vierkante, omkeerbare matrices; de rest heeft **of** een left inverse, **of** een right inverse. In dit geval kunnen we de left en right inverse met een term aanduiden: de pseudo-inverse (notatie) $\\mathbf{M}^+$. Hiervoor gelden de volgende twee eigenschappen:\n",
    "\n",
    "$$\\mathbf{M} \\cdot \\mathbf{M}^+ \\cdot \\mathbf{M} = \\mathbf{M}\\qquad\\text{en}\\qquad\\mathbf{M}^+ \\cdot \\mathbf{M} \\cdot \\mathbf{M}^+ = \\mathbf{M}^+$$"
   ]
  },
  {
   "cell_type": "markdown",
   "metadata": {
    "deletable": false,
    "editable": false
   },
   "source": [
    "## Opdracht 19\n",
    "Magische vierkant zijn vierkanten bestaande uit getallen waarbij de sommen van de getallen op de rijen, kolommen en diagonalen allemaal hetzelfde is, bijvoorbeeld:\n",
    "\n",
    "$$\\begin{array}{|c|c|c|}\n",
    "\\hline\n",
    "8 & 3 & 4 \\\\ \\hline\n",
    "1 & 5 & 9 \\\\ \\hline\n",
    "6 & 7 & 2 \\\\ \\hline\n",
    "\\end{array}$$\n",
    "\n",
    "Hierbij is de som van alle rijen, kolommen en diagonalen gelijk aan 15.\n",
    "Een ander voorbeeld met waarbij alleen gebruik wordt gemaakt van priemgetallen is deze (met de som gelijk aan 177):\n",
    "\n",
    "$$\\begin{array}{|c|c|c|}\n",
    "\\hline\n",
    "101 & 5 & 71 \\\\ \\hline\n",
    "29 & 59 & 89 \\\\ \\hline\n",
    "47 & 113 & 17 \\\\ \\hline\n",
    "\\end{array}$$\n",
    "\n",
    "Natuurlijk kunnen er ook grotere vierkanten worden gemaakt, zoals het onderstaande (zeer bekende) magische vierkant:\n",
    "$$\\begin{array}{|c|c|c|c|}\n",
    "\\hline\n",
    "16 & 3 & 2 & 13 \\\\ \\hline\n",
    "5 & 10 & 11 & 8 \\\\ \\hline\n",
    "9 & 6 & 7 & 12 \\\\ \\hline\n",
    "4 & 15 & 14 & 1 \\\\ \\hline\n",
    "\\end{array}$$\n",
    "\n",
    "Er zijn allerlei verschillende manier om deze vierkanten te maken, maar voor ons is het interessanter om te kijken of, en zo ja hoe, je een oplossing kan vinden gegeven een aantal waardes. Neem bijvoorbeeld het onderstaande gegeven vierkant:\n",
    "\n",
    "$$\\begin{array}{|c|c|c|}\n",
    "\\hline\n",
    "   5 &  ~~ & ~~  \\\\ \\hline\n",
    "~~  &  ~~ &  4  \\\\ \\hline\n",
    "~~  & ~~  &  6   \\\\ \\hline\n",
    "\\end{array}$$\n",
    "\n",
    "De vraag is nu: wat zijn de getallen die in de lege vakjes moeten worden ingevuld?\n",
    "\n",
    "### Opdracht\n",
    "Om een algemeen probleem als dit op te lossen is het nodig om deze vraagstelling om te schrijven in een stelsel vergelijken. Om effectief een oplossing te kunnen construeren is het nodig om dit stelsel vergelijkingen te beschrijven in matrix-vector vorm: \n",
    "\n",
    "$$\\mathbf{A} \\vec{x} = \\vec{b}$$\n",
    "\n",
    "Daarna kan je dit stelsel vergelijkingen oplossen door middel van verschillende methodes, zoals Gauss-Jordan eliminatie en (pseudo)inverse matrices. Omdat we hier met een matrix van $8\\times 9$ of zelfs $9 \\times 10$ te maken hebben gaan we het handwerk met Gauss-Jordan overslaan, en vertrouwen we op de computer om dit voor ons te doen.\n",
    "\n",
    "Schrijf een functie die, gegeven een lijst van gegeven waardes `[lb, b, rb, l, m, r, lo, o, ro]` een matrix-vector vergelijking opstelt en oplost om het magische vierkant verder in te vullen. De functie gebruikt de determinant / rank om uit te zoeken of een oplossing mogelijk is. \n",
    "\n",
    "Je kunt de volgende NumPy functies gebruiken (deze hebben we niet zelf geschreven, omdat om deze te berekenen meer wiskundig inzicht nodig is, en dat is lastig aan een computer uit te leggen):\n",
    " - `np.linalg.pinv()`\n",
    " - `np.linalg.matrix_rank()`\n",
    "\n",
    "Naast het programmeren moet je ook je aanpak beschrijven, indien gebruikt met verwijzing naar geraadpleegde bronnen buiten het studiemateriaal. \n",
    "\n",
    "**Let op:** voor deze opdracht is het niet nodig dat de oplossing bestaat uit gehele getallen. Er mogen dus breuken of komma-getallen gebruikt worden. Je mag de aanname doen dat de som van een rij, kolom of diagonaal gelijk is aan drie keer de waarde van het middelste vakje."
   ]
  },
  {
   "cell_type": "markdown",
   "metadata": {},
   "source": [
    "<div style=\"background:#fffff0;\">\n",
    "\n",
    "### Toelichting aanpak magische vierkanten <a id='opdr20'></a>\n",
    "\n",
    "Ik wil graag proberen om zonder de NumPy functies de opdracht te maken en zo classic mogelijk te gaan werken.\n",
    "    \n",
    "Ik begon eerst met het berekenen van het midden. Eerst zet het alle diagonalen in een list. Daarna kijkt het wanneer de list maar 1 nul bevat en gaat daarmee verder. Hij berekent mid dan met de formule: diagonaaloptel = mid*3. Met wat herleiden komt dus mid = 0.5*1diagonaal+0.5*2diagonaal. \n",
    "    \n",
    "Dan gaat het de functie opvul aanroepen. Het heeft een while loop om meerdere malen door de functies te lopen. Deze zet elke arraylist (horizontaal) in aparte list en berekende door uit of het maar 1 nul bevat. Zo ja dan wordt alles opgeteld en van de mid*3 eraf gehaalt. Dan zet hij hem neer op de plaats van de arraylist met dezelfde index als van de aparte list. Dan gaat het de verticale eruit halen door de lengtenummer te gebruiken en de index. Dan zet hij deze 3 waardes in een list dat wordt bekeken of het 1 nul heeft. Zo ja dan gaat het met de horizontale as van de apartelist en de verticale as van de lengtenummer vervangt het de nul ook weer. Bij de diagonaal gebruik ik de numpyfunctie .diagonal() om andere manieren te testen ipv. handmatig de diagonale te maken zoals bij de midcalculator. Dan zet deze het weer in de arraylist wanneer het maar 1 nul bevat en op de plaats van de diagonaal variabele index\n",
    "\n",
    "</div>"
   ]
  },
  {
   "cell_type": "code",
   "execution_count": 134,
   "metadata": {},
   "outputs": [
    {
     "data": {
      "text/latex": [
       "$\\displaystyle \\begin{array}{|c|c|c|}\\hline\n",
       "  8 & 3 & 4\\\\\\hline\n",
       "  1 & 5 & 9\\\\\\hline\n",
       "  6 & 7 & 2\\\\\\hline\n",
       "\\end{array}$"
      ],
      "text/plain": [
       "<IPython.core.display.Math object>"
      ]
     },
     "metadata": {},
     "output_type": "display_data"
    },
    {
     "data": {
      "text/markdown": [
       "<details><pre>$\\begin{array}{|c|c|c|}\\hline   8 & 3 & 4\\\\\\hline   1 & 5 & 9\\\\\\hline   6 & 7 & 2\\\\\\hline \\end{array}$</pre></details>"
      ],
      "text/plain": [
       "<IPython.core.display.Markdown object>"
      ]
     },
     "metadata": {},
     "output_type": "display_data"
    }
   ],
   "source": [
    "\n",
    "# Je kan latex_msquare gebruiken om een magisch vierkant van 3 bij 3 te printen, bijvoorbeeld:\n",
    "latex_msquare(np.array(((8,3,4),(1,5,9),(6,7,2))))\n",
    "\n",
    "input = np.array(((5, 0, 0),\n",
    "                  (0, 0, 4),\n",
    "                  (0, 0, 6)))\n",
    "\n",
    "    \n",
    "def midcalculator(gegevenlist):\n",
    "    arrayvierkant = gegevenlist\n",
    "    bijna_aflist = []\n",
    "    bijna_aflist.append(arrayvierkant[2][0]) #diagonaal 1\n",
    "    bijna_aflist.append(arrayvierkant[1][1])\n",
    "    bijna_aflist.append(arrayvierkant[0][2])\n",
    "    if bijna_aflist.count(0) == 1:\n",
    "        mid = 0.5*arrayvierkant[2][0]+0.5*arrayvierkant[0][2]\n",
    "    else:\n",
    "        bijna_aflist = []\n",
    "        bijna_aflist.append(arrayvierkant[0][0]) #diagonaal 2\n",
    "        bijna_aflist.append(arrayvierkant[1][1])\n",
    "        bijna_aflist.append(arrayvierkant[2][2])\n",
    "        if bijna_aflist.count(0) == 1:\n",
    "            mid = 0.5*arrayvierkant[2][2]+0.5*arrayvierkant[0][0]\n",
    "        else:\n",
    "            bijna_aflist = []\n",
    "            bijna_aflist.append(arrayvierkant[1][0]) #horizontaal\n",
    "            bijna_aflist.append(arrayvierkant[1][1])\n",
    "            bijna_aflist.append(arrayvierkant[1][2])\n",
    "            if bijna_aflist.count(0) == 1:\n",
    "                mid = 0.5*arrayvierkant[1][0]+0.5*arrayvierkant[1][2]\n",
    "            else:\n",
    "                bijna_aflist = []\n",
    "                bijna_aflist.append(arrayvierkant[0][1]) #verticaal\n",
    "                bijna_aflist.append(arrayvierkant[1][1])\n",
    "                bijna_aflist.append(arrayvierkant[2][1])\n",
    "                if bijna_aflist.count(0) == 1:\n",
    "                    mid = 0.5*arrayvierkant[0][1]+0.5*arrayvierkant[2][1]\n",
    "        \n",
    "\n",
    "    return mid\n",
    "\n",
    "def opvulcalculator(gegevenlist):\n",
    "    while 0 in gegevenlist:\n",
    "        for hori in gegevenlist: #horizontaal\n",
    "            opvulnummer = 0\n",
    "            bijna_aflist = []\n",
    "            bijna_aflist.append(hori) \n",
    "            for y in bijna_aflist:\n",
    "                if np.count_nonzero(y == 0) == 1:\n",
    "                    for optelnummer in y:\n",
    "                        opvulnummer += optelnummer\n",
    "                    opvulnummer = (gegevenlist[1][1]*3)-opvulnummer\n",
    "                    for x in range(len(hori)):\n",
    "                        if hori[x] == 0:\n",
    "                            hori[x] = opvulnummer\n",
    "        for lengtenummer in range(0, 3): #verticaal loopen\n",
    "            opvulnummer = 0\n",
    "            bijna_aflist = []\n",
    "            for verti in gegevenlist: #verticaal\n",
    "                bijna_aflist.append(verti[lengtenummer]) \n",
    "            if bijna_aflist.count(0) == 1:\n",
    "                for optelnummer in bijna_aflist:\n",
    "                    opvulnummer += optelnummer\n",
    "                opvulnummer = (gegevenlist[1][1]*3)-opvulnummer\n",
    "                for x in range(len(verti)):\n",
    "                    gegevenlist[bijna_aflist.index(0)][lengtenummer] = opvulnummer\n",
    "        \n",
    "        bijna_aflist = []\n",
    "        bijna_aflist = gegevenlist.diagonal()\n",
    "        if np.count_nonzero(bijna_aflist == 0) == 1:\n",
    "                for optelnummer in bijna_aflist:\n",
    "                    opvulnummer += optelnummer\n",
    "                opvulnummer = (gegevenlist[1][1]*3)-opvulnummer\n",
    "                tempbijna_aflist = list(bijna_aflist) #numpy array\n",
    "                for x in range(len(verti)):\n",
    "                    gegevenlist[tempbijna_aflist.index(0)][tempbijna_aflist.index(0)] = opvulnummer\n",
    "    return gegevenlist\n",
    "\n",
    "def magisch_vierkant(gegeven_getallen: np.ndarray) -> np.ndarray:\n",
    "    getallenarray = gegeven_getallen.astype(float)\n",
    "    mid = midcalculator(gegeven_getallen)\n",
    "    getallenarray[1][1] = mid\n",
    "    magischevierkant = opvulcalculator(getallenarray)\n",
    "    return magischevierkant\n",
    "    pass"
   ]
  },
  {
   "cell_type": "markdown",
   "metadata": {
    "deletable": false,
    "editable": false
   },
   "source": [
    "### Tests\n",
    "`test_integer`:\n",
    "$$\\begin{array}{|c|c|c|}\\hline   0 & 3 & 4\\\\\\hline   0 & 0 & 0\\\\\\hline   0 & 7 & 0\\\\\\hline \\end{array} \\mapsto \\begin{array}{|c|c|c|}\\hline   8 & 3 & 4\\\\\\hline   1 & 5 & 9\\\\\\hline   6 & 7 & 2\\\\\\hline \\end{array}$$\n",
    "\n",
    "`test_rational`:\n",
    "$$\\begin{array}{|c|c|c|}\\hline   5 & 0 & 0\\\\\\hline   0 & 0 & 4\\\\\\hline   0 & 0 & 6\\\\\\hline \\end{array} \\mapsto\n",
    "\\begin{array}{|c|c|c|}\\hline   5 & 5 & 6.5\\\\\\hline   7 & 5.5 & 4\\\\\\hline   4.5 & 6 & 6\\\\\\hline \\end{array}$$"
   ]
  },
  {
   "cell_type": "code",
   "execution_count": 135,
   "metadata": {
    "deletable": false,
    "editable": false
   },
   "outputs": [
    {
     "name": "stderr",
     "output_type": "stream",
     "text": [
      "test_integer (ac_tests.test_magisch_vierkant.<locals>.TestMagischVierkant) ... ok\n",
      "test_rational (ac_tests.test_magisch_vierkant.<locals>.TestMagischVierkant) ... ok\n",
      "\n",
      "----------------------------------------------------------------------\n",
      "Ran 2 tests in 0.003s\n",
      "\n",
      "OK\n"
     ]
    }
   ],
   "source": [
    "test_magisch_vierkant(magisch_vierkant)"
   ]
  },
  {
   "cell_type": "markdown",
   "metadata": {
    "deletable": false,
    "editable": false
   },
   "source": [
    "# Checkpoint Bravo <a id='cp-bravo'></a>\n",
    "Als je alles hierboven hebt gemaakt kun je je werk inleveren. Als de testen aangeven dat er nog fouten in zitten, probeer deze dan te verbeteren, maar schroom ook niet om de docent om hulp te vragen als je er niet uitkomt.\n",
    "\n",
    "Om je werk in te leveren moet je er allereerst voor zorgen dat je Notebook is opgeslagen (ctrl-s of het icoontje in de toolbar). Daarna kun je een Git-commit maken en deze naar je eigen GitHub of GitLab pushen. De link naar je repository is uiteindelijk wat je inlevert op Canvas, om de docent een seintje te geven dat er werk te beoordelen is."
   ]
  },
  {
   "cell_type": "markdown",
   "metadata": {
    "deletable": false,
    "editable": false
   },
   "source": [
    "# Differentiëren\n",
    "Het tweede deel van deze cursus gaat over calculus: de wiskunde van verandering. Waar we (lineaire) algebra in AI vooral gebruiken om data weer te geven, houdt calculus zich bezig met de functies die op die data werken. Deze inzichten kunnen we gebruiken om te optimaliseren, bijvoorbeeld de best mogelijke waarde of de laagste kosten te vinden."
   ]
  },
  {
   "cell_type": "markdown",
   "metadata": {
    "deletable": false,
    "editable": false
   },
   "source": [
    "## Opdracht 20\n",
    "Schrijf de onderstaande functies voor het berekenen van limieten. De functie `limit_left` berekent de limiet vanaf de linkerkant, en de functie `limit_right` vanaf de rechterkant. Beide geven `None` terug als de gevraagde limiet niet bestaat. In de functie wordt een variabele `delta` ($\\delta$) bijgehouden, die aangeeft hoe ver we van de opgegeven $x$ waarde de functie proberen te benaderen. Deze variabele wordt herhaaldelijk verlaagt (door te delen door 10) totdat het verschil tussen de huidige aanroep en de vorige lager is dan de parameter `epsilon` ($\\epsilon$). Als de functie er niet in slaagt om de gevraagde waarde te benaderen (het resultaat van de functie-aanroep op $x \\pm\\delta$ is `None`) dan mag de functie `None` teruggeven.\n",
    "\n",
    "De functie `limit` combineert beide functies. Beiden worden geprobeerd, en als de resultaten minder dan $2\\epsilon$ uit elkaar liggen dan wordt het gemiddelde als benadering genomen. Anders geeft de functie `None`."
   ]
  },
  {
   "cell_type": "code",
   "execution_count": 136,
   "metadata": {},
   "outputs": [],
   "source": [
    "def limit_left(func: Callable[[float], float], x: float, epsilon: float = 0.0001) -> float: # TODO\n",
    "    delta = 1\n",
    "    while delta >= epsilon:\n",
    "            left = func(x-delta)\n",
    "            delta = delta/10\n",
    "            if left == None:\n",
    "                return None\n",
    "    return float(left)\n",
    "\n",
    "\n",
    "def limit_right(func: Callable[[float], float], x: float, epsilon: float = 0.0001) -> float: # TODO\n",
    "    delta = 1 # Hoeveel zitten we links van de gevraagde waarde?\n",
    "    while delta >= epsilon:\n",
    "            right = func(x+delta)\n",
    "            delta = delta/10\n",
    "            if right == None:\n",
    "                return None\n",
    "    return float(right)\n",
    "\n",
    "\n",
    "def limit(func: Callable[[float], float], x: float, epsilon: float = 0.0001) -> float: # TODO\n",
    "    rechts = limit_right(Callable[[float], float] )\n",
    "    if right - left <= 2*epsilon:\n",
    "        return (right - left)/2 + left\n",
    "    else:\n",
    "        return None"
   ]
  },
  {
   "cell_type": "code",
   "execution_count": 137,
   "metadata": {},
   "outputs": [],
   "source": [
    "def kwadraat(x):\n",
    "    return x*x"
   ]
  },
  {
   "cell_type": "code",
   "execution_count": 138,
   "metadata": {},
   "outputs": [
    {
     "data": {
      "text/plain": [
       "8.999400009999999"
      ]
     },
     "execution_count": 138,
     "metadata": {},
     "output_type": "execute_result"
    }
   ],
   "source": [
    "limit_left(kwadraat, 3)"
   ]
  },
  {
   "cell_type": "markdown",
   "metadata": {
    "deletable": false,
    "editable": false
   },
   "source": [
    "### Tests\n",
    "Het blok hieronder bevat een aantal functies waarmee je je code kan testen, en die ook voor de uiteindelijke tests worden gebruikt. Voel je vrij zelf functies toe te voegen!\n",
    "\n",
    "| **Test** | **Betekenis** |\n",
    "|---:|:---|\n",
    "| `test_holes` | Zoekt de limiet van een functie die op een enkel punt undefined is |\n",
    "| `test_single_discontinuity` | Zoekt de limiet van een functie met een enkel discontinu punt |\n",
    "| `test_left_undefined_above` | Zoekt de limiet van een functie op het punt waar deze ophoudt te bestaan (rechts) |\n",
    "| `test_left_undefined_below` | Zoekt de limiet van een functie op het punt waar deze begint te bestaan (links) |\n",
    "| `test_jump` | Zoekt een niet-bestaande limiet in een piecewise functie |\n",
    "| `test_jump_left` | Zoekt de limiet van links in de piecewise functie |\n",
    "| `test_jump_right` | Zoekt de limiet van rechts in de piecewise functie |"
   ]
  },
  {
   "cell_type": "code",
   "execution_count": 139,
   "metadata": {
    "deletable": false,
    "editable": false
   },
   "outputs": [
    {
     "name": "stderr",
     "output_type": "stream",
     "text": [
      "test_holes (ac_tests.test_limit.<locals>.TestLimit) ... ERROR\n",
      "test_jump (ac_tests.test_limit.<locals>.TestLimit) ... ERROR\n",
      "test_jump_left (ac_tests.test_limit.<locals>.TestLimit) ... ok\n",
      "test_jump_right (ac_tests.test_limit.<locals>.TestLimit) ... ok\n",
      "test_left_undefined_above (ac_tests.test_limit.<locals>.TestLimit) ... ok\n",
      "test_left_undefined_below (ac_tests.test_limit.<locals>.TestLimit) ... ok\n",
      "test_single_discontinuity (ac_tests.test_limit.<locals>.TestLimit) ... ERROR\n",
      "\n",
      "======================================================================\n",
      "ERROR: test_holes (ac_tests.test_limit.<locals>.TestLimit)\n",
      "----------------------------------------------------------------------\n",
      "Traceback (most recent call last):\n",
      "  File \"C:\\Users\\ruben\\v1ac\\ac_tests.py\", line 304, in test_holes\n",
      "    np.testing.assert_equal(limit(self.holes_function,78), 195)\n",
      "  File \"<ipython-input-136-cc75c6a7917b>\", line 22, in limit\n",
      "    rechts = limit_right(Callable[[float], float] )\n",
      "TypeError: limit_right() missing 1 required positional argument: 'x'\n",
      "\n",
      "======================================================================\n",
      "ERROR: test_jump (ac_tests.test_limit.<locals>.TestLimit)\n",
      "----------------------------------------------------------------------\n",
      "Traceback (most recent call last):\n",
      "  File \"C:\\Users\\ruben\\v1ac\\ac_tests.py\", line 314, in test_jump\n",
      "    np.testing.assert_equal(limit(self.piecewise_function,1), None)\n",
      "  File \"<ipython-input-136-cc75c6a7917b>\", line 22, in limit\n",
      "    rechts = limit_right(Callable[[float], float] )\n",
      "TypeError: limit_right() missing 1 required positional argument: 'x'\n",
      "\n",
      "======================================================================\n",
      "ERROR: test_single_discontinuity (ac_tests.test_limit.<locals>.TestLimit)\n",
      "----------------------------------------------------------------------\n",
      "Traceback (most recent call last):\n",
      "  File \"C:\\Users\\ruben\\v1ac\\ac_tests.py\", line 302, in test_single_discontinuity\n",
      "    np.testing.assert_equal(limit(self.single_discontinuity_function,72), 180)\n",
      "  File \"<ipython-input-136-cc75c6a7917b>\", line 22, in limit\n",
      "    rechts = limit_right(Callable[[float], float] )\n",
      "TypeError: limit_right() missing 1 required positional argument: 'x'\n",
      "\n",
      "----------------------------------------------------------------------\n",
      "Ran 7 tests in 0.006s\n",
      "\n",
      "FAILED (errors=3)\n"
     ]
    }
   ],
   "source": [
    "def discontinuous_function(x: float) -> float:\n",
    "    if x == 72:\n",
    "        return -10\n",
    "    elif x % 13 == 0:\n",
    "        return None\n",
    "    else:\n",
    "        return 2.5 * x\n",
    "\n",
    "def holes_function(x: float) -> float:\n",
    "    if x % 13 == 0:\n",
    "        return None\n",
    "    else:\n",
    "        return 2.5 * x\n",
    "    \n",
    "def single_discontinuity_function(x: float) -> float:\n",
    "    if x == 72:\n",
    "        return -10\n",
    "    else:\n",
    "        return 2.5 * x\n",
    "    \n",
    "def right_undefined_function(x: float) -> float:\n",
    "    if x >= 10:\n",
    "        return None\n",
    "    else:\n",
    "        return x+3\n",
    "\n",
    "def left_undefined_function(x: float) -> float:\n",
    "    if x <= 10:\n",
    "        return None\n",
    "    else:\n",
    "        return x+3\n",
    "\n",
    "def piecewise_function(x: float) -> float:\n",
    "    if x < -2:\n",
    "        return -1.5*x -2\n",
    "    elif x >= -2 and x <= 1:\n",
    "        return -1/3 * (x-1) + 2\n",
    "    else:\n",
    "        return x-2\n",
    "    \n",
    "test_limit(limit_left, limit_right, limit)"
   ]
  },
  {
   "cell_type": "code",
   "execution_count": null,
   "metadata": {},
   "outputs": [],
   "source": [
    "\n"
   ]
  },
  {
   "cell_type": "markdown",
   "metadata": {
    "deletable": false,
    "editable": false
   },
   "source": [
    "## Opdracht 21\n",
    "Schrijf een functie een functie numeriek differentieert. De meegegeven functie wordt twee keer aangeroepen, eenmaal op punt `x` en een keer op `x+delta`; het verschil in `y` wordt gedeeld door het verschil in `x`."
   ]
  },
  {
   "cell_type": "code",
   "execution_count": 140,
   "metadata": {},
   "outputs": [],
   "source": [
    "def get_derivative_at(func: Callable[[float], float], x: float, delta: float = 0.0001) -> float: # TODO\n",
    "    onlyx = func(x)\n",
    "    deltax = func(x+delta)\n",
    "    \n",
    "    y = deltax - onlyx\n",
    "    \n",
    "    diff = y/delta\n",
    "    return diff\n"
   ]
  },
  {
   "cell_type": "markdown",
   "metadata": {
    "deletable": false,
    "editable": false
   },
   "source": [
    "### Tests\n",
    "Het blok hieronder bevat een aantal functies waarmee je je code kan testen, en die ook voor de uiteindelijke tests worden gebruikt. Voel je vrij zelf functies toe te voegen!\n",
    "\n",
    "| **Test** | **Betekenis** |\n",
    "|---:|:---|\n",
    "| `test_square` | Zoekt de afgeleide van `square` op $x=2$ |\n",
    "| `test_double` | Zoekt de afgeleide van `double` op $x=2$ |\n",
    "| `test_succ` | Zoekt de afgeleide van `succ` op $x=2$ |"
   ]
  },
  {
   "cell_type": "code",
   "execution_count": 141,
   "metadata": {
    "deletable": false,
    "editable": false
   },
   "outputs": [
    {
     "name": "stderr",
     "output_type": "stream",
     "text": [
      "test_double (ac_tests.test_numeric_derivative.<locals>.TestNumericDerivative) ... ok\n",
      "test_square (ac_tests.test_numeric_derivative.<locals>.TestNumericDerivative) ... ok\n",
      "test_succ (ac_tests.test_numeric_derivative.<locals>.TestNumericDerivative) ... ok\n",
      "\n",
      "----------------------------------------------------------------------\n",
      "Ran 3 tests in 0.003s\n",
      "\n",
      "OK\n"
     ]
    }
   ],
   "source": [
    "def square(x: float) -> float:\n",
    "    return x**2\n",
    "\n",
    "def double(x: float) -> float:\n",
    "    return x*2\n",
    "\n",
    "def succ(x: float) -> float:\n",
    "    return x+1\n",
    "    \n",
    "test_numeric_derivative(get_derivative_at)"
   ]
  },
  {
   "cell_type": "markdown",
   "metadata": {
    "deletable": false,
    "editable": false
   },
   "source": [
    "## Opdracht 22 <a id='opdr22'></a>\n",
    "Het idee van een afgeleide wordt vooral gebruikt waneer we een functie met een formule hebben. Verderop zullen we zien hoe we van een formule de formule voor de afgeleide van een functie op elk punt kunnen berekenen. Zelfs als we geen formule maar een Python functie hebben kunnen we deze gebruiken voor het berekenen van de afgeleide: we roepen de functie aan op $x$ en $x+\\delta$ en kijken wat het verschil is.\n",
    "\n",
    "We kunnen het idee van differentiatie ook gebruiken als we helemaal geen formule hebben, maar enkel data. Als we een tabel hebben van de $x$-waarde van een functie en de bijbehorende $y$ waarde, kunnen we nog steeds zien hoeveel $y$ toeneemt (of afneemt) voor een bepaalde toename in $x$. \n",
    "\n",
    "Het bestand `verkeerssimulatie-rechteweg-posities.csv` bevat een voorbeeld van dit soort data. In het CSV bestand is elke kolom gescheiden door `;` en is de decimal-separator `.` en geeft de eerste rij de huidige positie van een aantal voertuigen. De rijen daarna geven in de eerste kolom de tijd, en in de volgende kolommen de snelheid van de voertuigen. Jullie doel is om de volgende gegevens te bepalen:\n",
    " - Voor elk voertuig de maximum en minimum snelheid en\n",
    " - een grafiek (in python code met matplotlib) van de snelheden van alle voertuigen over de gegeven tijdsperiode (van minimum tijdstip tot maximum tijdstip in het bestand).\n",
    "\n",
    "Daarnaast dient er een uitleg met onderbouwing van de techniek/methode (de achterliggende wiskundige techniek) te zijn hoe je dit doet."
   ]
  },
  {
   "cell_type": "code",
   "execution_count": 142,
   "metadata": {},
   "outputs": [],
   "source": [
    "import csv\n",
    "import matplotlib.pyplot as plt\n",
    "\n",
    "def get_data() -> Tuple[np.ndarray, np.ndarray, np.ndarray]:\n",
    "    autonummerlist = []\n",
    "    tijdlist = []\n",
    "    snelheidlist = []\n",
    "    with open('verkeerssimulatie-rechteweg-posities.csv') as positiecsv:\n",
    "        csv_reader = csv.reader(positiecsv, delimiter=';')\n",
    "        for read in csv_reader:\n",
    "            autonummerlist.append(read[0])\n",
    "            tijdlist.append(read[1])\n",
    "            snelheidlist.append(read[2])\n",
    "    return autonummerlist, tijdlist, snelheidlist\n",
    "            \n",
    "def plot_data(ys: np.ndarray, xss: List[np.ndarray]):\n",
    "    print(\"test\")\n",
    "    plt.plot(xss, ys)\n",
    "    plt.show()\n",
    "    return snelheidlist\n",
    "\n",
    "def bereken_deltas(times: np.ndarray, positions: np.ndarray) -> np.ndarray:\n",
    "    pass # TODO"
   ]
  },
  {
   "cell_type": "code",
   "execution_count": 143,
   "metadata": {},
   "outputs": [
    {
     "name": "stdout",
     "output_type": "stream",
     "text": [
      "test\n"
     ]
    },
    {
     "data": {
      "image/png": "[encoded data removed]",
      "text/plain": [
       "<Figure size 432x288 with 1 Axes>"
      ]
     },
     "metadata": {
      "needs_background": "light"
     },
     "output_type": "display_data"
    },
    {
     "data": {
      "text/plain": [
       "['-5.8',\n",
       " '-5.604894348',\n",
       " '-5.423992649',\n",
       " '-5.265214124',\n",
       " '-5.134312424',\n",
       " '-5.034312424',\n",
       " '-4.965214124',\n",
       " '-4.923992649',\n",
       " '-4.904894348',\n",
       " '-4.9',\n",
       " '-4.9',\n",
       " '-4.895105652',\n",
       " '-4.876007351',\n",
       " '-4.834785876',\n",
       " '-4.765687576',\n",
       " '-4.665687576',\n",
       " '-4.534785876',\n",
       " '-4.376007351',\n",
       " '-4.195105652',\n",
       " '-4',\n",
       " '-3.8',\n",
       " '-3.604894348',\n",
       " '-3.423992649',\n",
       " '-3.265214124',\n",
       " '-3.134312424',\n",
       " '-3.034312424',\n",
       " '-2.965214124',\n",
       " '-2.923992649',\n",
       " '-2.904894348',\n",
       " '-2.9',\n",
       " '-2.9',\n",
       " '-2.895105652',\n",
       " '-2.876007351',\n",
       " '-2.834785876',\n",
       " '-2.765687576',\n",
       " '-2.665687576',\n",
       " '-2.534785876',\n",
       " '-2.376007351',\n",
       " '-2.195105652',\n",
       " '-2',\n",
       " '-1.8',\n",
       " '-1.604894348',\n",
       " '-1.423992649',\n",
       " '-1.265214124',\n",
       " '-1.134312424',\n",
       " '-1.034312424',\n",
       " '-0.965214124',\n",
       " '-0.923992649',\n",
       " '-0.904894348',\n",
       " '-0.9',\n",
       " '-0.9',\n",
       " '-0.895105652',\n",
       " '-0.876007351',\n",
       " '-0.834785876',\n",
       " '-0.765687576',\n",
       " '-0.665687576',\n",
       " '-0.534785876',\n",
       " '-0.376007351',\n",
       " '-0.195105652',\n",
       " '-2.08167E-15',\n",
       " '0.2',\n",
       " '0.395105652',\n",
       " '0.576007351',\n",
       " '0.734785876',\n",
       " '0.865687576',\n",
       " '0.965687576',\n",
       " '1.034785876',\n",
       " '1.076007351',\n",
       " '1.095105652',\n",
       " '1.1',\n",
       " '1.1',\n",
       " '1.104894348',\n",
       " '1.123992649',\n",
       " '1.165214124',\n",
       " '1.234312424',\n",
       " '1.334312424',\n",
       " '1.465214124',\n",
       " '1.623992649',\n",
       " '1.804894348',\n",
       " '2',\n",
       " '2.2',\n",
       " '2.395105652',\n",
       " '2.576007351',\n",
       " '2.734785876',\n",
       " '2.865687576',\n",
       " '2.965687576',\n",
       " '3.034785876',\n",
       " '3.076007351',\n",
       " '3.095105652',\n",
       " '3.1',\n",
       " '3.1',\n",
       " '3.104894348',\n",
       " '3.123992649',\n",
       " '3.165214124',\n",
       " '3.234312424',\n",
       " '3.334312424',\n",
       " '3.465214124',\n",
       " '3.623992649',\n",
       " '3.804894348',\n",
       " '4',\n",
       " '4.2',\n",
       " '4.395105652',\n",
       " '4.576007351',\n",
       " '4.734785876',\n",
       " '4.865687576',\n",
       " '4.965687576',\n",
       " '5.034785876',\n",
       " '5.076007351',\n",
       " '5.095105652',\n",
       " '5.1',\n",
       " '5.1',\n",
       " '5.104894348',\n",
       " '5.123992649',\n",
       " '5.165214124',\n",
       " '5.234312424',\n",
       " '5.334312424',\n",
       " '5.465214124',\n",
       " '5.623992649',\n",
       " '5.804894348',\n",
       " '6',\n",
       " '6.2',\n",
       " '6.395105652',\n",
       " '6.576007351',\n",
       " '6.734785876',\n",
       " '6.865687576',\n",
       " '6.965687576',\n",
       " '7.034785876',\n",
       " '7.076007351',\n",
       " '7.095105652',\n",
       " '7.1',\n",
       " '7.1',\n",
       " '7.104894348',\n",
       " '7.123992649',\n",
       " '7.165214124',\n",
       " '7.234312424',\n",
       " '7.334312424',\n",
       " '7.465214124',\n",
       " '7.623992649',\n",
       " '7.804894348',\n",
       " '8',\n",
       " '8.2',\n",
       " '8.395105652',\n",
       " '8.576007351',\n",
       " '8.734785876',\n",
       " '8.865687576',\n",
       " '8.965687576',\n",
       " '9.034785876',\n",
       " '9.076007351',\n",
       " '9.095105652',\n",
       " '9.1',\n",
       " '9.1',\n",
       " '9.104894348',\n",
       " '9.123992649',\n",
       " '9.165214124',\n",
       " '9.234312424',\n",
       " '9.334312424',\n",
       " '9.465214124',\n",
       " '9.623992649',\n",
       " '9.804894348',\n",
       " '10',\n",
       " '10.2',\n",
       " '10.39510565',\n",
       " '10.57600735',\n",
       " '10.73478588',\n",
       " '10.86568758',\n",
       " '10.96568758',\n",
       " '11.03478588',\n",
       " '11.07600735',\n",
       " '11.09510565',\n",
       " '11.1',\n",
       " '11.1',\n",
       " '11.10489435',\n",
       " '11.12399265',\n",
       " '11.16521412',\n",
       " '11.23431242',\n",
       " '11.33431242',\n",
       " '11.46521412',\n",
       " '11.62399265',\n",
       " '11.80489435',\n",
       " '12',\n",
       " '12.2',\n",
       " '12.39510565',\n",
       " '12.57600735',\n",
       " '12.73478588',\n",
       " '12.86568758',\n",
       " '12.96568758',\n",
       " '13.03478588',\n",
       " '13.07600735',\n",
       " '13.09510565',\n",
       " '13.1',\n",
       " '13.1',\n",
       " '13.10489435',\n",
       " '13.12399265',\n",
       " '13.16521412',\n",
       " '13.23431242',\n",
       " '13.33431242',\n",
       " '13.46521412',\n",
       " '13.62399265',\n",
       " '13.80489435',\n",
       " '14',\n",
       " '14.2',\n",
       " '14.39510565',\n",
       " '14.57600735',\n",
       " '14.73478588',\n",
       " '14.86568758',\n",
       " '14.96568758',\n",
       " '15.03478588',\n",
       " '15.07600735',\n",
       " '15.09510565',\n",
       " '15.1',\n",
       " '15.1',\n",
       " '15.10489435',\n",
       " '15.12399265',\n",
       " '15.16521412',\n",
       " '15.23431242',\n",
       " '15.33431242',\n",
       " '15.46521412',\n",
       " '15.62399265',\n",
       " '15.80489435',\n",
       " '16',\n",
       " '16.2',\n",
       " '16.39510565',\n",
       " '16.57600735',\n",
       " '16.73478588',\n",
       " '16.86568758',\n",
       " '16.96568758',\n",
       " '17.03478588',\n",
       " '17.07600735',\n",
       " '17.09510565',\n",
       " '17.1',\n",
       " '17.1',\n",
       " '17.10489435',\n",
       " '17.12399265',\n",
       " '17.16521412',\n",
       " '17.23431242',\n",
       " '17.33431242',\n",
       " '17.46521412',\n",
       " '17.62399265',\n",
       " '17.80489435',\n",
       " '18',\n",
       " '18.2',\n",
       " '18.39510565',\n",
       " '18.57600735',\n",
       " '18.73478588',\n",
       " '18.86568758',\n",
       " '18.96568758',\n",
       " '19.03478588',\n",
       " '19.07600735',\n",
       " '19.09510565',\n",
       " '19.1',\n",
       " '19.1',\n",
       " '19.10489435',\n",
       " '19.12399265',\n",
       " '19.16521412',\n",
       " '19.23431242',\n",
       " '19.33431242',\n",
       " '19.46521412',\n",
       " '19.62399265',\n",
       " '19.80489435',\n",
       " '20',\n",
       " '20.2',\n",
       " '20.39510565',\n",
       " '20.57600735',\n",
       " '20.73478588',\n",
       " '20.86568758',\n",
       " '20.96568758',\n",
       " '21.03478588',\n",
       " '21.07600735',\n",
       " '21.09510565',\n",
       " '21.1',\n",
       " '21.1',\n",
       " '21.10489435',\n",
       " '21.12399265',\n",
       " '21.16521412',\n",
       " '21.23431242',\n",
       " '21.33431242',\n",
       " '21.46521412',\n",
       " '21.62399265',\n",
       " '21.80489435',\n",
       " '22',\n",
       " '22.2',\n",
       " '22.39510565',\n",
       " '22.57600735',\n",
       " '22.73478588',\n",
       " '22.86568758',\n",
       " '22.96568758',\n",
       " '23.03478588',\n",
       " '23.07600735',\n",
       " '23.09510565',\n",
       " '23.1',\n",
       " '23.1',\n",
       " '23.10489435',\n",
       " '23.12399265',\n",
       " '23.16521412',\n",
       " '23.23431242',\n",
       " '23.33431242',\n",
       " '23.46521412',\n",
       " '23.62399265',\n",
       " '23.80489435',\n",
       " '24',\n",
       " '24.2',\n",
       " '24.39510565',\n",
       " '24.57600735',\n",
       " '24.73478588',\n",
       " '24.86568758',\n",
       " '24.96568758',\n",
       " '25.03478588',\n",
       " '25.07600735',\n",
       " '25.09510565',\n",
       " '25.1',\n",
       " '25.1',\n",
       " '25.10489435',\n",
       " '25.12399265',\n",
       " '25.16521412',\n",
       " '25.23431242',\n",
       " '25.33431242',\n",
       " '25.46521412',\n",
       " '25.62399265',\n",
       " '25.80489435',\n",
       " '26',\n",
       " '26.2',\n",
       " '26.39510565',\n",
       " '26.57600735',\n",
       " '26.73478588',\n",
       " '26.86568758',\n",
       " '26.96568758',\n",
       " '27.03478588',\n",
       " '27.07600735',\n",
       " '27.09510565',\n",
       " '27.1',\n",
       " '27.1',\n",
       " '27.10489435',\n",
       " '27.12399265',\n",
       " '27.16521412',\n",
       " '27.23431242',\n",
       " '27.33431242',\n",
       " '27.46521412',\n",
       " '27.62399265',\n",
       " '27.80489435',\n",
       " '28',\n",
       " '28.2',\n",
       " '28.39510565',\n",
       " '28.57600735',\n",
       " '28.73478588',\n",
       " '28.86568758',\n",
       " '28.96568758',\n",
       " '29.03478588',\n",
       " '29.07600735',\n",
       " '29.09510565',\n",
       " '29.1',\n",
       " '29.1',\n",
       " '29.10489435',\n",
       " '29.12399265',\n",
       " '29.16521412',\n",
       " '29.23431242',\n",
       " '29.33431242',\n",
       " '29.46521412',\n",
       " '29.62399265',\n",
       " '29.80489435',\n",
       " '30',\n",
       " '30.2',\n",
       " '30.39510565',\n",
       " '30.57600735',\n",
       " '30.73478588',\n",
       " '30.86568758',\n",
       " '30.96568758',\n",
       " '31.03478588',\n",
       " '31.07600735',\n",
       " '31.09510565',\n",
       " '31.1',\n",
       " '31.1',\n",
       " '31.10489435',\n",
       " '31.12399265',\n",
       " '31.16521412',\n",
       " '31.23431242',\n",
       " '31.33431242',\n",
       " '31.46521412',\n",
       " '31.62399265',\n",
       " '31.80489435',\n",
       " '32',\n",
       " '32.2',\n",
       " '32.39510565',\n",
       " '32.57600735',\n",
       " '32.73478588',\n",
       " '32.86568758',\n",
       " '32.96568758',\n",
       " '33.03478588',\n",
       " '33.07600735',\n",
       " '33.09510565',\n",
       " '33.1',\n",
       " '33.1',\n",
       " '33.10489435',\n",
       " '33.12399265',\n",
       " '33.16521412',\n",
       " '33.23431242',\n",
       " '33.33431242',\n",
       " '33.46521412',\n",
       " '33.62399265',\n",
       " '33.80489435',\n",
       " '34',\n",
       " '34.2',\n",
       " '34.39510565',\n",
       " '34.57600735',\n",
       " '34.73478588',\n",
       " '34.86568758',\n",
       " '34.96568758',\n",
       " '35.03478588',\n",
       " '35.07600735',\n",
       " '35.09510565',\n",
       " '35.1',\n",
       " '35.1',\n",
       " '35.10489435',\n",
       " '35.12399265',\n",
       " '35.16521412',\n",
       " '35.23431242',\n",
       " '35.33431242',\n",
       " '35.46521412',\n",
       " '35.62399265',\n",
       " '35.80489435',\n",
       " '36',\n",
       " '36.2',\n",
       " '36.39510565',\n",
       " '36.57600735',\n",
       " '36.73478588',\n",
       " '36.86568758',\n",
       " '36.96568758',\n",
       " '37.03478588',\n",
       " '37.07600735',\n",
       " '37.09510565',\n",
       " '37.1',\n",
       " '37.1',\n",
       " '37.10489435',\n",
       " '37.12399265',\n",
       " '37.16521412',\n",
       " '37.23431242',\n",
       " '37.33431242',\n",
       " '37.46521412',\n",
       " '37.62399265',\n",
       " '37.80489435',\n",
       " '38',\n",
       " '38.2',\n",
       " '38.39510565',\n",
       " '38.57600735',\n",
       " '38.73478588',\n",
       " '38.86568758',\n",
       " '38.96568758',\n",
       " '39.03478588',\n",
       " '39.07600735',\n",
       " '39.09510565',\n",
       " '39.1',\n",
       " '39.1',\n",
       " '39.10489435',\n",
       " '39.12399265',\n",
       " '39.16521412',\n",
       " '39.23431242',\n",
       " '39.33431242',\n",
       " '39.46521412',\n",
       " '39.62399265',\n",
       " '39.80489435',\n",
       " '40',\n",
       " '40.2',\n",
       " '40.39510565',\n",
       " '40.57600735',\n",
       " '40.73478588',\n",
       " '40.86568758',\n",
       " '40.96568758',\n",
       " '41.03478588',\n",
       " '41.07600735',\n",
       " '41.09510565',\n",
       " '41.1',\n",
       " '41.1',\n",
       " '41.10489435',\n",
       " '41.12399265',\n",
       " '41.16521412',\n",
       " '41.23431242',\n",
       " '41.33431242',\n",
       " '41.46521412',\n",
       " '41.62399265',\n",
       " '41.80489435',\n",
       " '42',\n",
       " '42.2',\n",
       " '42.39510565',\n",
       " '42.57600735',\n",
       " '42.73478588',\n",
       " '42.86568758',\n",
       " '42.96568758',\n",
       " '43.03478588',\n",
       " '43.07600735',\n",
       " '43.09510565',\n",
       " '43.1',\n",
       " '43.1',\n",
       " '43.10489435',\n",
       " '43.12399265',\n",
       " '43.16521412',\n",
       " '43.23431242',\n",
       " '43.33431242',\n",
       " '43.46521412',\n",
       " '43.62399265',\n",
       " '43.80489435',\n",
       " '44',\n",
       " '44.2',\n",
       " '44.39510565',\n",
       " '44.57600735',\n",
       " '44.73478588',\n",
       " '44.86568758',\n",
       " '44.96568758',\n",
       " '45.03478588',\n",
       " '45.07600735',\n",
       " '45.09510565',\n",
       " '45.1',\n",
       " '45.1',\n",
       " '45.10489435',\n",
       " '45.12399265',\n",
       " '45.16521412',\n",
       " '45.23431242',\n",
       " '45.33431242',\n",
       " '45.46521412',\n",
       " '45.62399265',\n",
       " '45.80489435',\n",
       " '46',\n",
       " '46.2',\n",
       " '46.39510565',\n",
       " '46.57600735',\n",
       " '46.73478588',\n",
       " '46.86568758',\n",
       " '46.96568758',\n",
       " '47.03478588',\n",
       " '47.07600735',\n",
       " '47.09510565',\n",
       " '47.1',\n",
       " '47.1',\n",
       " '47.10489435',\n",
       " '47.12399265',\n",
       " '47.16521412',\n",
       " '47.23431242',\n",
       " '47.33431242',\n",
       " '47.46521412',\n",
       " '47.62399265',\n",
       " '47.80489435',\n",
       " '48',\n",
       " '48.2',\n",
       " '48.39510565',\n",
       " '48.57600735',\n",
       " '48.73478588',\n",
       " '48.86568758',\n",
       " '48.96568758',\n",
       " '49.03478588',\n",
       " '49.07600735',\n",
       " '49.09510565',\n",
       " '49.1',\n",
       " '49.1',\n",
       " '49.10489435',\n",
       " '49.12399265',\n",
       " '49.16521412',\n",
       " '49.23431242',\n",
       " '49.33431242',\n",
       " '49.46521412',\n",
       " '49.62399265',\n",
       " '49.80489435',\n",
       " '50',\n",
       " '50.2',\n",
       " '50.39510565',\n",
       " '50.57600735',\n",
       " '50.73478588',\n",
       " '50.86568758',\n",
       " '50.96568758',\n",
       " '51.03478588',\n",
       " '51.07600735',\n",
       " '51.09510565',\n",
       " '51.1',\n",
       " '51.1',\n",
       " '51.10489435',\n",
       " '51.12399265',\n",
       " '51.16521412',\n",
       " '51.23431242',\n",
       " '51.33431242',\n",
       " '51.46521412',\n",
       " '51.62399265',\n",
       " '51.80489435',\n",
       " '52',\n",
       " '52.2',\n",
       " '52.39510565',\n",
       " '52.57600735',\n",
       " '52.73478588',\n",
       " '52.86568758',\n",
       " '52.96568758',\n",
       " '53.03478588',\n",
       " '53.07600735',\n",
       " '53.09510565',\n",
       " '53.1',\n",
       " '53.1',\n",
       " '53.10489435',\n",
       " '53.12399265',\n",
       " '53.16521412',\n",
       " '53.23431242',\n",
       " '53.33431242',\n",
       " '53.46521412',\n",
       " '53.62399265',\n",
       " '53.80489435',\n",
       " '54',\n",
       " '54.2',\n",
       " '54.39510565',\n",
       " '54.57600735',\n",
       " '54.73478588',\n",
       " '54.86568758',\n",
       " '54.96568758',\n",
       " '55.03478588',\n",
       " '55.07600735',\n",
       " '55.09510565',\n",
       " '55.1',\n",
       " '55.1',\n",
       " '55.10489435',\n",
       " '55.12399265',\n",
       " '55.16521412',\n",
       " '55.23431242',\n",
       " '55.33431242',\n",
       " '55.46521412',\n",
       " '55.62399265',\n",
       " '55.80489435',\n",
       " '56',\n",
       " '56.2',\n",
       " '56.39510565',\n",
       " '56.57600735',\n",
       " '56.73478588',\n",
       " '56.86568758',\n",
       " '56.96568758',\n",
       " '57.03478588',\n",
       " '57.07600735',\n",
       " '57.09510565',\n",
       " '57.1',\n",
       " '57.1',\n",
       " '57.10489435',\n",
       " '57.12399265',\n",
       " '57.16521412',\n",
       " '57.23431242',\n",
       " '57.33431242',\n",
       " '57.46521412',\n",
       " '57.62399265',\n",
       " '57.80489435',\n",
       " '58',\n",
       " '58.2',\n",
       " '58.39510565',\n",
       " '58.57600735',\n",
       " '58.73478588',\n",
       " '58.86568758',\n",
       " '58.96568758',\n",
       " '59.03478588',\n",
       " '59.07600735',\n",
       " '59.09510565',\n",
       " '59.1',\n",
       " '59.1',\n",
       " '59.10489435',\n",
       " '59.12399265',\n",
       " '59.16521412',\n",
       " '59.23431242',\n",
       " '59.33431242',\n",
       " '59.46521412',\n",
       " '59.62399265',\n",
       " '59.80489435',\n",
       " '60',\n",
       " '60.2',\n",
       " '60.39510565',\n",
       " '60.57600735',\n",
       " '60.73478588',\n",
       " '60.86568758',\n",
       " '60.96568758',\n",
       " '61.03478588',\n",
       " '61.07600735',\n",
       " '61.09510565',\n",
       " '61.1',\n",
       " '61.1',\n",
       " '61.10489435',\n",
       " '61.12399265',\n",
       " '61.16521412',\n",
       " '61.23431242',\n",
       " '61.33431242',\n",
       " '61.46521412',\n",
       " '61.62399265',\n",
       " '61.80489435',\n",
       " '62',\n",
       " '62.2',\n",
       " '62.39510565',\n",
       " '62.57600735',\n",
       " '62.73478588',\n",
       " '62.86568758',\n",
       " '62.96568758',\n",
       " '63.03478588',\n",
       " '63.07600735',\n",
       " '63.09510565',\n",
       " '63.1',\n",
       " '63.1',\n",
       " '63.10489435',\n",
       " '63.12399265',\n",
       " '63.16521412',\n",
       " '63.23431242',\n",
       " '63.33431242',\n",
       " '63.46521412',\n",
       " '63.62399265',\n",
       " '63.80489435',\n",
       " '64',\n",
       " '64.2',\n",
       " '64.39510565',\n",
       " '64.57600735',\n",
       " '64.73478588',\n",
       " '64.86568758',\n",
       " '64.96568758',\n",
       " '65.03478588',\n",
       " '65.07600735',\n",
       " '65.09510565',\n",
       " '65.1',\n",
       " '65.1',\n",
       " '65.10489435',\n",
       " '65.12399265',\n",
       " '65.16521412',\n",
       " '65.23431242',\n",
       " '65.33431242',\n",
       " '65.46521412',\n",
       " '65.62399265',\n",
       " '65.80489435',\n",
       " '66',\n",
       " '66.2',\n",
       " '66.39510565',\n",
       " '66.57600735',\n",
       " '66.73478588',\n",
       " '66.86568758',\n",
       " '66.96568758',\n",
       " '67.03478588',\n",
       " '67.07600735',\n",
       " '67.09510565',\n",
       " '67.1',\n",
       " '67.1',\n",
       " '67.10489435',\n",
       " '67.12399265',\n",
       " '67.16521412',\n",
       " '67.23431242',\n",
       " '67.33431242',\n",
       " '67.46521412',\n",
       " '67.62399265',\n",
       " '67.80489435',\n",
       " '68',\n",
       " '68.2',\n",
       " '68.39510565',\n",
       " '68.57600735',\n",
       " '68.73478588',\n",
       " '68.86568758',\n",
       " '68.96568758',\n",
       " '69.03478588',\n",
       " '69.07600735',\n",
       " '69.09510565',\n",
       " '69.1',\n",
       " '69.1',\n",
       " '69.10489435',\n",
       " '69.12399265',\n",
       " '69.16521412',\n",
       " '69.23431242',\n",
       " '69.33431242',\n",
       " '69.46521412',\n",
       " '69.62399265',\n",
       " '69.80489435',\n",
       " '70',\n",
       " '70.2',\n",
       " '70.39510565',\n",
       " '70.57600735',\n",
       " '70.73478588',\n",
       " '70.86568758',\n",
       " '70.96568758',\n",
       " '71.03478588',\n",
       " '71.07600735',\n",
       " '71.09510565',\n",
       " '71.1',\n",
       " '71.1',\n",
       " '71.10489435',\n",
       " '71.12399265',\n",
       " '71.16521412',\n",
       " '71.23431242',\n",
       " '71.33431242',\n",
       " '71.46521412',\n",
       " '71.62399265',\n",
       " '71.80489435',\n",
       " '72',\n",
       " '72.2',\n",
       " '72.39510565',\n",
       " '72.57600735',\n",
       " '72.73478588',\n",
       " '72.86568758',\n",
       " '72.96568758',\n",
       " '73.03478588',\n",
       " '73.07600735',\n",
       " '73.09510565',\n",
       " '73.1',\n",
       " '73.1',\n",
       " '73.10489435',\n",
       " '73.12399265',\n",
       " '73.16521412',\n",
       " '73.23431242',\n",
       " '73.33431242',\n",
       " '73.46521412',\n",
       " '73.62399265',\n",
       " '73.80489435',\n",
       " '74',\n",
       " '74.2',\n",
       " '74.39510565',\n",
       " '74.57600735',\n",
       " '74.73478588',\n",
       " '74.86568758',\n",
       " '74.96568758',\n",
       " '75.03478588',\n",
       " '75.07600735',\n",
       " '75.09510565',\n",
       " '75.1',\n",
       " '75.1',\n",
       " '75.10489435',\n",
       " '75.12399265',\n",
       " '75.16521412',\n",
       " '75.23431242',\n",
       " '75.33431242',\n",
       " '75.46521412',\n",
       " '75.62399265',\n",
       " '75.80489435',\n",
       " '76',\n",
       " '76.2',\n",
       " '76.39510565',\n",
       " '76.57600735',\n",
       " '76.73478588',\n",
       " '76.86568758',\n",
       " '76.96568758',\n",
       " '77.03478588',\n",
       " '77.07600735',\n",
       " '77.09510565',\n",
       " '77.1',\n",
       " '77.1',\n",
       " '77.10489435',\n",
       " '77.12399265',\n",
       " '77.16521412',\n",
       " '77.23431242',\n",
       " '77.33431242',\n",
       " '77.46521412',\n",
       " '77.62399265',\n",
       " '77.80489435',\n",
       " '78',\n",
       " '78.2',\n",
       " '78.39510565',\n",
       " '78.57600735',\n",
       " '78.73478588',\n",
       " '78.86568758',\n",
       " '78.96568758',\n",
       " '79.03478588',\n",
       " '79.07600735',\n",
       " '79.09510565',\n",
       " '79.1',\n",
       " '79.1',\n",
       " '79.10489435',\n",
       " '79.12399265',\n",
       " '79.16521412',\n",
       " '79.23431242',\n",
       " '79.33431242',\n",
       " '79.46521412',\n",
       " '79.62399265',\n",
       " '79.80489435',\n",
       " '80',\n",
       " '80.2',\n",
       " '80.39510565',\n",
       " '80.57600735',\n",
       " '80.73478588',\n",
       " '80.86568758',\n",
       " '80.96568758',\n",
       " '81.03478588',\n",
       " '81.07600735',\n",
       " '81.09510565',\n",
       " '81.1',\n",
       " '81.1',\n",
       " '81.10489435',\n",
       " '81.12399265',\n",
       " '81.16521412',\n",
       " '81.23431242',\n",
       " '81.33431242',\n",
       " '81.46521412',\n",
       " '81.62399265',\n",
       " '81.80489435',\n",
       " '82',\n",
       " '82.2',\n",
       " '82.39510565',\n",
       " '82.57600735',\n",
       " '82.73478588',\n",
       " '82.86568758',\n",
       " '82.96568758',\n",
       " '83.03478588',\n",
       " '83.07600735',\n",
       " '83.09510565',\n",
       " '83.1',\n",
       " '83.1',\n",
       " '83.10489435',\n",
       " '83.12399265',\n",
       " '83.16521412',\n",
       " '83.23431242',\n",
       " '83.33431242',\n",
       " '83.46521412',\n",
       " '83.62399265',\n",
       " '83.80489435',\n",
       " '84',\n",
       " '84.2',\n",
       " '84.39510565',\n",
       " '84.57600735',\n",
       " '84.73478588',\n",
       " '84.86568758',\n",
       " '84.96568758',\n",
       " '85.03478588',\n",
       " '85.07600735',\n",
       " '85.09510565',\n",
       " '85.1',\n",
       " '85.1',\n",
       " '85.10489435',\n",
       " '85.12399265',\n",
       " '85.16521412',\n",
       " '85.23431242',\n",
       " '85.33431242',\n",
       " '85.46521412',\n",
       " '85.62399265',\n",
       " '85.80489435',\n",
       " '86',\n",
       " '86.2',\n",
       " '86.39510565',\n",
       " '86.57600735',\n",
       " '86.73478588',\n",
       " '86.86568758',\n",
       " '86.96568758',\n",
       " '87.03478588',\n",
       " '87.07600735',\n",
       " '87.09510565',\n",
       " '87.1',\n",
       " '87.1',\n",
       " '87.10489435',\n",
       " '87.12399265',\n",
       " '87.16521412',\n",
       " '87.23431242',\n",
       " '87.33431242',\n",
       " '87.46521412',\n",
       " '87.62399265',\n",
       " '87.80489435',\n",
       " '88',\n",
       " '88.2',\n",
       " '88.39510565',\n",
       " '88.57600735',\n",
       " '88.73478588',\n",
       " '88.86568758',\n",
       " '88.96568758',\n",
       " '89.03478588',\n",
       " '89.07600735',\n",
       " '89.09510565',\n",
       " '89.1',\n",
       " '89.1',\n",
       " '89.10489435',\n",
       " '89.12399265',\n",
       " '89.16521412',\n",
       " '89.23431242',\n",
       " '89.33431242',\n",
       " '89.46521412',\n",
       " '89.62399265',\n",
       " '89.80489435',\n",
       " '90',\n",
       " '90.2',\n",
       " '90.39510565',\n",
       " '90.57600735',\n",
       " '90.73478588',\n",
       " '90.86568758',\n",
       " '90.96568758',\n",
       " '91.03478588',\n",
       " '91.07600735',\n",
       " '91.09510565',\n",
       " '91.1',\n",
       " '91.1',\n",
       " '91.10489435',\n",
       " '91.12399265',\n",
       " '91.16521412',\n",
       " '91.23431242',\n",
       " '91.33431242',\n",
       " '91.46521412',\n",
       " '91.62399265',\n",
       " '91.80489435',\n",
       " '92',\n",
       " '92.2',\n",
       " '92.39510565',\n",
       " '92.57600735',\n",
       " '92.73478588',\n",
       " '92.86568758',\n",
       " '92.96568758',\n",
       " '93.03478588',\n",
       " '93.07600735',\n",
       " '93.09510565',\n",
       " '93.1',\n",
       " '93.1',\n",
       " '93.10489435',\n",
       " '93.12399265',\n",
       " '93.16521412',\n",
       " '93.23431242',\n",
       " '93.33431242',\n",
       " '93.46521412',\n",
       " '93.62399265',\n",
       " '93.80489435',\n",
       " '94',\n",
       " ...]"
      ]
     },
     "execution_count": 143,
     "metadata": {},
     "output_type": "execute_result"
    }
   ],
   "source": [
    "autonummerlist, tijdlist, snelheidlist = get_data()\n",
    "plot_data(snelheidlist, tijdlist)"
   ]
  },
  {
   "cell_type": "markdown",
   "metadata": {
    "deletable": false,
    "editable": false
   },
   "source": [
    "### Tests\n",
    "| **Test** | **Betekenis** |\n",
    "|---:|:---|\n",
    "| `test_min_1` | De minimale waarde van de berekende snelheden klopt voor voertuig 1 |\n",
    "| `test_max_1` | De maximale waarde van de berekende snelheden klopt voor voertuig 1 |\n",
    "| `test_min_1` | De minimale waarde van de berekende snelheden klopt voor voertuig 2 |\n",
    "| `test_max_1` | De maximale waarde van de berekende snelheden klopt voor voertuig 2 |"
   ]
  },
  {
   "cell_type": "code",
   "execution_count": 144,
   "metadata": {
    "deletable": false,
    "editable": false
   },
   "outputs": [
    {
     "name": "stderr",
     "output_type": "stream",
     "text": [
      "test_max_1 (ac_tests.test_verkeer_snelheden.<locals>.TestVerkeerSnelheden) ... ERROR\n",
      "test_max_2 (ac_tests.test_verkeer_snelheden.<locals>.TestVerkeerSnelheden) ... ERROR\n",
      "test_min_1 (ac_tests.test_verkeer_snelheden.<locals>.TestVerkeerSnelheden) ... ERROR\n",
      "test_min_2 (ac_tests.test_verkeer_snelheden.<locals>.TestVerkeerSnelheden) ... ERROR\n",
      "\n",
      "======================================================================\n",
      "ERROR: test_max_1 (ac_tests.test_verkeer_snelheden.<locals>.TestVerkeerSnelheden)\n",
      "----------------------------------------------------------------------\n",
      "Traceback (most recent call last):\n",
      "  File \"C:\\Users\\ruben\\v1ac\\ac_tests.py\", line 347, in test_max_1\n",
      "    np.testing.assert_almost_equal(max(car1_speed), 6.35)\n",
      "TypeError: 'NoneType' object is not iterable\n",
      "\n",
      "======================================================================\n",
      "ERROR: test_max_2 (ac_tests.test_verkeer_snelheden.<locals>.TestVerkeerSnelheden)\n",
      "----------------------------------------------------------------------\n",
      "Traceback (most recent call last):\n",
      "  File \"C:\\Users\\ruben\\v1ac\\ac_tests.py\", line 353, in test_max_2\n",
      "    np.testing.assert_almost_equal(max(car2_speed), 2)\n",
      "TypeError: 'NoneType' object is not iterable\n",
      "\n",
      "======================================================================\n",
      "ERROR: test_min_1 (ac_tests.test_verkeer_snelheden.<locals>.TestVerkeerSnelheden)\n",
      "----------------------------------------------------------------------\n",
      "Traceback (most recent call last):\n",
      "  File \"C:\\Users\\ruben\\v1ac\\ac_tests.py\", line 344, in test_min_1\n",
      "    np.testing.assert_almost_equal(min(car1_speed), 1.27)\n",
      "TypeError: 'NoneType' object is not iterable\n",
      "\n",
      "======================================================================\n",
      "ERROR: test_min_2 (ac_tests.test_verkeer_snelheden.<locals>.TestVerkeerSnelheden)\n",
      "----------------------------------------------------------------------\n",
      "Traceback (most recent call last):\n",
      "  File \"C:\\Users\\ruben\\v1ac\\ac_tests.py\", line 350, in test_min_2\n",
      "    np.testing.assert_almost_equal(min(car2_speed), 0)\n",
      "TypeError: 'NoneType' object is not iterable\n",
      "\n",
      "----------------------------------------------------------------------\n",
      "Ran 4 tests in 0.006s\n",
      "\n",
      "FAILED (errors=4)\n"
     ]
    }
   ],
   "source": [
    "test_verkeer_snelheden(get_data, bereken_deltas)"
   ]
  },
  {
   "cell_type": "markdown",
   "metadata": {
    "deletable": false,
    "editable": false
   },
   "source": [
    "## Opdracht 23\n",
    "Nu gaan we algebra gebruiken om afgeleides symbolisch te kunnen vinden. Voor veel wiskundige functies zijn er regels hoe je hier de afgeleide ervan kan vinden, die je kunt achterhalen met een beetje algebra en de definitief van een afgeleide als een limiet. Hierdoor hoeven we, als we de formule weten, niet voor ieder punt waar we de slope willen vinden de berekening opnieuw te doen. We berekenen een functie (die we ook de afgeleide noemen) die we vervolgens kunnen gebruiken om de afgeleide te vinden. De afgeleide van $x^2$ op het punt $x=3$ hebben we bijvoorbeeld tot nu toe zo berekend: \n",
    "\n",
    "$$\\begin{align}\n",
    "\\frac{d}{dx}\\  x^2 \\text{ op } (x = 3) & = \n",
    "\\lim_{\\delta \\to 0}\\quad \\frac{(3+\\delta)^2 - 3^2}{\\delta}\n",
    "\\\\[3mm] & = \n",
    "\\lim_{\\delta \\to 0}\\quad \\frac{9 + 6\\delta + \\delta^2 - 9}{\\delta}\n",
    "\\\\[3mm] & = \n",
    "\\lim_{\\delta \\to 0}\\quad \\frac{6\\delta + \\delta^2}{\\delta}\n",
    "\\\\[3mm] & = \n",
    "\\lim_{\\delta \\to 0}\\quad 6 + \\delta\n",
    "\\\\[3mm] & = \n",
    "6\n",
    "\\end{align}\n",
    "$$ \n",
    "\n",
    "Als we de afgeleide nu ook voor $x=4$ willen weten moeten we de hele berekening over doen. Beter kunnen we de berekening één keer voor een algemen $x$ doen en dit zo ver mogelijk versimpelen om een formule voor de afgeleide functie te vinden.\n",
    "\n",
    "$$\\begin{align}\n",
    "\\frac{d}{dx}\\  x^2 & = \n",
    "\\lim_{\\delta \\to 0}\\quad \\frac{(x+\\delta)^2 - x^2}{\\delta}\n",
    "\\\\[3mm] & = \n",
    "\\lim_{\\delta \\to 0}\\quad \\frac{x^2 + 2x\\delta + \\delta^2 - x^2}{\\delta}\n",
    "\\\\[3mm] & = \n",
    "\\lim_{\\delta \\to 0}\\quad \\frac{2x\\delta + \\delta^2}{\\delta}\n",
    "\\\\[3mm] & = \n",
    "\\lim_{\\delta \\to 0}\\quad 2x + \\delta\n",
    "\\\\[3mm] & = \n",
    "2x\n",
    "\\end{align}\n",
    "$$ \n",
    "\n",
    "Voor een functie $f(x)$ noemen we deze formule voor de afgeleide $f^\\prime(x)$ (zeg: f-prime). Voor $f(x) = x^2$ hebben we hierboven berekend dat $f^\\prime(x) = 2x$. Als we nu de afgeleide van $f(x)$ op $x=3$ willen weten kunnen we die invullen en krijgen we $f^\\prime(3) = 2x = 6$. Eenzelfde soort formule is ook te verzinnen voor $f(x)=x^3$, $f(x)=x^4$, etc., en natuurlijk $x^1$ (oftewel $x$) en $x^0$ oftewel $1$. We kunnen deze regels combineren om polynomen (wiskundige functies van de vorm $x^2 -2x + 3$ te differentiëren. In dit voorbeeld staat $3$ voor het aantal $1$-tallen, oftewel het aantal $x^0$-tallen. \n",
    "\n",
    "Schrijf een functie `get_derivative` die de afgeleide van een polynoom teruggeeft. Een polynoom wordt weergegeven met een `dict` waarbij de keys de exponenten zijn en de values hoe vaak dit exponent in de polynoom voorkomt. De dictionary `{2: 3, 1: 0, 0: 4}` staat bijvoorbeeld voor de polynoom $3x^2 + 0x + 4x^0$ oftewel $3x^2 + 4$. Als een term niet voorkomt, zoals $x$ in het voorbeeld kan deze de waare $0$ hebben, of helemaal niet in de dictionary voorkomen.\n",
    "\n",
    "De dictionary wordt samen met twee strings en een integer `primes` doorgegeven, waar je verder niet zo veel mee hoeft. De variabele `primes` begint bij een polynoom op $0$, en wordt met $1$ opgehoogd iedere keer dat de `get_derivative()` functie is aangeroepen.\n",
    "\n",
    "Je kan een polynoom leesbaar weergeven met de functie `latex_polynomial()`."
   ]
  },
  {
   "cell_type": "code",
   "execution_count": 145,
   "metadata": {},
   "outputs": [],
   "source": [
    "def get_derivative(poly: Polynomial) -> Polynomial: # TODO\n",
    "    \"\"\"Bereken de derivative van een simpele polynoom. De argumenten komen binnen via een tuple.\n",
    "       `label`, `var` en `primes` zijn bedoeld voor het printen van de polynoom, en niet van \n",
    "       belang voor de opdracht. Alleen `primes` moet bij differentiëren met 1 worden opgehoogd.\n",
    "       Doel van de opdracht is vooral het aanpassen van `terms`.\n",
    "    \n",
    "    Args:\n",
    "        terms (int): Een dictionary met alle coëfficienten.  (Nodig)\n",
    "        label (str): De naam van de functie, bijvoorbeeld f. (Niet Nodig)\n",
    "        var (str): De variabele van de functie, bijvoorbeeld x. (Niet Nodig)\n",
    "        primes (int): Het aantal keer dat de functie gedifferentieerd is; begint op 0\n",
    "                      en wordt elke keer met 1 opgehoogd. (Kan Nodig)\n",
    "\n",
    "    Returns:\n",
    "        Polynomial: (terms_derivative, label, var, primes).\"\"\"\n",
    "    derivative = {}\n",
    "    terms, label, var, primes = poly\n",
    "    for y, a in terms.items():\n",
    "        nieuwe_macht = y - 1\n",
    "        nieuwe_coefficient = a * y\n",
    "        \n",
    "        derivative[nieuwe_macht] = nieuwe_coefficient\n",
    "        \n",
    "    \n",
    "    # TODO\n",
    "    return (derivative, label, var, primes + 1)"
   ]
  },
  {
   "cell_type": "markdown",
   "metadata": {
    "deletable": false,
    "editable": false
   },
   "source": [
    "### Tests\n",
    "Het blok hieronder bevat een aantal polynomen waarmee je je code kan testen, en die ook voor de uiteindelijke tests worden gebruikt. Voel je vrij zelf functies toe te voegen!\n",
    "\n",
    "We gaan er met het testen vanuit dat je functie ook zal werken voor breuken van de vorm $\\frac{1}{x^n}$ en wortels. Een breuk $\\frac{1}{x^3}$ komt namelijk overeen met de term $x^{-3}$, waarvoor hetzelfde patroon als voro bijvoobeeld $x^2$ geldt. Een wortel $\\sqrt x$ is te schrijven als $x^{\\frac{1}{2}}$ en $\\sqrt[3] x$ is $x^\\frac{1}{3}$, etc., en ook hier kunnen we hetzelfde patroon gebruiken als voor normale machten.\n",
    "\n",
    "| **Test** | **Betekenis** |\n",
    "|---:|:---|\n",
    "| `test_squared` | Zoekt de afgeleide van `x_squared` ($x^2$) |\n",
    "| `test_recip` | Zoekt de afgeleide van `test_recip` ($\\frac{1}{x}$) |\n",
    "| `test_root` | Zoekt de afgeleide van `x_root` ($\\sqrt x$) |\n",
    "| `test_primes` | Checkt of de variabele `primes` opgehoogd is |"
   ]
  },
  {
   "cell_type": "code",
   "execution_count": 146,
   "metadata": {
    "deletable": false,
    "editable": false
   },
   "outputs": [
    {
     "name": "stderr",
     "output_type": "stream",
     "text": [
      "test_primes (ac_tests.test_polynomial_derivative.<locals>.TestNumericDerivative) ... ok\n",
      "test_recip (ac_tests.test_polynomial_derivative.<locals>.TestNumericDerivative) ... ok\n",
      "test_root (ac_tests.test_polynomial_derivative.<locals>.TestNumericDerivative) ... ok\n",
      "test_squared (ac_tests.test_polynomial_derivative.<locals>.TestNumericDerivative) ... ok\n",
      "\n",
      "----------------------------------------------------------------------\n",
      "Ran 4 tests in 0.005s\n",
      "\n",
      "OK\n"
     ]
    }
   ],
   "source": [
    "x_squared = polynomial({1: 0, 2: 1})\n",
    "x_recip = polynomial({1: 0, -1: 1})\n",
    "x_root = polynomial({1/2: 1})\n",
    "\n",
    "test_polynomial_derivative(get_derivative)"
   ]
  },
  {
   "cell_type": "markdown",
   "metadata": {
    "deletable": false,
    "editable": false
   },
   "source": [
    "## Opdracht 24\n",
    "Differentieren van polynomen kan ook eenvoudig in termen van lineaire algebra. Je kunt een vector $\\begin{bmatrix}1\\\\2\\\\3\\end{bmatrix}$ zien als een weergave van de polynoom $1 + 2x + 3x^2$. Daarbij is het ook mogelijk om een matrix te vinden die de derivative berekent. Bijvoorbeeld:\n",
    "\n",
    "$$\\vec{p} = \\begin{bmatrix} 1\\\\ 2\\\\ \\end{bmatrix} \\qquad \\mathbf{D_2} = \\begin{bmatrix} 0 & 1\\\\ 0 & 0\\\\ \\end{bmatrix} \\qquad \\mathbf{D_2}\\cdot \\vec{p} = \\begin{bmatrix} 2\\\\ 0\\\\ \\end{bmatrix}$$\n",
    "\n",
    "$$p(x) = 2x + 1\\qquad\\qquad\\qquad\\qquad p^\\prime(x) = 2$$\n",
    "\n",
    "Deze matrix volgt een speciaal patroon: de getallen gaan van links naar rechts (en boven naar beneden) van groot naar klein. De eerste kolom/rij gaat over $1$-tallen, dan $x$-tallen, dan $x^2$-tallen, etc., waarbij de kolom waarin een getal staat vertelt welke termen in het in het orgineel met de factor vermenigvuldigt moeten worden, om de termen in de afgeleide te vinden waar de rij voor staat.\n",
    "\n",
    "De $1$ rechtsbovenin vertelt dat het $x$-tal van het origineel (want: 2e kolom) vermenigvuldigt wordt met met $1$, en dat het resultaat het $1$-tal van de afgeleide is (want: 1e rij). Verder staan er overal nullen, dus de andere factoren worden niet meegenomen. Bedenk hoe een grotere matrix eruit moet zien, voor grotere polynomen.\n",
    "\n",
    "Teken in het gele vlak hieronder de afgeleide-matrices voor een 3, 4 en 5-dimensionale vectoren, dus voor polynomen van de vormen $ax^2+bx+c$ tot $ax^4+bx^3+cx^2+dx+e$. Schrijf daarna een functie die deze, gegeven een vector, de juiste matrix opbouwt en deze vermenigvuldigt met de vector; het resultaat is daarmee de afgeleide van de input, in vector vorm."
   ]
  },
  {
   "cell_type": "markdown",
   "metadata": {},
   "source": [
    "<div style=\"background:#fffff0;\">\n",
    "\n",
    "$\\mathbf{D_3} = der\\begin{bmatrix}   c\\\\   b\\\\   a\\\\ \\end{bmatrix} -> der(ax^2 + bx + c) -> \\begin{bmatrix}   2 & 0 & 0\\\\   0 & 1 & 0\\\\ 0 & 0 & 0\\\\ \\end{bmatrix} * \\begin{bmatrix}   a\\\\   b\\\\   c\\\\ \\end{bmatrix} = 2ax + b$\n",
    "\n",
    "$\\mathbf{D_4} = der\\begin{bmatrix}   d\\\\ c\\\\   b\\\\   a\\\\ \\end{bmatrix} -> der(ax^3 + bx^2 + cx + d) -> \\begin{bmatrix}   3 & 0 & 0 & 0\\\\   0 & 2 & 0 & 0\\\\ 0 & 0 & 1 & 0\\\\ 0 & 0 & 0 & 0\\\\ \\end{bmatrix} * \\begin{bmatrix}   a\\\\   b\\\\   c\\\\ d\\\\ \\end{bmatrix} = 3ax^2 + 2bx + c$\n",
    "\n",
    "    \n",
    "$\\mathbf{D_5} = der\\begin{bmatrix}   e\\\\ d\\\\ c\\\\   b\\\\   a\\\\ \\end{bmatrix} ->der(ax^4 + bx^3 + cx^2 + dx + e) -> \\begin{bmatrix}   4 & 0 & 0 & 0 & 0\\\\   0 & 3 & 0 & 0 & 0\\\\ 0 & 0 & 2 & 0 & 0\\\\ 0 & 0 & 0 & 1 & 0 \\\\ 0 & 0 & 0 & 0 & 0 \\\\  \\end{bmatrix} * \\begin{bmatrix}   a\\\\   b\\\\   c\\\\ d\\\\ e\\\\ \\end{bmatrix} = 4ax^3 + 2bx^2 + 2cx + d$ \n",
    "\n",
    "</div>"
   ]
  },
  {
   "cell_type": "code",
   "execution_count": 147,
   "metadata": {},
   "outputs": [],
   "source": [
    "import numpy\n",
    "def deriv_matrix(polynomial: np.ndarray) -> np.ndarray: # TODO\n",
    "    deterivative = []\n",
    "    matrix = []\n",
    "    aantalattributen = 0   \n",
    "    polynoomlist = polynomial.tolist()\n",
    "    deterativegetallen = []\n",
    "    index = 0\n",
    "    \n",
    "    for x in polynomial:\n",
    "        a = x * index\n",
    "        deterativegetallen.append(a)\n",
    "        index += 1\n",
    "    deterativegetallen.reverse()\n",
    "    for x in polynomial: #matrix opbouw\n",
    "        aantalattributen += 1\n",
    "    for kolomopbouw in range(aantalattributen):\n",
    "        rij = []\n",
    "        for rijopbouw in range(aantalattributen):\n",
    "            rij.append(0)\n",
    "        numpy_rij = numpy.array(rij)\n",
    "        numpy_rij[kolomopbouw] = deterativegetallen[kolomopbouw]\n",
    "        matrix.append(numpy_rij)\n",
    "    print(matrix)\n",
    "     \n",
    "    index = 0\n",
    "    for i in polynomial[::-1]:\n",
    "        matrixnummer = matrix[len(polynomial)-polynomial[i-1]][len(polynomial)-polynomial[i-1]]\n",
    "        if index == 0:\n",
    "            temp0matrix = matrixnummer\n",
    "            index += 1\n",
    "        elif index == 1:\n",
    "            deterivative.append(matrixnummer)\n",
    "            index += 1\n",
    "        else:\n",
    "            temp2matrix = matrixnummer\n",
    "            deterivative.append(temp0matrix)\n",
    "\n",
    "    deterivative.append(temp2matrix)\n",
    "\n",
    "    \n",
    "    return numpy.array(deterivative)\n",
    "    pass"
   ]
  },
  {
   "cell_type": "markdown",
   "metadata": {
    "deletable": false,
    "editable": false
   },
   "source": [
    "### Tests\n",
    "Voor deze functie is er een enkele test, die voor $3x^2 + x + 2$ de matrix test."
   ]
  },
  {
   "cell_type": "code",
   "execution_count": 148,
   "metadata": {
    "deletable": false,
    "editable": false
   },
   "outputs": [
    {
     "name": "stderr",
     "output_type": "stream",
     "text": [
      "test_derivative (ac_tests.test_matrix_derivative.<locals>.TestMatrixDerivative) ... "
     ]
    },
    {
     "name": "stdout",
     "output_type": "stream",
     "text": [
      "[array([6, 0, 0]), array([0, 1, 0]), array([0, 0, 0])]\n"
     ]
    },
    {
     "name": "stderr",
     "output_type": "stream",
     "text": [
      "ok\n",
      "\n",
      "----------------------------------------------------------------------\n",
      "Ran 1 test in 0.002s\n",
      "\n",
      "OK\n"
     ]
    }
   ],
   "source": [
    "test_matrix_derivative(deriv_matrix, matrix_product)"
   ]
  },
  {
   "cell_type": "markdown",
   "metadata": {
    "deletable": false,
    "editable": false
   },
   "source": [
    "## Opdracht 25 <a id=\"opdr25\"></a>\n",
    "Nu gaan we echt serieus aan de gang met symbolisch differentiëren. We gaan dit doen op basis van code die ons in staat stelt om wiskundige formules symbolisch weer te geven en te manipuleren. Hiervoor wordt gebruikt gemaakt van Object Oriented Programming. Dit gaat in Python net weer even anders dan in normale OOP-programmeertalen, maar als het goed is heb je hier weinig last van. We gaan vooral per class een methode `deriv()` invullen, waarbij we gebruik kunnen maken van variabelen die in het object zijn opgeslagen. De Python manier hiervoor is `self.variabele` te gebruiken, of `self.functie()` om een methode binnen het object aan te roepen. \n",
    "\n",
    "Voor nu gaan we bezig met de volgende objecten:\n",
    "\n",
    "- `Constant(3)` maakt een constante\n",
    "- `Variable(x)` maakt een variabele\n",
    "- `Sum(left, right)` maakt een som, dus `Sum(Variable(x), Constant(1)` staat voor $x+1$\n",
    "- `Product(left, right)` maakt een product\n",
    "- `Power(base, exponent)`, `Power(Variable(x), 3)` staat voor $x^3$. Hier is geen `Constant` nodig, power werkt alleen met getallen in het exponent.\n",
    "\n",
    "In ieder object is een aantal variabelen beschikbaar, dit wordt per class in de docstring gedocumenteerd. Vergeet niet `self` te gebruiken, dus `self.left` om bijvoorbeeld linkerkant van een product te krijgen. Ook kan je de methodes `deriv()` op subobjecten aanroepen (recursie!) en de functie `simplify()` gebruiken. Deze functie is al geschreven voor ieder object, en probeert de constructie zo simpel mogelijk te houden, bijvoorbeeld door $1 \\times 1$ te vervangen door $1$ en $x \\times x$ door $x^2$. Het is verstandig na `deriv()` `.simplify()` aan te roepen. \n",
    "\n",
    "Negeer verder  de hele `def __init__(...)` handel, dit is helaas nodig omdat Python niet zo mooi objectgeorrienteerd is als Java/C#/C++, maar hier hoeven jullie niets mee. Deze 2 regels code per object zorgen ervoor dat alle andere code die in het object zit hier niet de boel ononverzichtelijk maken. Als je wilt weten hoe de objecten verder opgebouwd zijn kun je in het bestand `ac_formula.py` (ca 500 regels code) kijken.\n",
    "\n",
    "## De opdracht\n",
    "Vul de `deriv` functies in voor onderstaande functies. Voor `Constant` en `Sum` zijn deze al voorgedaan.\n",
    "Je hoeft voor nu nog geen rekening te houden met de power rule bij de exponenten."
   ]
  },
  {
   "cell_type": "code",
   "execution_count": 149,
   "metadata": {},
   "outputs": [],
   "source": [
    "class Constant(ac_formula.Constant):\n",
    "    def __init__(self, *args, **kwargs):\n",
    "        super().__init__(*args, **kwargs)\n",
    "\n",
    "    def deriv(self): # VOORBEELD\n",
    "        return Constant(0)\n",
    "\n",
    "class Variable(ac_formula.Variable):\n",
    "    def __init__(self, *args, **kwargs):\n",
    "        super().__init__(*args, **kwargs)\n",
    "\n",
    "    def deriv(self): # TODO\n",
    "        return Constant(1)\n",
    "\n",
    "class Sum(ac_formula.Sum):\n",
    "    def __init__(self, *args, **kwargs):\n",
    "        super().__init__(*args, **kwargs)\n",
    "\n",
    "    def deriv(self): # VOORBEELD\n",
    "        \"\"\" Beschikbare instance-variablen:\n",
    "            - left (subformule)\n",
    "            - right (subformule)\n",
    "            \"\"\"\n",
    "#         print(self)\n",
    "        return Sum(self.left.deriv(), self.right.deriv()).simplify()\n",
    "        pass\n",
    "\n",
    "class Product(ac_formula.Product):\n",
    "    def __init__(self, *args, **kwargs):\n",
    "        super().__init__(*args, **kwargs)\n",
    "\n",
    "    def deriv(self): # TODO\n",
    "        return Sum(Product(self.left.deriv(), self.right), Product(self.left, self.right.deriv()))\n",
    "        pass\n",
    "    \n",
    "class Power(ac_formula.Power):\n",
    "    def __init__(self, *args, **kwargs):\n",
    "        super().__init__(*args, **kwargs)\n",
    "\n",
    "    def deriv(self): # TODO\n",
    "        \"\"\" Beschikbare instance-variablen:\n",
    "            - base (subformule)\n",
    "            - exponent (getal)\n",
    "            \"\"\"\n",
    "        print(Product(Constant(self.exponent), Power(self.base, self.exponent -1)))\n",
    "        return Product(Constant(self.exponent), Power(self.base, self.exponent -1))\n",
    "        pass"
   ]
  },
  {
   "cell_type": "markdown",
   "metadata": {
    "deletable": false,
    "editable": false
   },
   "source": [
    "### Tests\n",
    "| **Test** | **Betekenis** |\n",
    "|---:|:---|\n",
    "| `test_variable` | Zoekt de afgeleide van $x$, test `Variable` |\n",
    "| `test_product` | Zoekt de afgeleide van $x_1 \\cdot x_2$, test `Product` |\n",
    "| `test_recip_x` | Zoekt de afgeleide van $x^{-1}$, test `Power` |\n",
    "| `test_2x_plus_3` | Zoekt de afgeleide van $2x+3$, combineert alles |"
   ]
  },
  {
   "cell_type": "code",
   "execution_count": 150,
   "metadata": {
    "deletable": false,
    "editable": false
   },
   "outputs": [
    {
     "name": "stderr",
     "output_type": "stream",
     "text": [
      "test_2x_plus_3 (ac_tests.test_symbolic_differentiation_alfa.<locals>.TestSymbolicDifferentiationAlfa) ... ok\n",
      "test_product (ac_tests.test_symbolic_differentiation_alfa.<locals>.TestSymbolicDifferentiationAlfa) ... ok\n",
      "test_recip_x (ac_tests.test_symbolic_differentiation_alfa.<locals>.TestSymbolicDifferentiationAlfa) ... FAIL\n",
      "test_variable (ac_tests.test_symbolic_differentiation_alfa.<locals>.TestSymbolicDifferentiationAlfa) ... "
     ]
    },
    {
     "name": "stdout",
     "output_type": "stream",
     "text": [
      "Product(left=Constant(value=1),right=Power(base=Variable(label='x'),exponent=0))\n",
      "Product(left=Negative(inverse=Constant(value=1)),right=Power(base=Variable(label='x'),exponent=-2))\n"
     ]
    },
    {
     "name": "stderr",
     "output_type": "stream",
     "text": [
      "ok\n",
      "\n",
      "======================================================================\n",
      "FAIL: test_recip_x (ac_tests.test_symbolic_differentiation_alfa.<locals>.TestSymbolicDifferentiationAlfa)\n",
      "----------------------------------------------------------------------\n",
      "Traceback (most recent call last):\n",
      "  File \"C:\\Users\\ruben\\v1ac\\ac_tests.py\", line 400, in test_recip_x\n",
      "    np.testing.assert_equal(form.deriv(), deriv)\n",
      "  File \"d:\\users\\ruben\\appdata\\local\\programs\\python\\python37\\lib\\site-packages\\numpy\\testing\\_private\\utils.py\", line 428, in assert_equal\n",
      "    raise AssertionError(msg)\n",
      "AssertionError: \n",
      "Items are not equal:\n",
      " ACTUAL: <ac_formula.Function object at 0x00000293F5084B08>\n",
      " DESIRED: <ac_formula.Function object at 0x00000293F5084048>\n",
      "\n",
      "----------------------------------------------------------------------\n",
      "Ran 4 tests in 0.006s\n",
      "\n",
      "FAILED (failures=1)\n"
     ]
    }
   ],
   "source": [
    "test_symbolic_differentiation_alfa(Constant, Variable, Sum, Product, Power)"
   ]
  },
  {
   "cell_type": "markdown",
   "metadata": {
    "deletable": false,
    "editable": false
   },
   "source": [
    "## Opdracht 26\n",
    "\n",
    "We gaan onze toolbox verder uitbreiden met een aantal goniometrische functies: $\\text{sin}$, $\\text{cos}$ en $\\text{tan}$. Je kan waar nodig het object `Negative` gebruiken om iets negatief te maken; dit geldt ook voor constanten, je kan beter `Negative(Constant(2))` gebruiken dan `Constant(-2)`, omdat het systeem beter in staat is formules op die manier te versimpelen. `Negative` heeft een enkele variabele, `inverse`. De chain-rule / kettingregel laten we nog even achterwege, dit komt in een latere opdracht."
   ]
  },
  {
   "cell_type": "code",
   "execution_count": 151,
   "metadata": {},
   "outputs": [],
   "source": [
    "class Sin(ac_formula.Sin):\n",
    "    def __init__(self, *args, **kwargs):\n",
    "        super().__init__(*args, **kwargs)\n",
    "\n",
    "    def deriv(self): # TODO\n",
    "        return Cos(self.argument)\n",
    "    \n",
    "class Tan(ac_formula.Tan):\n",
    "    def __init__(self, *args, **kwargs):\n",
    "        super().__init__(*args, **kwargs)\n",
    "\n",
    "    def deriv(self): # TODO\n",
    "        print(self.argument)\n",
    "        x = self.argument\n",
    "        return Power(Sec(x), 2)\n",
    "\n",
    "class Cos(ac_formula.Cos):\n",
    "    def __init__(self, *args, **kwargs):\n",
    "        super().__init__(*args, **kwargs)\n",
    "\n",
    "    def deriv(self): # TODO\n",
    "        return Negative(Sin(self.argument))"
   ]
  },
  {
   "cell_type": "markdown",
   "metadata": {
    "deletable": false,
    "editable": false
   },
   "source": [
    "### Tests\n",
    "| **Test** | **Betekenis** |\n",
    "|---:|:---|\n",
    "| `test_sin` | Zoekt de afgeleide van $\\text{sin}(x)$ |\n",
    "| `test_cos` | Zoekt de afgeleide van $\\text{cos}(x)$ |\n",
    "| `test_tan` | Zoekt de afgeleide van $\\text{tan}(x)$ |"
   ]
  },
  {
   "cell_type": "code",
   "execution_count": 152,
   "metadata": {
    "deletable": false,
    "editable": false
   },
   "outputs": [
    {
     "name": "stderr",
     "output_type": "stream",
     "text": [
      "test_cos (ac_tests.test_symbolic_differentiation_bravo.<locals>.TestSymbolicDifferentiationBravo) ... ok\n",
      "test_sin (ac_tests.test_symbolic_differentiation_bravo.<locals>.TestSymbolicDifferentiationBravo) ... ok\n",
      "test_tan (ac_tests.test_symbolic_differentiation_bravo.<locals>.TestSymbolicDifferentiationBravo) ... "
     ]
    },
    {
     "name": "stdout",
     "output_type": "stream",
     "text": [
      "Variable(label='x')\n"
     ]
    },
    {
     "name": "stderr",
     "output_type": "stream",
     "text": [
      "ok\n",
      "\n",
      "----------------------------------------------------------------------\n",
      "Ran 3 tests in 0.003s\n",
      "\n",
      "OK\n"
     ]
    }
   ],
   "source": [
    "test_symbolic_differentiation_bravo(Constant, Variable, Sum, Product, Power, Sin, Cos, Tan)"
   ]
  },
  {
   "cell_type": "markdown",
   "metadata": {
    "deletable": false,
    "editable": false
   },
   "source": [
    "## Opdracht 27\n",
    "De laatste objecten die we willen toevoegen zijn exponenten en logaritmen. `Exponent` en `Log` krijgen een `base` mee, `E` en `Ln` hebben geen base nodig, dit is namelijk het getal $e \\approx 2.71828$. Voor `E` en `Ln` gelden speciale regels met afleiden, vandaar dat deze eigen objecten hebben.\n",
    "\n",
    "Exponent is als `Power`, maar hier is het exponent een subformule in plaats van een enkel getal. $x^2$ kan dus `Power(Variable('x'), 2)` of `Exponent(Variable('x'), Constant(2))` zijn. $2^x$ is alleen met `Exponent(Constant(2), Variable('x'))` uit te drukken. De chain-rule / kettingregel laten we nog even achterwege, dit komt in de volgende opdracht."
   ]
  },
  {
   "cell_type": "code",
   "execution_count": 153,
   "metadata": {},
   "outputs": [],
   "source": [
    "class E(ac_formula.E):\n",
    "    def __init__(self, *args, **kwargs):\n",
    "        super().__init__(*args, **kwargs)\n",
    "\n",
    "    def deriv(self): # TODO\n",
    "        \"\"\" Beschikbare instance-variablen:\n",
    "            - exponent (subformule)\n",
    "            \"\"\"\n",
    "        return self\n",
    "    \n",
    "    \n",
    "class Exponent(ac_formula.Exponent):\n",
    "    def __init__(self, *args, **kwargs):\n",
    "        super().__init__(*args, **kwargs)\n",
    "\n",
    "    def deriv(self): # TODO\n",
    "        \"\"\" Beschikbare instance-variablen:\n",
    "            - base (subformule)\n",
    "            - exponent (subformule)\n",
    "            \"\"\"\n",
    "#         print(self.base.deriv())\n",
    "#         print(self.exponent.deriv())\n",
    "# #         print(self.exponent.deriv() * self.base.deriv())\n",
    "#         for x in range()\n",
    "#         print(Exponent(Constant(2), Variable('x')))\n",
    "        return Product(self, Ln(self.base))\n",
    "\n",
    "# Exponent(Constant(Sum(self.exponent.deriv(), -1)), Variable(Sum(self.base.deriv(), self.exponent.deriv()).simplify()))\n",
    "    \n",
    "#     return Sum(self.left.deriv(), self.right.deriv()).simplify()\n",
    "    \n",
    "class Ln(ac_formula.Ln):\n",
    "    def __init__(self, *args, **kwargs):\n",
    "        super().__init__(*args, **kwargs)\n",
    "\n",
    "    def deriv(self): # TODO\n",
    "        \"\"\" Beschikbare instance-variablen:\n",
    "            - argument (subformule)\n",
    "            \"\"\"\n",
    "        return Power(self.argument, -1)\n",
    "    \n",
    "class Log(ac_formula.Log):\n",
    "    def __init__(self, *args, **kwargs):\n",
    "        super().__init__(*args, **kwargs)\n",
    "\n",
    "    def deriv(self): # TODO\n",
    "        \"\"\" Beschikbare instance-variablen:\n",
    "            - base (subformule)\n",
    "            - argument (subformule)\n",
    "            \"\"\"\n",
    "        return Power(Product(self.argument, Ln(self.base)), -1)"
   ]
  },
  {
   "cell_type": "markdown",
   "metadata": {
    "deletable": false,
    "editable": false
   },
   "source": [
    "### Tests\n",
    "\n",
    "Nu we langzaam bij gecompliceerdere functies aankomen kan het soms zijn dat een test faalt, terwijl het antwoord goed is. Het systeem doet z'n uiterste best formules te herschrijven zodat dit niet gebeurt, maar soms zal je ergens misschien net iets andersom hebben staan ($x+y$ in plaats van $y+x$) en rekent de test je werk fout. Soms is dit dus op te lossen door ergens je argumenten om te draaien, maar belangrijker nog: **kijk zelf of je antwoord klopt met je verwachting, of met bijvoorbeeld [Wolfram Alpha](https://www.wolframalpha.com). Je antwoord kan goed zijn zonder dat de test dit kan herkennen!** Bij twijfel: vraag je docent.\n",
    "\n",
    "| **Test** | **Betekenis** |\n",
    "|---:|:---|\n",
    "| `test_exponent` | Zoekt de afgeleide van $a^x$, met $a$ als constante |\n",
    "| `test_log` | Zoekt de afgeleide van $\\text{log}_a(x)$, met $a$ als constante |\n",
    "| `test_e` | Zoekt de afgeleide van $e^x$ |\n",
    "| `test_ln` | Zoekt de afgeleide van $\\text{ln}(x)$ |\n",
    "\n",
    "Om een indicatie te geven of een afgekeurd antwoord toch goed is, is voor elke test een tweede variant beschikbaar, met het achtervoegsel `_equivalent`. Deze test niet of dezelfde formule wordt teruggegeven, maar probeert de formule uit en vergelijkt deze met het verwachte antwoord. Een `ok` hier is geen garantie dat je oplossing helemaal klopt, maar is wel een redelijke indicatie. "
   ]
  },
  {
   "cell_type": "code",
   "execution_count": 154,
   "metadata": {
    "deletable": false,
    "editable": false
   },
   "outputs": [
    {
     "name": "stderr",
     "output_type": "stream",
     "text": [
      "test_e (ac_tests.test_symbolic_differentiation_charlie.<locals>.TestSymbolicDifferentiationCharlie) ... ok\n",
      "test_exponent (ac_tests.test_symbolic_differentiation_charlie.<locals>.TestSymbolicDifferentiationCharlie) ... ok\n",
      "test_ln (ac_tests.test_symbolic_differentiation_charlie.<locals>.TestSymbolicDifferentiationCharlie) ... ok\n",
      "test_log (ac_tests.test_symbolic_differentiation_charlie.<locals>.TestSymbolicDifferentiationCharlie) ... ok\n",
      "\n",
      "----------------------------------------------------------------------\n",
      "Ran 4 tests in 0.004s\n",
      "\n",
      "OK\n",
      "test_e_equivalent (ac_tests.test_symbolic_differentiation_charlie_eq.<locals>.TestSymbolicDifferentiationCharlieEq) ... ok\n",
      "test_exponent_equivalent (ac_tests.test_symbolic_differentiation_charlie_eq.<locals>.TestSymbolicDifferentiationCharlieEq) ... ok\n",
      "test_ln_equivalent (ac_tests.test_symbolic_differentiation_charlie_eq.<locals>.TestSymbolicDifferentiationCharlieEq) ... ok\n",
      "test_log_equivalent (ac_tests.test_symbolic_differentiation_charlie_eq.<locals>.TestSymbolicDifferentiationCharlieEq) ... ok\n",
      "\n",
      "----------------------------------------------------------------------\n",
      "Ran 4 tests in 0.004s\n",
      "\n",
      "OK\n"
     ]
    }
   ],
   "source": [
    "test_symbolic_differentiation_charlie(Constant, Variable, Sum, Product, Power, Sin, Cos, Tan, E, Exponent, Ln, Log)\n",
    "test_symbolic_differentiation_charlie_eq(Constant, Variable, Sum, Product, Power, Sin, Cos, Tan, E, Exponent, Ln, Log)"
   ]
  },
  {
   "cell_type": "markdown",
   "metadata": {
    "deletable": false,
    "editable": false
   },
   "source": [
    "## Opdracht 28\n",
    "Tot slot gaan we `Power`, `Sin`, `Cos`, `Tan`, `E`, `Exponent`, `Ln` en `Log` aanpassen om rekening te houden met de chain rule. De buitenste functie wordt gedifferentieerd met betrekking to de binnenste functie, en het geheel wordt vermenigvuldigd met de afgeleide van de binnenste functie. Bijvoorbeeld $\\text{sin}^2x$ (een fancy manier van schrijven voor $\\sin(x)^2$:\n",
    "\n",
    "Voorheen (fout):\n",
    "$f^{}(x) =\\text{sin}^{2}x, \\quad f^{\\prime}(x) =2 \\  \\text{sin}(x)$\n",
    "\n",
    "Nu (goed):\n",
    "$f^{\\prime}(x) =2 \\  \\text{cos}(x) \\  \\text{sin}(x)$"
   ]
  },
  {
   "cell_type": "code",
   "execution_count": 155,
   "metadata": {},
   "outputs": [
    {
     "ename": "SyntaxError",
     "evalue": "invalid syntax (<ipython-input-155-fc3a2e5348ae>, line 16)",
     "output_type": "error",
     "traceback": [
      "\u001b[1;36m  File \u001b[1;32m\"<ipython-input-155-fc3a2e5348ae>\"\u001b[1;36m, line \u001b[1;32m16\u001b[0m\n\u001b[1;33m    class Tan(ac_formula.Tan):\u001b[0m\n\u001b[1;37m        ^\u001b[0m\n\u001b[1;31mSyntaxError\u001b[0m\u001b[1;31m:\u001b[0m invalid syntax\n"
     ]
    }
   ],
   "source": [
    "class Power(ac_formula.Power):\n",
    "    def __init__(self, *args, **kwargs):\n",
    "        super().__init__(*args, **kwargs)\n",
    "\n",
    "    def deriv(self): # TODO\n",
    "        return Product(Product(Constant(self.exponent), Power(self.base, self.exponent -1)), self.base.deriv())\n",
    "\n",
    "class Sin(ac_formula.Sin):\n",
    "    def __init__(self, *args, **kwargs):\n",
    "        super().__init__(*args, **kwargs)\n",
    "\n",
    "    def deriv(self): # TODO\n",
    "        return Product(Product(Sin(self.argument), Product(Cos(self.argument), Constant(self.exponent))), self.argument\n",
    "\n",
    "\n",
    "class Tan(ac_formula.Tan):\n",
    "    def __init__(self, *args, **kwargs):\n",
    "        super().__init__(*args, **kwargs)\n",
    "\n",
    "    def deriv(self): # TODO\n",
    "        return Power(Sec(x), 2)\n",
    "\n",
    "class Cos(ac_formula.Cos):\n",
    "    def __init__(self, *args, **kwargs):\n",
    "        super().__init__(*args, **kwargs)\n",
    "\n",
    "    def deriv(self): # TODO\n",
    "        return Negative(Sin(self.argument))\n",
    "\n",
    "class E(ac_formula.E):\n",
    "    def __init__(self, *args, **kwargs):\n",
    "        super().__init__(*args, **kwargs)\n",
    "\n",
    "    def deriv(self): # TODO\n",
    "        print(self)\n",
    "        print(self.argument)\n",
    "        return Product(self, Product(self.base, self.argument))\n",
    "    \n",
    "class Exponent(ac_formula.Exponent):\n",
    "    def __init__(self, *args, **kwargs):\n",
    "        super().__init__(*args, **kwargs)\n",
    "\n",
    "    def deriv(self): # TODO\n",
    "        return Product(self, Ln(self.base))\n",
    "    \n",
    "class Ln(ac_formula.Ln):\n",
    "    def __init__(self, *args, **kwargs):\n",
    "        super().__init__(*args, **kwargs)\n",
    "\n",
    "    def deriv(self): # TODO\n",
    "        return Power(self.argument, -1)\n",
    "    \n",
    "class Log(ac_formula.Log):\n",
    "    def __init__(self, *args, **kwargs):\n",
    "        super().__init__(*args, **kwargs)\n",
    "\n",
    "    def deriv(self): # TODO\n",
    "        return Power(Product(self.argument, Ln(self.base)), -1)"
   ]
  },
  {
   "cell_type": "markdown",
   "metadata": {
    "deletable": false,
    "editable": false
   },
   "source": [
    "### Tests\n",
    "\n",
    "Ook hier geldt dat het soms kan zijn dat een test faalt, terwijl het antwoord goed is. Het systeem doet z'n uiterste best formules te herschrijven zodat dit niet gebeurt, maar soms zal je ergens misschien net iets andersom hebben staan ($x+y$ in plaats van $y+x$) en rekent de test je werk fout. Soms is dit dus op te lossen door ergens je argumenten om te draaien, maar belangrijker nog: **kijk zelf of je antwoord klopt met je verwachting, of met bijvoorbeeld [Wolfram Alpha](https://www.wolframalpha.com). Je antwoord kan goed zijn zonder dat de test dit kan herkennen!** Bij twijfel: vraag je docent.\n",
    "\n",
    "### `test_sin_squared_x`\n",
    "$$f^{}(x) =\\text{sin}^{2}x \\mapsto f^{\\prime}(x) =2 \\  \\text{cos}(x) \\  \\text{sin}(x)$$\n",
    "\n",
    "### `test_e_x_squared`\n",
    "$$f^{}(x) =e^{x^{2}} \\mapsto f^{\\prime}(x) =2x \\  e^{x^{2}}$$\n",
    "\n",
    "### `test_five_to_the_e_x`\n",
    "$$f^{}(x) =5^{e^{x}} \\mapsto f^{\\prime}(x) =e^{x} \\  5^{e^{x}} \\  \\text{ln}(5)$$\n",
    "\n",
    "### `test_ln_x_squared`\n",
    "$$f^{}(x) =\\text{ln}(x^{2}) \\mapsto f^{\\prime}(x) =\\frac{2}{x}$$\n",
    "\n",
    "### `test_five_log_e_x`\n",
    "$$f^{}(x) =\\text{log}_{5}(e^{x}) \\mapsto f^{\\prime} =\\frac{1}{\\text{ln}(5)}$$\n",
    "\n",
    "Om een indicatie te geven of een afgekeurd antwoord toch goed is, is voor elke test een tweede variant beschikbaar, met het achtervoegsel `_equivalent`. Deze test niet of dezelfde formule wordt teruggegeven, maar probeert de formule uit en vergelijkt deze met het verwachte antwoord. Een `ok` hier is geen garantie dat je oplossing helemaal klopt, maar is wel een redelijke indicatie. "
   ]
  },
  {
   "cell_type": "code",
   "execution_count": null,
   "metadata": {
    "deletable": false,
    "editable": false,
    "scrolled": false
   },
   "outputs": [],
   "source": [
    "test_symbolic_differentiation_delta(Constant, Variable, Sum, Product, Power, Sin, Cos, Tan, E, Exponent, Ln, Log)\n",
    "test_symbolic_differentiation_delta_eq(Constant, Variable, Sum, Product, Power, Sin, Cos, Tan, E, Exponent, Ln, Log)"
   ]
  },
  {
   "cell_type": "markdown",
   "metadata": {
    "deletable": false,
    "editable": false
   },
   "source": [
    "## Opdracht 29\n",
    "\n",
    "Hieronder zie je de code voor een lineair regressie probleem. Op basis van een erg beperkte dataset willen we aan de hand van de kaas-consumptie per persoon (in pond) bepalen hoeveel mensen er overlijden aan het verstrikt raken in hun bedlakens [[bron](http://tylervigen.com/spurious-correlations)]. Veel van de code heeft te meer met statistiek te maken dan met calculus, dus die laten we even liggen, maar dit voorbeeld laat wel zien waarom calculus (in dit geval specifiek differentiëren) belangrijk is."
   ]
  },
  {
   "cell_type": "code",
   "execution_count": null,
   "metadata": {
    "deletable": false,
    "editable": false
   },
   "outputs": [],
   "source": [
    "data = {29.8: 327, 30.1: 456, 30.5: 509, 30.6: 497, 31.3: 596,  # x: Per capita cheese consumption\n",
    "        31.7: 573, 32.6: 661, 33.1: 741, 32.7: 809, 32.8: 717}  # y: Number of people who died by becoming tangled in their bedsheets\n",
    "\n",
    "plot_data29(data)"
   ]
  },
  {
   "cell_type": "markdown",
   "metadata": {
    "deletable": false,
    "editable": false
   },
   "source": [
    "We doen voorspellingen op basis van de aanname dat we een rechte lijn in de data kunnen trekken die redelijk dicht bij alle datapunten in de buurt zal komen. Deze rechte lijn kunnen we uitdrukken als $sx+i$. De variabele $s$ staat voor de slope: deze bepaal de richting die de lijn opgaat. Een lijn met slope 0 is plat, en hoe hoger de slope hoe sneller de lijn stijgt (en hoe lager, hoe sneller de lijn daalt). De variabele $i$ staat voor intercept, het punt waarop de lijn de $y$-as raakt (intercept betekent onderscheppen).\n",
    "\n",
    "We kunnen bepalen hoe goed onze voorspelling werkt door voor elk datapunt de fout te berekenen, hier het kwadraat van de nemen (we willen dat de fout altijd positief is, zodat onderschatten en overschatten elkaar niet teniet doen; denk terug aan het statistiek-gedeelte van ASK). Van al deze gekwadrateerde fouten nemen we het gemiddelde.\n",
    "\n",
    "We willen deze functie minimaliseren, want hoe kleiner de totale fout, hoe beter onze voorspelling. We hebben te maken met twee waardes die we willen optimaliseren, de slope en de intercept. Voor dit subprobleem kunnen we calculus gebruiken. Als we de afgeleide van onze kosten-functie hebben dan weten we of de fout groter of kleiner wordt als we de variabelen aanpassen. Aan jullie de taak de twee variabelen te differntiëren!\n",
    "\n",
    "Het differentiëren van een functie met twee variabelen hebben we nog niet gezien (dat gaat later zeker terugkomen), maar gelukkig is dit niet zo moeilijk. We maken twee afgeleides: eentje waarbij we ervan uitgaan dat de slope $s$ constant is en we alleen maar naar de intercept $i$ kijken (dus waar we normaal $x$ hebben, hebben we nu $i$), en eentje waarbij we juist alleen naar de intercept kijken en de slope als constante beschouwen.\n",
    "\n",
    "De formule die we gaan differentiëren ziet er als volgt uit:\n",
    "\n",
    "$$J(s,i) = \\frac{1}{N} \\sum_{j=0}^N(y_j - (sx_j+i))^2$$\n",
    "\n",
    "De som $\\Sigma$ hebben we nog geen afgeleide van gezien, dus die verklappen we vast: dit is herhaaldelijk optellen, en de afgeleide van formule1 + formule2 is van beide de afgeleide nemen en die bij elkaar optellen. Het delen is vermenigvuldigen met een constante, dus die mogen we ook wegdenken en op het einde toevoegen.\n",
    "\n",
    "$$J(s,i) = y - (sx+i)^2$$\n",
    "\n",
    "Deze moeten we dus twee keer differentiëren, een keer met betrekking tot $s$ (dan zijn $i$, $y$ en $x$ constanten), en een keer met betrekking tot $i$ (dan zijn $i$, $y$ en $x$ constanten). Hint: je zult de ketting-regel / chain rule moeten gebruiken om met de functie binnen het exponent te dealen.\n",
    "\n",
    "Bereken de beide afgeleides, en vul in de code hieronder de twee variabelen `d_cost_wrt_slope` en `d_cost_wrt_intercept` in met de formules die je gevonden hebt. Je kunt `x`, `y` en de functie `error` gebruiken om je afgeleide in uit te drukken."
   ]
  },
  {
   "cell_type": "code",
   "execution_count": null,
   "metadata": {},
   "outputs": [],
   "source": [
    "(𝑦−(𝑠𝑥+𝑖))^2"
   ]
  },
  {
   "cell_type": "code",
   "execution_count": null,
   "metadata": {},
   "outputs": [],
   "source": [
    "J = (sx - y + i)^2 = (sx - y + i)(sx - y + i) = sx^2 - syx + isx - syx + y^2 - iy + isx - iy +i^2 = \n",
    "sx^2 - 2syx + 2isx + 2iy+ y^2 + i^2:\n",
    "s = x: 2x^2 - 2yx + 2ix\n",
    "i = x: 2i + 2sx + 2y \n",
    "\n",
    "J,1 = 2s - 4                      2s(sx - y + i)\n",
    "J,2 = 2i - 4                         2s^2\n",
    "s"
   ]
  },
  {
   "cell_type": "code",
   "execution_count": null,
   "metadata": {
    "scrolled": false
   },
   "outputs": [],
   "source": [
    "def cost(data, slope, intercept):\n",
    "    def predict(x):\n",
    "        return x * slope + intercept\n",
    "\n",
    "    def error(x, y):\n",
    "        return predict(x) - y\n",
    "    \n",
    "    total_error = 0\n",
    "    for x, y in data.items():\n",
    "        total_error += error(x, y) ** 2\n",
    "    return total_error / len(data)\n",
    "\n",
    "def gradient(data, slope, intercept):\n",
    "    learn_rate_slope = 0.001\n",
    "    learn_rate_intercept = 0.1\n",
    "    \n",
    "    def predict(x):\n",
    "        return x * slope + intercept\n",
    "\n",
    "    def error(x, y):\n",
    "        return predict(x) - y\n",
    "    \n",
    "    total_grad_wrt_slope = 0\n",
    "    total_grad_wrt_intercept = 0\n",
    "    for x, y in data.items():\n",
    "        \n",
    "        d_cost_wrt_slope = 2*slope*(x**2) - 2*y*x + 2*intercept*x        # TODO\n",
    "        d_cost_wrt_intercept = 2*intercept + 2*slope*x + 2*y     # TODO\n",
    "        \n",
    "        total_grad_wrt_slope += d_cost_wrt_slope * learn_rate_slope\n",
    "        total_grad_wrt_intercept += d_cost_wrt_intercept * learn_rate_intercept\n",
    "    return total_grad_wrt_slope / len(data), total_grad_wrt_intercept / len(data)\n",
    "\n",
    "def train(data):\n",
    "    guess_slope = 0\n",
    "    guess_intercept = 0\n",
    "\n",
    "    count = 0\n",
    "    previous = 0\n",
    "    \n",
    "    new = cost(data, guess_slope, guess_intercept)\n",
    "    \n",
    "    while abs(previous - new) > 0.01 and count < 10000:\n",
    "        count += 1\n",
    "        previous = new\n",
    "        update_slope, update_intercept = gradient(data, guess_slope, guess_intercept)\n",
    "        guess_slope -= update_slope\n",
    "        guess_intercept -= update_intercept\n",
    "        new = cost(data, guess_slope, guess_intercept)\n",
    "        \n",
    "    return guess_slope, guess_intercept\n",
    "\n",
    "s, i = train(data)\n",
    "plot_data29(data, s, i)"
   ]
  },
  {
   "cell_type": "markdown",
   "metadata": {
    "deletable": false,
    "editable": false
   },
   "source": [
    "### Tests\n",
    "De test voor deze opdracht kijkt of je model goed genoeg getraind is, d.w.z. de lijn redelijk door de punten loopt en de totale `cost` minder is dan 3200. Als je de juiste afgeleides in hebt gevuld en verder niets hebt veranderd zou je op ongeveer 3047 uit moeten komen."
   ]
  },
  {
   "cell_type": "code",
   "execution_count": null,
   "metadata": {
    "deletable": false,
    "editable": false
   },
   "outputs": [],
   "source": [
    "test_regressie(train, gradient, cost, data)"
   ]
  },
  {
   "cell_type": "markdown",
   "metadata": {
    "deletable": false,
    "editable": false
   },
   "source": [
    "## Opdracht 30\n",
    "\n",
    "In de cel hieronder worden een paar sommen gegenereerd met betrekking tot afgeleides. Maak deze in de gele cel daaronder, en laat zien hoe je op je antwoord gekomen bent."
   ]
  },
  {
   "cell_type": "code",
   "execution_count": null,
   "metadata": {
    "deletable": false,
    "editable": false
   },
   "outputs": [],
   "source": [
    "RNG().set(0)\n",
    "random_derivatives()"
   ]
  },
  {
   "cell_type": "markdown",
   "metadata": {},
   "source": [
    "<div style=\"background:#fffff0;\">\n",
    "    \n",
    "**(a)** $f^\\prime(x) = (1- 4x)^2 = (1-4x)(1-4x) = 1 - 8x + 16x^2 = 32x + 8$\n",
    "\n",
    "<hr />\n",
    "    \n",
    "**(b)** $g^\\prime(x) = 3x^4\\ \\text{tan}(5x^2) = 3 * ( x^4 * tan(5x^2) + x^4 * tan(5x^2)) | (g,) = 3*(4x^3 * tan(5x^2) +  x^4*sec(5x^2) * 2x * 5x^4) = 3*(4x^3 * tan(5x^2) +  x^4*sec(5x^2) * 10x^5) = 12x^3 tan(5x^2) + 30x^5*sec(5x^2)$\n",
    "\n",
    "<hr />\n",
    "    \n",
    "**(c)** $h^\\prime(x) =  \\text{log}_4(3x-2x^4) = \\text{log}(3x-2x^4)/\\text{log}(4)*(3x-2x^4) | (h,) = \\text{log}(x-8x^3)/\\text{log}(4)*(3x-2x^4) = \\text{log}(x-8x^3)/\\text{log}(4)*x*(3-2x^3) $ \n",
    "\n",
    "<hr />\n",
    "    \n",
    "**(d)** $k^{\\prime\\prime}(x) = \\frac{2}{x^6} = \\frac{2}{1} * \\frac{1}{x^6} =  2 * x^-6 | (k,) = -12x^-7 | (k,,) = 84x^-8$\n",
    "\n",
    "<hr />\n",
    "    \n",
    "**(e)** $\\frac{d^2y}{dx^2} =  x^4 - 3y = \\frac{1}{3}x^4 = y | (e,) = 1 \\frac{1}{3}x^3 = y | (e,,) = 4x^2 = y$\n",
    "\n",
    "<hr />\n",
    "   \n",
    "**(f)** $\\frac{dy}{dx} = 5x^3y - 4x^2 + 3y^4 = 4 : 5x^3y - 4x^2 + 3y^4 - 4 = x^2(5yx-4)+3y^4-4 = x^2*(5yx - 4) + x^2*(5yx -4) + x^2*(3y^4) + x^2*(-4) | (f,) = 2x(5yx -4) + x^2(5y*1+0) + x^2*(0) + x^2*(0) = 2x(5yx -4) + 5yx^2 = 10yx^2 -8x + 5yx^2 = x(15yx - 8)  $\n",
    "\n",
    "\n",
    "</div>"
   ]
  },
  {
   "cell_type": "markdown",
   "metadata": {
    "deletable": false,
    "editable": false
   },
   "source": [
    "# Checkpoint Charlie  <a id='cp-charlie'></a>\n",
    "Als je alles hierboven hebt gemaakt kun je je werk inleveren. Als de testen aangeven dat er nog fouten in zitten, probeer deze dan te verbeteren, maar schroom ook niet om de docent om hulp te vragen als je er niet uitkomt.\n",
    "\n",
    "Om je werk in te leveren moet je er allereerst voor zorgen dat je Notebook is opgeslagen (ctrl-s of het icoontje in de toolbar). Daarna kun je een Git-commit maken en deze naar je eigen GitHub of GitLab pushen. De link naar je repository is uiteindelijk wat je inlevert op Canvas, om de docent een seintje te geven dat er werk te beoordelen is."
   ]
  },
  {
   "cell_type": "markdown",
   "metadata": {
    "deletable": false,
    "editable": false
   },
   "source": [
    "# Integreren\n",
    "Waar we bij de afgeleide de mate van verandering zoeken bij data of een formule (bijvoorbeeld de snelheid als we de positie weten), zijn we bij integreren juist op zoek naar een totaal dat opgebouwd wordt. Als we bijvoorbeeld de snelheid van een voertuig weten, dan kunnen we de afgelegde afstand ook bepalen. Dat kan heel grof (een auto die een uur lang exact 80 heeft gereden is 80 kilometer opgeschoten) maar meestal is de data niet zo overzichtelijk. De auto begon in stilstand, en tijdens het optrekken is de snelheid constant veranderd. Op een gegeven moment reed de auto misschien langere tijd 80 op een provinciale weg, maar ook dan is de snelheid nooit echt constant. Alleen als we op ieder gegeven moment de snelheid weten kunnen we de totale afstand echt zeker weten."
   ]
  },
  {
   "cell_type": "markdown",
   "metadata": {
    "deletable": false,
    "editable": false
   },
   "source": [
    "## Opdracht 31\n",
    "Deze opdracht heeft te maken met [opdracht 22](#opdr22), en is eigenlijk een soort tegenovergesteld op dezelfde manier dat integreren de tegenovergestelde operatie van differentiëren is. \n",
    "\n",
    "Als we een formule hebben die die snelheid bepaalt, en de formule is continu, dan is het mogelijk tot exacte antwoorden te komen (en hier zullen we later meer van zien). Voor nu hebben we echter weer een CSV-bestand `verkeerssimulatie-rechteweg-snelheden.csv` met data, met een nauwkeurigheid van 0.1 seconde. Het betand is in hetzelfde formaat als bij opdracht 22, maar nu hebben we drie kolommen voor drie voertuigen die op dezelfde rechte weg rijden. We gaan ervan uit dat tussen de meetpunten de snelheid lineair toeneemt en dat een voertuig een lengte van 2 meter heeft.\n",
    "\n",
    "Jullie doel voor deze opdracht is om de volgende gegevens te bepalen:\n",
    " - Het tijdstip van de eerste botsing en welke voertuigen dit zijn en\n",
    " - een grafiek (met behulp van [matplotlib](https://matplotlib.org/3.2.1/api/_as_gen/matplotlib.pyplot.plot.html)) van de posities van de voertuigen over de gegeven tijdsperiode (van minimum tijdstip tot maximum tijdstip in het bestand) en ingezoomd rond de eerste botsing.\n",
    " \n",
    "Daarnaast dient er een uitleg met onderbouwing van de techniek/methode (de achterliggende wiskundige techniek) te zijn hoe je dit doet."
   ]
  },
  {
   "cell_type": "code",
   "execution_count": null,
   "metadata": {},
   "outputs": [],
   "source": [
    "import csv\n",
    "\n",
    "def get_data() -> Tuple[np.ndarray, np.ndarray, np.ndarray, np.ndarray]: # TODO\n",
    "    autonummerlist = []\n",
    "    tijdlist = []\n",
    "    snelheidlist = []\n",
    "    with open('verkeerssimulatie-rechteweg-posities.csv') as positiecsv:\n",
    "        csv_reader = csv.reader(positiecsv, delimiter=';')\n",
    "        for read in csv_reader:\n",
    "            autonummerlist.append(read[0])\n",
    "            tijdlist.append(read[1])\n",
    "            snelheidlist.append(read[2])\n",
    "    return autonummerlist, tijdlist, snelheidlist\n",
    "\n",
    "def plot_data(ys: np.ndarray, xss: List[np.ndarray], xrange: Tuple[int,int] = None, yrange: Tuple[int,int] = None):\n",
    "    \"\"\"Optionele argumenten xrange en yrange om ingezoomde plot te maken op de botsing\"\"\"\n",
    "    print(\"test\")\n",
    "    plt.plot(xss,  ys)\n",
    "    plt.show()\n",
    "    pass\n",
    "\n",
    "def bereken_posities(times: np.ndarray, speeds: np.ndarray) -> np.ndarray: # TODO\n",
    "    pass\n",
    "\n",
    "def vind_botsing(t, car1, car2, car3) -> Tuple[float, int, float, int, float]: # TODO\n",
    "    \"\"\" Geeft een vijf-tupel terug met de tijd van de botsing, de eerste auto (1,2 of 3),\n",
    "        de positie van de eerste auto, de tweede auto en de positie daarvan.\"\"\"\n",
    "    \n",
    "    return None # (botsing_t, botsing_a, botsing_a_pos, botsing_b, botsing_b_pos)"
   ]
  },
  {
   "cell_type": "markdown",
   "metadata": {
    "deletable": false,
    "editable": false
   },
   "source": [
    "### Tests\n",
    "\n",
    "Als je antwoord in de buurt komt, maar niet nauwkeurig genoeg is, dan gebruik je mogelijk left- of right-Riemann sums; probeer je nauwkeurigheid te verbeteren door de trapezoid rule te gebruiken.\n",
    "\n",
    "| **Test** | **Betekenis** |\n",
    "|---:|:---|\n",
    "| `test_time` | Controlleert de tijd van de botsing |\n",
    "| `test_car_a` | Controlleert de identiteit van de eerste auto |\n",
    "| `test_car_a_pos` | Controlleert de positie van de eerste auto |\n",
    "| `test_car_b` | Controlleert de identiteit van de tweede auto |\n",
    "| `test_car_b_pos` | Controlleert de positie van de tweede auto |"
   ]
  },
  {
   "cell_type": "code",
   "execution_count": null,
   "metadata": {
    "deletable": false,
    "editable": false
   },
   "outputs": [],
   "source": [
    "test_verkeer_posities(get_data, bereken_posities, vind_botsing)"
   ]
  },
  {
   "cell_type": "markdown",
   "metadata": {
    "deletable": false,
    "editable": false
   },
   "source": [
    "## Opdracht 32\n",
    "De code die we vanaf [opdracht 25](#opdr25) gezien hebben gaan we uitbreiden voor symbolisch integreren. In deze opdracht gaan we dat doen voor een variabele, sommen, producten met een constante en machten. **Let op: omdat we doorgaan met de objecten van opdracht 25-28 moeten deze cellen uitgevoerd zijn. Als je errors krijgt over `name Constant not defined` dan is dat omdat deze cellen eerst uitgevoerd moeten worden.**\n",
    "\n",
    "De code voor de constante is weer als voorbeeld gegeven. Zoals je ziet wordt integreren altijd met respect tot een bepaalde variabele gedaan; deze variabele wordt als string meegegeven onder de naar `wrt` (with respect to). Om deze in bijvoorbeeld een product te gebruiken moet deze nog wel in een `Variable` verpakt worden.\n",
    "\n",
    "Bij het integreren van een variabele kunnen we twee gevallen onderscheiden: we integreren $x$ met respect to x, in welk geval we eigenlijk de `Power`-regel gebruiken, of we integreren een andere variabele en komen op een product uit.\n",
    "\n",
    "Bij het integreren van een `Product` hoeven we slechts een paar gevallen te ondersteunen: alleen als een van beide argumenten van de som (`left` of `right`) een `Constant` is, of een `Variable` die niet gelijk is aan `wrt`, hoeft onze functie te werken. In deze gevallen kunnen we de constante / variabele negeren, integreren we alleen de andere kant en vermenigvuldigen we dan weer met de constante / variabele.\n",
    "\n",
    "Bijvoorbeeld: als we $\\int xy\\ dx$ hebben dan geldt $y$ als een constante, dus kunnen we dit lezen als $y \\int x\\ dx$. Dit wordt $y \\frac{x^2}{2}$ oftewel $\\frac{x^2y}{2}$. In alle andere gevallen mogen we `None` teruggeven.\n",
    "\n",
    "Om vanuit een het `Product` te kunnen kijken wat voor object we links hebben kunnen we de functie `isinstance` gebruiken: `isinstance(self.left, Constant)` vertelt ons of de linkerkant van ons product een `Constant` is.\n",
    "\n",
    "*De oplettende lezer / doorgewinterde calculist vraagt zich misschien af hoe het zit met de constance $C$ die bij een indefinite integral wordt toegevoegd; deze mogen we hier negeren, en wordt op het einde automatisch toegevoegd door de integraal van een `Function` te nemen. We gaan voorlopig nog niet zo diep dat het zin heeft deze in een deelformule al mee te nemen. Als je je dit niet afvroeg, of hoofdpijn krijgt van deze toevoeging mag je hem negeren.*"
   ]
  },
  {
   "cell_type": "code",
   "execution_count": 199,
   "metadata": {},
   "outputs": [],
   "source": [
    "class Constant(Constant):\n",
    "    def __init__(self, *args, **kwargs):\n",
    "        super().__init__(*args, **kwargs)\n",
    "\n",
    "    def integrate(self, wrt: str): # VOORBEELD\n",
    "        return Product(self, Variable(wrt))\n",
    "\n",
    "class Variable(Variable):\n",
    "    def __init__(self, *args, **kwargs):\n",
    "        super().__init__(*args, **kwargs)\n",
    "        \n",
    "    def integrate(self, wrt: str): # TODO\n",
    "        if self == Variable(label='x'):\n",
    "            return Product(Constant(0.5), Power(self, 2))\n",
    "        elif self == Variable(label='y'):\n",
    "            return Product(Variable(wrt), self)  \n",
    "\n",
    "\n",
    "class Sum(Sum):\n",
    "    def __init__(self, *args, **kwargs):\n",
    "        super().__init__(*args, **kwargs)\n",
    "    def integrate(self, wrt: str): # TODO\n",
    "        return Sum(Variable(self.left), Product(self.left, self.right))\n",
    "\n",
    "class Product(Product):\n",
    "    def __init__(self, *args, **kwargs):\n",
    "        super().__init__(*args, **kwargs)\n",
    "    def integrate(self, wrt: str): # TODO\n",
    "        return Product(Variable(self.left), self.right)\n",
    "    \n",
    "class Power(Power):\n",
    "    def __init__(self, *args, **kwargs):\n",
    "        super().__init__(*args, **kwargs)\n",
    "\n",
    "    def integrate(self, wrt: str): # TODO\n",
    "        return Product(1/(Sum(variable(wrt), 1)), Power(self, Sum(variable(wrt), 1)))"
   ]
  },
  {
   "cell_type": "markdown",
   "metadata": {
    "deletable": false,
    "editable": false
   },
   "source": [
    "### Tests\n",
    "\n",
    "Ook hier geldt weer dat er voor de meeste gevallen meerdere goede antwoorden zijn, d.w.z. meerde manieren om dezelfde formule op te schrijven. Vertrouw dus niet blind op de test, maar controlleer je antwoord zelf! Een `ok` uit de test betekent dat je ervan uit kan gaan dat je werk klopt, maar als je geen OK krijgt kan je antwoord nog steeds goed zijn. Dit is helaas een limitatie van het Numpy test-systeem.\n",
    "\n",
    "| **Test** | **Betekenis** |\n",
    "|---:|:---|\n",
    "| `test_variable_x` | Zoekt $\\int x\\ dx$, test `Variable` |\n",
    "| `test_variable_y` | Zoekt $\\int y\\ dx$, test `Variable` |\n",
    "| `test_sum` | Zoekt $\\int (x + y)\\ dx$, test `Sum` |\n",
    "| `test_product` | Zoekt de $\\int xy \\ dx$, test `Product` |\n",
    "| `test_power` | Zoekt $\\int x^3\\ dx$, test `Power` |\n",
    "\n",
    "Om een indicatie te geven of een afgekeurd antwoord toch goed is, is voor elke test een tweede variant beschikbaar, met het achtervoegsel `_equivalent`. Deze test niet of dezelfde formule wordt teruggegeven, maar probeert de formule uit en vergelijkt deze met het verwachte antwoord. Een `ok` hier is geen garantie dat je oplossing helemaal klopt, maar is wel een redelijke indicatie."
   ]
  },
  {
   "cell_type": "code",
   "execution_count": 200,
   "metadata": {
    "deletable": false,
    "editable": false
   },
   "outputs": [
    {
     "name": "stderr",
     "output_type": "stream",
     "text": [
      "test_power (ac_tests.test_symbolic_integration_alfa.<locals>.TestSymbolicIntegrationAlfa) ... ERROR\n",
      "test_product (ac_tests.test_symbolic_integration_alfa.<locals>.TestSymbolicIntegrationAlfa) ... FAIL\n",
      "test_sum (ac_tests.test_symbolic_integration_alfa.<locals>.TestSymbolicIntegrationAlfa) ... FAIL\n",
      "test_variable_x (ac_tests.test_symbolic_integration_alfa.<locals>.TestSymbolicIntegrationAlfa) ... ok\n",
      "test_variable_y (ac_tests.test_symbolic_integration_alfa.<locals>.TestSymbolicIntegrationAlfa) ... ok\n",
      "\n",
      "======================================================================\n",
      "ERROR: test_power (ac_tests.test_symbolic_integration_alfa.<locals>.TestSymbolicIntegrationAlfa)\n",
      "----------------------------------------------------------------------\n",
      "Traceback (most recent call last):\n",
      "  File \"C:\\Users\\ruben\\v1ac\\ac_tests.py\", line 554, in test_power\n",
      "    np.testing.assert_equal(form.integrate('x'), integral)\n",
      "  File \"C:\\Users\\ruben\\v1ac\\ac_formula.py\", line 44, in integrate\n",
      "    return Function(self.label, Sum(self.body.integrate(wrt).simplify(), Variable('C')), self.deriv_order - 1)\n",
      "  File \"<ipython-input-199-042c1ff9c140>\", line 36, in integrate\n",
      "    return Product(1/(Sum(variable(wrt), 1)), Power(self, Sum(variable(wrt), 1)))\n",
      "NameError: name 'variable' is not defined\n",
      "\n",
      "======================================================================\n",
      "FAIL: test_product (ac_tests.test_symbolic_integration_alfa.<locals>.TestSymbolicIntegrationAlfa)\n",
      "----------------------------------------------------------------------\n",
      "Traceback (most recent call last):\n",
      "  File \"C:\\Users\\ruben\\v1ac\\ac_tests.py\", line 546, in test_product\n",
      "    np.testing.assert_equal(form.integrate('x'), integral)\n",
      "  File \"d:\\users\\ruben\\appdata\\local\\programs\\python\\python37\\lib\\site-packages\\numpy\\testing\\_private\\utils.py\", line 428, in assert_equal\n",
      "    raise AssertionError(msg)\n",
      "AssertionError: \n",
      "Items are not equal:\n",
      " ACTUAL: <ac_formula.Function object at 0x00000293F66F4E88>\n",
      " DESIRED: <ac_formula.Function object at 0x00000293F66F4F08>\n",
      "\n",
      "======================================================================\n",
      "FAIL: test_sum (ac_tests.test_symbolic_integration_alfa.<locals>.TestSymbolicIntegrationAlfa)\n",
      "----------------------------------------------------------------------\n",
      "Traceback (most recent call last):\n",
      "  File \"C:\\Users\\ruben\\v1ac\\ac_tests.py\", line 550, in test_sum\n",
      "    np.testing.assert_equal(form.integrate('x'), integral)\n",
      "  File \"d:\\users\\ruben\\appdata\\local\\programs\\python\\python37\\lib\\site-packages\\numpy\\testing\\_private\\utils.py\", line 428, in assert_equal\n",
      "    raise AssertionError(msg)\n",
      "AssertionError: \n",
      "Items are not equal:\n",
      " ACTUAL: <ac_formula.Function object at 0x00000293F507AB88>\n",
      " DESIRED: <ac_formula.Function object at 0x00000293F507AC08>\n",
      "\n",
      "----------------------------------------------------------------------\n",
      "Ran 5 tests in 0.007s\n",
      "\n",
      "FAILED (failures=2, errors=1)\n",
      "test_power_equivalent (ac_tests.test_symbolic_integration_alfa_eq.<locals>.TestSymbolicIntegrationAlfaEq) ... ERROR\n",
      "test_product_equivalent (ac_tests.test_symbolic_integration_alfa_eq.<locals>.TestSymbolicIntegrationAlfaEq) ... ERROR\n",
      "test_sum_equivalent (ac_tests.test_symbolic_integration_alfa_eq.<locals>.TestSymbolicIntegrationAlfaEq) ... ERROR\n",
      "test_variable_x_equivalent (ac_tests.test_symbolic_integration_alfa_eq.<locals>.TestSymbolicIntegrationAlfaEq) ... ok\n",
      "test_variable_y_equivalent (ac_tests.test_symbolic_integration_alfa_eq.<locals>.TestSymbolicIntegrationAlfaEq) ... ok\n",
      "\n",
      "======================================================================\n",
      "ERROR: test_power_equivalent (ac_tests.test_symbolic_integration_alfa_eq.<locals>.TestSymbolicIntegrationAlfaEq)\n",
      "----------------------------------------------------------------------\n",
      "Traceback (most recent call last):\n",
      "  File \"C:\\Users\\ruben\\v1ac\\ac_tests.py\", line 575, in test_power_equivalent\n",
      "    np.testing.assert_equal(form.integrate('x').eval({'x': 11}), 3660.25)\n",
      "  File \"C:\\Users\\ruben\\v1ac\\ac_formula.py\", line 44, in integrate\n",
      "    return Function(self.label, Sum(self.body.integrate(wrt).simplify(), Variable('C')), self.deriv_order - 1)\n",
      "  File \"<ipython-input-199-042c1ff9c140>\", line 36, in integrate\n",
      "    return Product(1/(Sum(variable(wrt), 1)), Power(self, Sum(variable(wrt), 1)))\n",
      "NameError: name 'variable' is not defined\n",
      "\n",
      "======================================================================\n",
      "ERROR: test_product_equivalent (ac_tests.test_symbolic_integration_alfa_eq.<locals>.TestSymbolicIntegrationAlfaEq)\n",
      "----------------------------------------------------------------------\n",
      "Traceback (most recent call last):\n",
      "  File \"C:\\Users\\ruben\\v1ac\\ac_tests.py\", line 569, in test_product_equivalent\n",
      "    np.testing.assert_equal(form.integrate('x').eval({'x': 8, 'y': 2}), 64)\n",
      "  File \"C:\\Users\\ruben\\v1ac\\ac_formula.py\", line 46, in eval\n",
      "    return self.body.eval(vars)\n",
      "  File \"C:\\Users\\ruben\\v1ac\\ac_formula.py\", line 302, in eval\n",
      "    return self.left.eval(vars) + self.right.eval(vars)\n",
      "  File \"C:\\Users\\ruben\\v1ac\\ac_formula.py\", line 262, in eval\n",
      "    return self.left.eval(vars) * self.right.eval(vars)\n",
      "  File \"C:\\Users\\ruben\\v1ac\\ac_formula.py\", line 80, in eval\n",
      "    if self.label in vars:\n",
      "TypeError: unhashable type: 'Variable'\n",
      "\n",
      "======================================================================\n",
      "ERROR: test_sum_equivalent (ac_tests.test_symbolic_integration_alfa_eq.<locals>.TestSymbolicIntegrationAlfaEq)\n",
      "----------------------------------------------------------------------\n",
      "Traceback (most recent call last):\n",
      "  File \"C:\\Users\\ruben\\v1ac\\ac_tests.py\", line 572, in test_sum_equivalent\n",
      "    np.testing.assert_equal(form.integrate('x').eval({'x': 1, 'y': 9}), 9.5)\n",
      "  File \"C:\\Users\\ruben\\v1ac\\ac_formula.py\", line 46, in eval\n",
      "    return self.body.eval(vars)\n",
      "  File \"C:\\Users\\ruben\\v1ac\\ac_formula.py\", line 302, in eval\n",
      "    return self.left.eval(vars) + self.right.eval(vars)\n",
      "  File \"C:\\Users\\ruben\\v1ac\\ac_formula.py\", line 302, in eval\n",
      "    return self.left.eval(vars) + self.right.eval(vars)\n",
      "  File \"C:\\Users\\ruben\\v1ac\\ac_formula.py\", line 80, in eval\n",
      "    if self.label in vars:\n",
      "TypeError: unhashable type: 'Variable'\n",
      "\n",
      "----------------------------------------------------------------------\n",
      "Ran 5 tests in 0.008s\n",
      "\n",
      "FAILED (errors=3)\n"
     ]
    }
   ],
   "source": [
    "test_symbolic_integration_alfa(Constant, Variable, Sum, Product, Power)\n",
    "test_symbolic_integration_alfa_eq(Constant, Variable, Sum, Product, Power)"
   ]
  },
  {
   "cell_type": "markdown",
   "metadata": {
    "deletable": false,
    "editable": false
   },
   "source": [
    "## Opdracht 33\n",
    "Breid de mogelijkheid tot integreren uit naar de goniometrische functies, de exponenten en de logaritmen. Je mag ervan uit gaan dat deze met enkel een variabele (zoals $x$) worden gebruikt, en ook met respect tot diezelfde $x$ worden geïntegreerd."
   ]
  },
  {
   "cell_type": "code",
   "execution_count": 211,
   "metadata": {},
   "outputs": [],
   "source": [
    "class Sin(Sin):\n",
    "    def __init__(self, *args, **kwargs):\n",
    "        super().__init__(*args, **kwargs)\n",
    "\n",
    "    def integrate(self, wrt: str): # TODO\n",
    "        return Negative(Cos(self.argument))\n",
    "\n",
    "class Cos(Cos):\n",
    "    def __init__(self, *args, **kwargs):\n",
    "        super().__init__(*args, **kwargs)\n",
    "\n",
    "    def integrate(self, wrt: str): # TODO\n",
    "        return (Sin(self.argument))\n",
    "    \n",
    "class Tan(Tan):\n",
    "    def __init__(self, *args, **kwargs):\n",
    "        super().__init__(*args, **kwargs)\n",
    "\n",
    "    def integrate(self, wrt: str): # TODO\n",
    "        return Negative(Ln (Cos(self.argument)))\n",
    "\n",
    "class E(E):\n",
    "    def __init__(self, *args, **kwargs):\n",
    "        super().__init__(*args, **kwargs)\n",
    "\n",
    "    def integrate(self, wrt: str): # TODO\n",
    "        return self\n",
    "    \n",
    "class Exponent(Exponent):\n",
    "    def __init__(self, *args, **kwargs):\n",
    "        super().__init__(*args, **kwargs)\n",
    "\n",
    "    def integrate(self, wrt: str): # TODO\n",
    "        return Product(Power(Ln(self.base), Constant(-1)), self)\n",
    "    \n",
    "class Ln(Ln):\n",
    "    def __init__(self, *args, **kwargs):\n",
    "        super().__init__(*args, **kwargs)\n",
    "        print(self)\n",
    "    def integrate(self, wrt: str): # TODO\n",
    "        return Sum(Product(self.argument, Ln(self.argument)), Negative(self.argument))\n",
    "        \n",
    "class Log(Log):\n",
    "    def __init__(self, *args, **kwargs):\n",
    "        super().__init__(*args, **kwargs)\n",
    "\n",
    "\n",
    "    def integrate(self, wrt: str): # TODO\n",
    "        return Product(Product(self, Sum(Ln(self), Constant(-1))), Power(Ln(self.base), -1))"
   ]
  },
  {
   "cell_type": "markdown",
   "metadata": {
    "deletable": false,
    "editable": false
   },
   "source": [
    "### Tests\n",
    "\n",
    "Ook hier geldt weer dat er voor de meeste gevallen meerdere goede antwoorden zijn, d.w.z. meerde manieren om dezelfde formule op te schrijven. Vertrouw dus niet blind op de test, maar controlleer je antwoord zelf! Een `ok` uit de test betekent dat je ervan uit kan gaan dat je werk klopt, maar als je geen OK krijgt kan je antwoord nog steeds goed zijn. Dit is helaas een limitatie van het Numpy test-systeem.\n",
    "\n",
    "| **Test** | **Betekenis** |\n",
    "|---:|:---|\n",
    "| `test_sin` | Zoekt $\\int \\text{sin}(x)\\ dx$, test `Sin` |\n",
    "| `test_cos` | Zoekt $\\int \\text{cos}(x)\\ dx$, test `Cos` |\n",
    "| `test_tan` | Zoekt $\\int \\text{tan}(x)\\ dx$, test `Tan` |\n",
    "| `test_e` | Zoekt $\\int e^x\\ dx$, test `E` |\n",
    "| `test_exponent` | Zoekt $\\int 3^x\\ dx$, test `Exponent` |\n",
    "| `test_ln` | Zoekt $\\int \\text{ln}(x)\\ dx$, test `Ln` |\n",
    "| `test_log` | Zoekt $\\int \\text{log}_3(x)\\ dx$, test `Log` |\n",
    "\n",
    "Om een indicatie te geven of een afgekeurd antwoord toch goed is, is voor elke test een tweede variant beschikbaar, met het achtervoegsel `_equivalent`. Deze test niet of dezelfde formule wordt teruggegeven, maar probeert de formule uit en vergelijkt deze met het verwachte antwoord. Een `ok` hier is geen garantie dat je oplossing helemaal klopt, maar is wel een redelijke indicatie. "
   ]
  },
  {
   "cell_type": "code",
   "execution_count": 212,
   "metadata": {
    "deletable": false,
    "editable": false,
    "scrolled": false
   },
   "outputs": [
    {
     "name": "stderr",
     "output_type": "stream",
     "text": [
      "test_cos (ac_tests.test_symbolic_integration_bravo.<locals>.TestSymbolicIntegrationBravo) ... ok\n",
      "test_e (ac_tests.test_symbolic_integration_bravo.<locals>.TestSymbolicIntegrationBravo) ... ok\n",
      "test_exponent (ac_tests.test_symbolic_integration_bravo.<locals>.TestSymbolicIntegrationBravo) ... FAIL\n",
      "test_ln (ac_tests.test_symbolic_integration_bravo.<locals>.TestSymbolicIntegrationBravo) ... FAIL\n",
      "test_log (ac_tests.test_symbolic_integration_bravo.<locals>.TestSymbolicIntegrationBravo) ... FAIL\n",
      "test_sin (ac_tests.test_symbolic_integration_bravo.<locals>.TestSymbolicIntegrationBravo) ... ok\n",
      "test_tan (ac_tests.test_symbolic_integration_bravo.<locals>.TestSymbolicIntegrationBravo) ... ok\n",
      "\n",
      "======================================================================\n",
      "FAIL: test_exponent (ac_tests.test_symbolic_integration_bravo.<locals>.TestSymbolicIntegrationBravo)\n",
      "----------------------------------------------------------------------\n",
      "Traceback (most recent call last):\n",
      "  File \"C:\\Users\\ruben\\v1ac\\ac_tests.py\", line 602, in test_exponent\n",
      "    np.testing.assert_equal(form.integrate('x'), integral)\n",
      "  File \"d:\\users\\ruben\\appdata\\local\\programs\\python\\python37\\lib\\site-packages\\numpy\\testing\\_private\\utils.py\", line 428, in assert_equal\n",
      "    raise AssertionError(msg)\n",
      "AssertionError: \n",
      "Items are not equal:\n",
      " ACTUAL: <ac_formula.Function object at 0x00000293F5005348>\n",
      " DESIRED: <ac_formula.Function object at 0x00000293F5005F88>\n",
      "\n",
      "======================================================================\n",
      "FAIL: test_ln (ac_tests.test_symbolic_integration_bravo.<locals>.TestSymbolicIntegrationBravo)\n",
      "----------------------------------------------------------------------\n",
      "Traceback (most recent call last):\n",
      "  File \"C:\\Users\\ruben\\v1ac\\ac_tests.py\", line 607, in test_ln\n",
      "    np.testing.assert_equal(form.integrate('x'), integral)\n",
      "  File \"d:\\users\\ruben\\appdata\\local\\programs\\python\\python37\\lib\\site-packages\\numpy\\testing\\_private\\utils.py\", line 428, in assert_equal\n",
      "    raise AssertionError(msg)\n",
      "AssertionError: \n",
      "Items are not equal:\n",
      " ACTUAL: <ac_formula.Function object at 0x00000293F5005F08>\n",
      " DESIRED: <ac_formula.Function object at 0x00000293F5005248>\n",
      "\n",
      "======================================================================\n",
      "FAIL: test_log (ac_tests.test_symbolic_integration_bravo.<locals>.TestSymbolicIntegrationBravo)\n",
      "----------------------------------------------------------------------\n",
      "Traceback (most recent call last):\n",
      "  File \"C:\\Users\\ruben\\v1ac\\ac_tests.py\", line 612, in test_log\n",
      "    np.testing.assert_equal(form.integrate('x'), integral)\n",
      "  File \"d:\\users\\ruben\\appdata\\local\\programs\\python\\python37\\lib\\site-packages\\numpy\\testing\\_private\\utils.py\", line 428, in assert_equal\n",
      "    raise AssertionError(msg)\n",
      "AssertionError: \n",
      "Items are not equal:\n",
      " ACTUAL: <ac_formula.Function object at 0x00000293F5005208>\n",
      " DESIRED: <ac_formula.Function object at 0x00000293F5005348>\n",
      "\n",
      "----------------------------------------------------------------------\n",
      "Ran 7 tests in 0.019s\n",
      "\n",
      "FAILED (failures=3)\n",
      "test_cos_equivalent (ac_tests.test_symbolic_integration_bravo_eq.<locals>.TestSymbolicIntegrationBravoEq) ... ok\n",
      "test_e_equivalent (ac_tests.test_symbolic_integration_bravo_eq.<locals>.TestSymbolicIntegrationBravoEq) ... ok\n",
      "test_exponent_equivalent (ac_tests.test_symbolic_integration_bravo_eq.<locals>.TestSymbolicIntegrationBravoEq) ... ERROR\n",
      "test_ln_equivalent (ac_tests.test_symbolic_integration_bravo_eq.<locals>.TestSymbolicIntegrationBravoEq) ... ok\n",
      "test_log_equivalent (ac_tests.test_symbolic_integration_bravo_eq.<locals>.TestSymbolicIntegrationBravoEq) ... FAIL\n",
      "test_sin_equivalent (ac_tests.test_symbolic_integration_bravo_eq.<locals>.TestSymbolicIntegrationBravoEq) ... ok\n",
      "test_tan_equivalent (ac_tests.test_symbolic_integration_bravo_eq.<locals>.TestSymbolicIntegrationBravoEq) ... "
     ]
    },
    {
     "name": "stdout",
     "output_type": "stream",
     "text": [
      "Exponent(base=Constant(value=3),exponent=Variable(label='x'))\n",
      "Exponent(base=Constant(value=3),exponent=Variable(label='x'))\n",
      "Exponent(base=Constant(value=3),exponent=Variable(label='x'))\n",
      "Exponent(base=Constant(value=3),exponent=Variable(label='x'))\n",
      "Exponent(base=Constant(value=3),exponent=Variable(label='x'))\n",
      "Exponent(base=Constant(value=3),exponent=Variable(label='x'))\n",
      "Exponent(base=Constant(value=3),exponent=Variable(label='x'))\n",
      "Exponent(base=Constant(value=3),exponent=Variable(label='x'))\n",
      "Exponent(base=Constant(value=3),exponent=Variable(label='x'))\n",
      "Exponent(base=Constant(value=3),exponent=Variable(label='x'))\n",
      "Exponent(base=Constant(value=3),exponent=Variable(label='x'))\n",
      "Exponent(base=Constant(value=3),exponent=Variable(label='x'))\n",
      "Ln(argument=Constant(value=3))\n",
      "Ln(argument=Constant(value=3))\n",
      "Ln(argument=Constant(value=3))\n",
      "Ln(argument=Constant(value=3))\n",
      "Ln(argument=Constant(value=3))\n",
      "Ln(argument=Constant(value=3))\n",
      "Ln(argument=Constant(value=3))\n",
      "Ln(argument=Constant(value=3))\n",
      "Ln(argument=Variable(label='x'))\n",
      "Ln(argument=Variable(label='x'))\n",
      "Ln(argument=Variable(label='x'))\n",
      "Ln(argument=Variable(label='x'))\n",
      "Ln(argument=Variable(label='x'))\n",
      "Ln(argument=Variable(label='x'))\n",
      "Ln(argument=Variable(label='x'))\n",
      "Ln(argument=Variable(label='x'))\n",
      "Ln(argument=Variable(label='x'))\n",
      "Ln(argument=Variable(label='x'))\n",
      "Ln(argument=Variable(label='x'))\n",
      "Ln(argument=Variable(label='x'))\n",
      "Log(base=Constant(value=3),exponent=Variable(label='x'))\n",
      "Log(base=Constant(value=3),exponent=Variable(label='x'))\n",
      "Log(base=Constant(value=3),exponent=Variable(label='x'))\n",
      "Log(base=Constant(value=3),exponent=Variable(label='x'))\n",
      "Log(base=Constant(value=3),exponent=Variable(label='x'))\n",
      "Log(base=Constant(value=3),exponent=Variable(label='x'))\n",
      "Log(base=Constant(value=3),exponent=Variable(label='x'))\n",
      "Log(base=Constant(value=3),exponent=Variable(label='x'))\n",
      "Ln(argument=Variable(label='x'))\n",
      "Ln(argument=Variable(label='x'))\n",
      "Ln(argument=Variable(label='x'))\n",
      "Ln(argument=Variable(label='x'))\n",
      "Ln(argument=Constant(value=3))\n",
      "Ln(argument=Constant(value=3))\n",
      "Ln(argument=Constant(value=3))\n",
      "Ln(argument=Constant(value=3))\n",
      "Ln(argument=Log(base=Constant(value=3),exponent=Variable(label='x')))\n",
      "Ln(argument=Log(base=Constant(value=3),exponent=Variable(label='x')))\n",
      "Ln(argument=Log(base=Constant(value=3),exponent=Variable(label='x')))\n",
      "Ln(argument=Log(base=Constant(value=3),exponent=Variable(label='x')))\n",
      "Ln(argument=Constant(value=3))\n",
      "Ln(argument=Constant(value=3))\n",
      "Ln(argument=Constant(value=3))\n",
      "Ln(argument=Constant(value=3))\n",
      "Ln(argument=Cos(argument=Variable(label='x')))\n",
      "Ln(argument=Cos(argument=Variable(label='x')))\n",
      "Ln(argument=Cos(argument=Variable(label='x')))\n",
      "Ln(argument=Cos(argument=Variable(label='x')))\n",
      "Ln(argument=Cos(argument=Variable(label='x')))\n",
      "Ln(argument=Cos(argument=Variable(label='x')))\n",
      "Ln(argument=Cos(argument=Variable(label='x')))\n",
      "Ln(argument=Cos(argument=Variable(label='x')))\n",
      "Exponent(base=Constant(value=3),exponent=Variable(label='x'))\n",
      "Exponent(base=Constant(value=3),exponent=Variable(label='x'))\n",
      "Exponent(base=Constant(value=3),exponent=Variable(label='x'))\n",
      "Exponent(base=Constant(value=3),exponent=Variable(label='x'))\n",
      "Exponent(base=Constant(value=3),exponent=Variable(label='x'))\n",
      "Exponent(base=Constant(value=3),exponent=Variable(label='x'))\n",
      "Ln(argument=Constant(value=3))\n",
      "Ln(argument=Constant(value=3))\n",
      "Ln(argument=Constant(value=3))\n",
      "Ln(argument=Constant(value=3))\n",
      "Ln(argument=Variable(label='x'))\n",
      "Ln(argument=Variable(label='x'))\n",
      "Ln(argument=Variable(label='x'))\n",
      "Ln(argument=Variable(label='x'))\n",
      "Ln(argument=Variable(label='x'))\n",
      "Ln(argument=Variable(label='x'))\n",
      "Ln(argument=Variable(label='x'))\n",
      "Ln(argument=Variable(label='x'))\n",
      "Log(base=Constant(value=3),exponent=Variable(label='x'))\n",
      "Log(base=Constant(value=3),exponent=Variable(label='x'))\n",
      "Log(base=Constant(value=3),exponent=Variable(label='x'))\n",
      "Log(base=Constant(value=3),exponent=Variable(label='x'))\n",
      "Log(base=Constant(value=3),exponent=Variable(label='x'))\n",
      "Log(base=Constant(value=3),exponent=Variable(label='x'))\n",
      "Log(base=Constant(value=3),exponent=Variable(label='x'))\n",
      "Log(base=Constant(value=3),exponent=Variable(label='x'))\n",
      "Ln(argument=Log(base=Constant(value=3),exponent=Variable(label='x')))\n",
      "Ln(argument=Log(base=Constant(value=3),exponent=Variable(label='x')))\n",
      "Ln(argument=Log(base=Constant(value=3),exponent=Variable(label='x')))\n",
      "Ln(argument=Log(base=Constant(value=3),exponent=Variable(label='x')))\n",
      "Ln(argument=Constant(value=3))\n",
      "Ln(argument=Constant(value=3))\n",
      "Ln(argument=Constant(value=3))\n",
      "Ln(argument=Constant(value=3))\n",
      "Ln(argument=Cos(argument=Variable(label='x')))\n",
      "Ln(argument=Cos(argument=Variable(label='x')))\n",
      "Ln(argument=Cos(argument=Variable(label='x')))\n",
      "Ln(argument=Cos(argument=Variable(label='x')))\n"
     ]
    },
    {
     "name": "stderr",
     "output_type": "stream",
     "text": [
      "ok\n",
      "\n",
      "======================================================================\n",
      "ERROR: test_exponent_equivalent (ac_tests.test_symbolic_integration_bravo_eq.<locals>.TestSymbolicIntegrationBravoEq)\n",
      "----------------------------------------------------------------------\n",
      "Traceback (most recent call last):\n",
      "  File \"C:\\Users\\ruben\\v1ac\\ac_tests.py\", line 633, in test_exponent_equivalent\n",
      "    np.testing.assert_almost_equal(form.integrate('x').eval({'x': 7}), 1990.693,3)\n",
      "  File \"C:\\Users\\ruben\\v1ac\\ac_formula.py\", line 46, in eval\n",
      "    return self.body.eval(vars)\n",
      "  File \"C:\\Users\\ruben\\v1ac\\ac_formula.py\", line 302, in eval\n",
      "    return self.left.eval(vars) + self.right.eval(vars)\n",
      "  File \"C:\\Users\\ruben\\v1ac\\ac_formula.py\", line 262, in eval\n",
      "    return self.left.eval(vars) * self.right.eval(vars)\n",
      "  File \"C:\\Users\\ruben\\v1ac\\ac_formula.py\", line 125, in eval\n",
      "    return self.base.eval(vars) ** self.exponent\n",
      "TypeError: unsupported operand type(s) for ** or pow(): 'float' and 'Negative'\n",
      "\n",
      "======================================================================\n",
      "FAIL: test_log_equivalent (ac_tests.test_symbolic_integration_bravo_eq.<locals>.TestSymbolicIntegrationBravoEq)\n",
      "----------------------------------------------------------------------\n",
      "Traceback (most recent call last):\n",
      "  File \"C:\\Users\\ruben\\v1ac\\ac_tests.py\", line 639, in test_log_equivalent\n",
      "    np.testing.assert_almost_equal(form.integrate('x').eval({'x': 72}), 214.744,3)\n",
      "  File \"d:\\users\\ruben\\appdata\\local\\programs\\python\\python37\\lib\\site-packages\\numpy\\testing\\_private\\utils.py\", line 601, in assert_almost_equal\n",
      "    raise AssertionError(_build_err_msg())\n",
      "AssertionError: \n",
      "Arrays are not almost equal to 3 decimals\n",
      " ACTUAL: 1.2725158772183938\n",
      " DESIRED: 214.744\n",
      "\n",
      "----------------------------------------------------------------------\n",
      "Ran 7 tests in 0.008s\n",
      "\n",
      "FAILED (failures=1, errors=1)\n"
     ]
    }
   ],
   "source": [
    "test_symbolic_integration_bravo(Constant, Variable, Sum, Product, Power, Sin, Cos, Tan, E, Exponent, Ln, Log)\n",
    "test_symbolic_integration_bravo_eq(Constant, Variable, Sum, Product, Power, Sin, Cos, Tan, E, Exponent, Ln, Log)"
   ]
  },
  {
   "cell_type": "markdown",
   "metadata": {
    "deletable": false,
    "editable": false
   },
   "source": [
    "## Opdracht 34\n",
    "In de cel hieronder worden een paar sommen gegenereerd met betrekking tot integralen. Maak deze in de gele cel daaronder, en laat zien hoe je op je antwoord gekomen bent."
   ]
  },
  {
   "cell_type": "code",
   "execution_count": 76,
   "metadata": {
    "deletable": false,
    "editable": false
   },
   "outputs": [
    {
     "data": {
      "text/markdown": [
       "**(a)** Bereken $$\\int \\sqrt[6]x^3\\ dx$$"
      ],
      "text/plain": [
       "<IPython.core.display.Markdown object>"
      ]
     },
     "metadata": {},
     "output_type": "display_data"
    },
    {
     "data": {
      "text/markdown": [
       "<details><pre>$$\\int \\sqrt[6]x^3\\ dx$$</pre></details>"
      ],
      "text/plain": [
       "<IPython.core.display.Markdown object>"
      ]
     },
     "metadata": {},
     "output_type": "display_data"
    },
    {
     "data": {
      "text/markdown": [
       "**(b)** Bereken $$\\int_3^8 2e^x\\ dx$$"
      ],
      "text/plain": [
       "<IPython.core.display.Markdown object>"
      ]
     },
     "metadata": {},
     "output_type": "display_data"
    },
    {
     "data": {
      "text/markdown": [
       "<details><pre>$$\\int_3^8 2e^x\\ dx$$</pre></details>"
      ],
      "text/plain": [
       "<IPython.core.display.Markdown object>"
      ]
     },
     "metadata": {},
     "output_type": "display_data"
    },
    {
     "data": {
      "text/markdown": [
       "**(c)** Bereken $$\\int_{\\frac{3}{2}\\pi}^{\\frac{6}{2}\\pi} -3 \\text{sin}(x)\\ dx$$"
      ],
      "text/plain": [
       "<IPython.core.display.Markdown object>"
      ]
     },
     "metadata": {},
     "output_type": "display_data"
    },
    {
     "data": {
      "text/markdown": [
       "<details><pre>$$\\int_{\\frac{3}{2}\\pi}^{\\frac{6}{2}\\pi} -3 \\text{sin}(x)\\ dx$$</pre></details>"
      ],
      "text/plain": [
       "<IPython.core.display.Markdown object>"
      ]
     },
     "metadata": {},
     "output_type": "display_data"
    },
    {
     "data": {
      "text/markdown": [
       "**(d)** Bereken $$\\int (30x^5)(5x^6+8)^4\\ dx$$"
      ],
      "text/plain": [
       "<IPython.core.display.Markdown object>"
      ]
     },
     "metadata": {},
     "output_type": "display_data"
    },
    {
     "data": {
      "text/markdown": [
       "<details><pre>$$\\int (30x^5)(5x^6+8)^4\\ dx$$</pre></details>"
      ],
      "text/plain": [
       "<IPython.core.display.Markdown object>"
      ]
     },
     "metadata": {},
     "output_type": "display_data"
    },
    {
     "data": {
      "text/markdown": [
       "**(e)** Bereken $$\\int (4x^5)\\text{log}_4(x)\\ dx$$"
      ],
      "text/plain": [
       "<IPython.core.display.Markdown object>"
      ]
     },
     "metadata": {},
     "output_type": "display_data"
    },
    {
     "data": {
      "text/markdown": [
       "<details><pre>$$\\int (4x^5)\\text{log}_4(x)\\ dx$$</pre></details>"
      ],
      "text/plain": [
       "<IPython.core.display.Markdown object>"
      ]
     },
     "metadata": {},
     "output_type": "display_data"
    }
   ],
   "source": [
    "RNG().set(1)\n",
    "random_integrals()"
   ]
  },
  {
   "cell_type": "markdown",
   "metadata": {},
   "source": [
    "<div style=\"background:#fffff0;\">\n",
    "    \n",
    "**(a)** $\\int \\sqrt[6]x^3\\ = \\int x^(\\frac{3}{6}) = 2/3x^(1\\frac{1}{2}) + C$\n",
    "\n",
    "<hr />\n",
    "    \n",
    "**(b)** $ \\int_3^8 2e^x\\ dx = 2* \\int_3^8 e^x\\ dx  = 2*e^x + C$\n",
    "\n",
    "<hr />\n",
    "    \n",
    "**(c)** $ \\int_{\\frac{3}{2}\\pi}^{\\frac{6}{2}\\pi} -3 * \\text{sin}(x)\\ dx = -3 * \\int_{\\frac{3}{2}\\pi}^{\\frac{6}{2}\\pi}  \\text{sin}(x)\\ dx = -3 * \\int_{\\frac{3}{2}\\pi}^{\\frac{6}{2}\\pi}  \\text{-cos}(x)\\ dx = 3  \\text{cos}(x)\\ dx$\n",
    "\n",
    "<hr />\n",
    "    \n",
    "**(d)** $\\int (30x^5)(5x^6+8)^4\\ dx | u = 5x^6 + 8, du/dx = 30x^5, dx = 1/30x^5, du = \\int u^4du -> \\text{Power rule geeft: } u^5/5 -> (5x^6 + 8)^5 / 5 + C  $\n",
    "\n",
    "<hr />\n",
    "    \n",
    "**(e)** $ \\int (4x^5)\\text{log}_4(x)\\ dx | f(x) = 2/3x^6 en g(x) = 1/ln(4)*1/x | f(x)g'(x)-\\int f(x)*g(x)dx = 2/3x^6*\\text{log}_4(x)-\\int2/3x^6*1/ln(4)*1/x = 2/3x^6*\\text{log}_4(x)-\\int 2/3x^5 * ln(4)$\n",
    "\n",
    "</div>"
   ]
  },
  {
   "cell_type": "code",
   "execution_count": null,
   "metadata": {},
   "outputs": [],
   "source": [
    " Power rule: u^ndu = (u^n+1)/(n+1)"
   ]
  },
  {
   "cell_type": "markdown",
   "metadata": {
    "deletable": false,
    "editable": false
   },
   "source": [
    "## Opdracht 35\n",
    "In sommige gevallen hebben we een formule om een verandering te bepalen, maar niet om de waarde op een bepaald tijdstip te bepalen. We hebben de afgeleide van een formule, en kunnen misschien een enkele meting doen, en moeten hiermee proberen de niet-afgeleide formule te bepalen. Dit noemen we differentiaal-vergelijkingen. We weten hoe we met de indefinite integral een een soort anti-afgeleide kunnen vinden, maar hiermee vinden we eigenlijk een oneindige set van mogelijke formules: de onbekende constante $C$ die we aan het einde bij de integraal optellen kan namelijk alles zijn. We hebben de waarde van de originele formule op een enkel punt nodig om deze $C$ te bepalen en de originele formule te vinden.\n",
    "\n",
    "Hieronder staat een random differentiaal-vergelijking. Je krijgt de afgeleide van een formule, in combinatie met de waarde van de originele formule op een bepaalde waarde. Bereken de originele formule en pas deze toe op de gevraagde waarde."
   ]
  },
  {
   "cell_type": "code",
   "execution_count": 77,
   "metadata": {
    "deletable": false,
    "editable": false
   },
   "outputs": [
    {
     "data": {
      "text/markdown": [
       "Vind $f(11)$ gegeven de volgende afgeleidde en waarde:\n",
       "\n",
       "$$f^\\prime(x) = 24x^3+9e^x,\\ f(6) = 7668+9e^{6}$$"
      ],
      "text/plain": [
       "<IPython.core.display.Markdown object>"
      ]
     },
     "metadata": {},
     "output_type": "display_data"
    },
    {
     "data": {
      "text/markdown": [
       "LaTeX-code van de afgeleide: <details><pre>f^\\prime(x) = 24x^3+9e^x</pre></details>"
      ],
      "text/plain": [
       "<IPython.core.display.Markdown object>"
      ]
     },
     "metadata": {},
     "output_type": "display_data"
    },
    {
     "data": {
      "text/markdown": [
       "LaTeX-code van de functie op 6: <details><pre>f(6) = 7668+9e^{6}</pre></details>"
      ],
      "text/plain": [
       "<IPython.core.display.Markdown object>"
      ]
     },
     "metadata": {},
     "output_type": "display_data"
    }
   ],
   "source": [
    "RNG().set(2)\n",
    "random_de()"
   ]
  },
  {
   "cell_type": "markdown",
   "metadata": {},
   "source": [
    "<div style=\"background:#fffff0;\">\n",
    "    \n",
    "$f^\\prime(x) = 24x^3+9e^x | f(x)= 9e^x + 6x^4 + C| \\text{uit f(6) geeft 9e^6 uit 9e^x dus x is 6 wat geeft: } 9e^x + 6*6^4 + C= 9e^x + 7776 + C | \\text{C is dan:  } 7668 - 7776 = -108 | f(x) = 9e^x + 6x^4 -108 | f(11) = 9e^11 + 6*11^4 -108 = 87738$\n",
    "    \n",
    "De uitkomst van de formule op de gevraagde waarde is $87738$\n",
    "\n",
    "</div>"
   ]
  },
  {
   "cell_type": "markdown",
   "metadata": {
    "deletable": false,
    "editable": false
   },
   "source": [
    "## Opdracht 36\n",
    "Als afsluiter hebben we nog een differentiaalvergelijking: Gegeven\n",
    "\n",
    "$$f^\\prime = x^2 + xy + y^2, \\quad f(0) = 1$$\n",
    "\n",
    "bepaal $f(0.95)$.\n",
    "\n",
    "Deze formule is wat lastiger met de kennis die we nu van calculus hebben (kudos als het je lukt met de hand), dus we nemen een shortcut en gaan deze numeriek oplossen. Dit doen we met Euler's method, waarbij we een stapgrootte $\\delta_x = 0.025$ hanteren. Dit komt neer op 38 stappen nieuwe $x$- en $y$-waardes berekenen, en hier heeft niemand zin in. Gelukkig zijn we programmeurs!\n",
    "\n",
    "Schrijf een functie `euler()` die, gegeven een afgeleide van een functie (de Python-functie `afgeleide_functie()`), een start $x$ (in dit geval $0$), een start $y$ (in dit geval $1$), een $\\delta_x$ (in dit geval $0.025$) en een $\\text{target}_x$ (in dit geval $0.9$) de waarde van $f(0.9)$ bepaalt."
   ]
  },
  {
   "cell_type": "code",
   "execution_count": null,
   "metadata": {},
   "outputs": [],
   "source": [
    "def afgeleide_functie(x,y):\n",
    "    return x**2 + x*y + y**2\n",
    "\n",
    "def euler(f_prime, initial_x, initial_y, delta_x, target_x ): \n",
    "    pass"
   ]
  },
  {
   "cell_type": "markdown",
   "metadata": {
    "deletable": false,
    "editable": false
   },
   "source": [
    "### Tests\n",
    "De enige test voor deze functie is of de uiteindelijke waarde voor $f(0.9)$ klopt met de gegeven startcondities en stapgrootte."
   ]
  },
  {
   "cell_type": "code",
   "execution_count": null,
   "metadata": {
    "deletable": false,
    "editable": false
   },
   "outputs": [],
   "source": [
    "test_euler(afgeleide_functie, euler)"
   ]
  },
  {
   "cell_type": "markdown",
   "metadata": {
    "deletable": false,
    "editable": false
   },
   "source": [
    "# Checkpoint Delta  <a id='cp-delta'></a>\n",
    "Als je alles hierboven hebt gemaakt kun je je werk inleveren. Als de testen aangeven dat er nog fouten in zitten, probeer deze dan te verbeteren, maar schroom ook niet om de docent om hulp te vragen als je er niet uitkomt.\n",
    "\n",
    "Om je werk in te leveren moet je er allereerst voor zorgen dat je Notebook is opgeslagen (ctrl-s of het icoontje in de toolbar). Daarna kun je een Git-commit maken en deze naar je eigen GitHub of GitLab pushen. De link naar je repository is uiteindelijk wat je inlevert op Canvas, om de docent een seintje te geven dat er werk te beoordelen is."
   ]
  }
 ],
 "metadata": {
  "celltoolbar": "Edit Metadata",
  "kernelspec": {
   "display_name": "Python 3",
   "language": "python",
   "name": "python3"
  },
  "language_info": {
   "codemirror_mode": {
    "name": "ipython",
    "version": 3
   },
   "file_extension": ".py",
   "mimetype": "text/x-python",
   "name": "python",
   "nbconvert_exporter": "python",
   "pygments_lexer": "ipython3",
   "version": "3.7.4"
  }
 },
 "nbformat": 4,
 "nbformat_minor": 2
}
